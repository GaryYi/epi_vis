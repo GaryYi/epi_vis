{
 "cells": [
  {
   "cell_type": "code",
   "execution_count": 19,
   "metadata": {},
   "outputs": [
    {
     "data": {
      "application/vnd.plotly.v1+json": {
       "config": {
        "plotlyServerURL": "https://plot.ly"
       },
       "data": [
        {
         "hoverlabel": {
          "namelength": 0
         },
         "hovertemplate": "<b>%{hovertext}</b><br><br>city=%{text}<br>date=01-28<br>p=%{x}<br>beta=%{y}<br>size=%{marker.size}",
         "hovertext": [
          1905
         ],
         "legendgroup": "武汉",
         "marker": {
          "color": "#636efa",
          "size": [
           1905
          ],
          "sizemode": "area",
          "sizeref": 2.7606611570247934,
          "symbol": "circle"
         },
         "mode": "markers+text",
         "name": "武汉",
         "showlegend": true,
         "text": [
          "武汉"
         ],
         "type": "scatter",
         "x": [
          0.00017958652676829096
         ],
         "xaxis": "x",
         "y": [
          0.5315885706299052
         ],
         "yaxis": "y"
        },
        {
         "hoverlabel": {
          "namelength": 0
         },
         "hovertemplate": "<b>%{hovertext}</b><br><br>city=%{text}<br>date=01-28<br>p=%{x}<br>beta=%{y}<br>size=%{marker.size}",
         "hovertext": [
          324
         ],
         "legendgroup": "黄冈",
         "marker": {
          "color": "#EF553B",
          "size": [
           324
          ],
          "sizemode": "area",
          "sizeref": 2.7606611570247934,
          "symbol": "circle"
         },
         "mode": "markers+text",
         "name": "黄冈",
         "showlegend": true,
         "text": [
          "黄冈"
         ],
         "type": "scatter",
         "x": [
          5.1502145922746775e-05
         ],
         "xaxis": "x",
         "y": [
          0.4578403262571028
         ],
         "yaxis": "y"
        },
        {
         "hoverlabel": {
          "namelength": 0
         },
         "hovertemplate": "<b>%{hovertext}</b><br><br>city=%{text}<br>date=01-28<br>p=%{x}<br>beta=%{y}<br>size=%{marker.size}",
         "hovertext": [
          274
         ],
         "legendgroup": "孝感",
         "marker": {
          "color": "#00cc96",
          "size": [
           274
          ],
          "sizemode": "area",
          "sizeref": 2.7606611570247934,
          "symbol": "circle"
         },
         "mode": "markers+text",
         "name": "孝感",
         "showlegend": true,
         "text": [
          "孝感"
         ],
         "type": "scatter",
         "x": [
          5.6170561705617064e-05
         ],
         "xaxis": "x",
         "y": [
          0.68390866724152
         ],
         "yaxis": "y"
        },
        {
         "hoverlabel": {
          "namelength": 0
         },
         "hovertemplate": "<b>%{hovertext}</b><br><br>city=%{text}<br>date=01-28<br>p=%{x}<br>beta=%{y}<br>size=%{marker.size}",
         "hovertext": [
          131
         ],
         "legendgroup": "襄阳",
         "marker": {
          "color": "#ab63fa",
          "size": [
           131
          ],
          "sizemode": "area",
          "sizeref": 2.7606611570247934,
          "symbol": "circle"
         },
         "mode": "markers+text",
         "name": "襄阳",
         "showlegend": true,
         "text": [
          "襄阳"
         ],
         "type": "scatter",
         "x": [
          2.333452084075525e-05
         ],
         "xaxis": "x",
         "y": [
          1.5529836126617127
         ],
         "yaxis": "y"
        },
        {
         "hoverlabel": {
          "namelength": 0
         },
         "hovertemplate": "<b>%{hovertext}</b><br><br>city=%{text}<br>date=01-28<br>p=%{x}<br>beta=%{y}<br>size=%{marker.size}",
         "hovertext": [
          101
         ],
         "legendgroup": "荆州",
         "marker": {
          "color": "#FFA15A",
          "size": [
           101
          ],
          "sizemode": "area",
          "sizeref": 2.7606611570247934,
          "symbol": "circle"
         },
         "mode": "markers+text",
         "name": "荆州",
         "showlegend": true,
         "text": [
          "荆州"
         ],
         "type": "scatter",
         "x": [
          1.7700976182547892e-05
         ],
         "xaxis": "x",
         "y": [
          0.5171060237864649
         ],
         "yaxis": "y"
        },
        {
         "hoverlabel": {
          "namelength": 0
         },
         "hovertemplate": "<b>%{hovertext}</b><br><br>city=%{text}<br>date=01-28<br>p=%{x}<br>beta=%{y}<br>size=%{marker.size}",
         "hovertext": [
          142
         ],
         "legendgroup": "荆门",
         "marker": {
          "color": "#19d3f3",
          "size": [
           142
          ],
          "sizemode": "area",
          "sizeref": 2.7606611570247934,
          "symbol": "circle"
         },
         "mode": "markers+text",
         "name": "荆门",
         "showlegend": true,
         "text": [
          "荆门"
         ],
         "type": "scatter",
         "x": [
          4.90280702965853e-05
         ],
         "xaxis": "x",
         "y": [
          0.6078035737295161
         ],
         "yaxis": "y"
        },
        {
         "hoverlabel": {
          "namelength": 0
         },
         "hovertemplate": "<b>%{hovertext}</b><br><br>city=%{text}<br>date=01-28<br>p=%{x}<br>beta=%{y}<br>size=%{marker.size}",
         "hovertext": [
          86
         ],
         "legendgroup": "黄石",
         "marker": {
          "color": "#FF6692",
          "size": [
           86
          ],
          "sizemode": "area",
          "sizeref": 2.7606611570247934,
          "symbol": "circle"
         },
         "mode": "markers+text",
         "name": "黄石",
         "showlegend": true,
         "text": [
          "黄石"
         ],
         "type": "scatter",
         "x": [
          3.498779495524817e-05
         ],
         "xaxis": "x",
         "y": [
          0.4663551249657565
         ],
         "yaxis": "y"
        },
        {
         "hoverlabel": {
          "namelength": 0
         },
         "hovertemplate": "<b>%{hovertext}</b><br><br>city=%{text}<br>date=01-28<br>p=%{x}<br>beta=%{y}<br>size=%{marker.size}",
         "hovertext": [
          32
         ],
         "legendgroup": "仙桃",
         "marker": {
          "color": "#B6E880",
          "size": [
           32
          ],
          "sizemode": "area",
          "sizeref": 2.7606611570247934,
          "symbol": "circle"
         },
         "mode": "markers+text",
         "name": "仙桃",
         "showlegend": true,
         "text": [
          "仙桃"
         ],
         "type": "scatter",
         "x": [
          2.0512820512820515e-05
         ],
         "xaxis": "x",
         "y": [
          0.5113702105260567
         ],
         "yaxis": "y"
        },
        {
         "hoverlabel": {
          "namelength": 0
         },
         "hovertemplate": "<b>%{hovertext}</b><br><br>city=%{text}<br>date=01-28<br>p=%{x}<br>beta=%{y}<br>size=%{marker.size}",
         "hovertext": [
          34
         ],
         "legendgroup": "天门",
         "marker": {
          "color": "#FF97FF",
          "size": [
           34
          ],
          "sizemode": "area",
          "sizeref": 2.7606611570247934,
          "symbol": "circle"
         },
         "mode": "markers+text",
         "name": "天门",
         "showlegend": true,
         "text": [
          "天门"
         ],
         "type": "scatter",
         "x": [
          2.677165354330709e-05
         ],
         "xaxis": "x",
         "y": [
          0.7993025657511521
         ],
         "yaxis": "y"
        },
        {
         "hoverlabel": {
          "namelength": 0
         },
         "hovertemplate": "<b>%{hovertext}</b><br><br>city=%{text}<br>date=01-28<br>p=%{x}<br>beta=%{y}<br>size=%{marker.size}",
         "hovertext": [
          116
         ],
         "legendgroup": "随州",
         "marker": {
          "color": "#FECB52",
          "size": [
           116
          ],
          "sizemode": "area",
          "sizeref": 2.7606611570247934,
          "symbol": "circle"
         },
         "mode": "markers+text",
         "name": "随州",
         "showlegend": true,
         "text": [
          "随州"
         ],
         "type": "scatter",
         "x": [
          5.294869454080701e-05
         ],
         "xaxis": "x",
         "y": [
          0.5232500452977967
         ],
         "yaxis": "y"
        },
        {
         "hoverlabel": {
          "namelength": 0
         },
         "hovertemplate": "<b>%{hovertext}</b><br><br>city=%{text}<br>date=01-28<br>p=%{x}<br>beta=%{y}<br>size=%{marker.size}",
         "hovertext": [
          112
         ],
         "legendgroup": "咸宁",
         "marker": {
          "color": "#636efa",
          "size": [
           112
          ],
          "sizemode": "area",
          "sizeref": 2.7606611570247934,
          "symbol": "circle"
         },
         "mode": "markers+text",
         "name": "咸宁",
         "showlegend": true,
         "text": [
          "咸宁"
         ],
         "type": "scatter",
         "x": [
          4.467491025129637e-05
         ],
         "xaxis": "x",
         "y": [
          0.4745398649512145
         ],
         "yaxis": "y"
        },
        {
         "hoverlabel": {
          "namelength": 0
         },
         "hovertemplate": "<b>%{hovertext}</b><br><br>city=%{text}<br>date=01-28<br>p=%{x}<br>beta=%{y}<br>size=%{marker.size}",
         "hovertext": [
          88
         ],
         "legendgroup": "十堰",
         "marker": {
          "color": "#EF553B",
          "size": [
           88
          ],
          "sizemode": "area",
          "sizeref": 2.7606611570247934,
          "symbol": "circle"
         },
         "mode": "markers+text",
         "name": "十堰",
         "showlegend": true,
         "text": [
          "十堰"
         ],
         "type": "scatter",
         "x": [
          2.601241501625776e-05
         ],
         "xaxis": "x",
         "y": [
          0.6536487730800009
         ],
         "yaxis": "y"
        },
        {
         "hoverlabel": {
          "namelength": 0
         },
         "hovertemplate": "<b>%{hovertext}</b><br><br>city=%{text}<br>date=01-28<br>p=%{x}<br>beta=%{y}<br>size=%{marker.size}",
         "hovertext": [
          63
         ],
         "legendgroup": "宜昌",
         "marker": {
          "color": "#00cc96",
          "size": [
           63
          ],
          "sizemode": "area",
          "sizeref": 2.7606611570247934,
          "symbol": "circle"
         },
         "mode": "markers+text",
         "name": "宜昌",
         "showlegend": true,
         "text": [
          "宜昌"
         ],
         "type": "scatter",
         "x": [
          1.5309842041312272e-05
         ],
         "xaxis": "x",
         "y": [
          0.5415306152890009
         ],
         "yaxis": "y"
        },
        {
         "hoverlabel": {
          "namelength": 0
         },
         "hovertemplate": "<b>%{hovertext}</b><br><br>city=%{text}<br>date=01-28<br>p=%{x}<br>beta=%{y}<br>size=%{marker.size}",
         "hovertext": [
          51
         ],
         "legendgroup": "恩施",
         "marker": {
          "color": "#ab63fa",
          "size": [
           51
          ],
          "sizemode": "area",
          "sizeref": 2.7606611570247934,
          "symbol": "circle"
         },
         "mode": "markers+text",
         "name": "恩施",
         "showlegend": true,
         "text": [
          "恩施"
         ],
         "type": "scatter",
         "x": [
          1.532912533814247e-05
         ],
         "xaxis": "x",
         "y": [
          0.515803435087015
         ],
         "yaxis": "y"
        },
        {
         "hoverlabel": {
          "namelength": 0
         },
         "hovertemplate": "<b>%{hovertext}</b><br><br>city=%{text}<br>date=01-28<br>p=%{x}<br>beta=%{y}<br>size=%{marker.size}",
         "hovertext": [
          84
         ],
         "legendgroup": "鄂州",
         "marker": {
          "color": "#FFA15A",
          "size": [
           84
          ],
          "sizemode": "area",
          "sizeref": 2.7606611570247934,
          "symbol": "circle"
         },
         "mode": "markers+text",
         "name": "鄂州",
         "showlegend": true,
         "text": [
          "鄂州"
         ],
         "type": "scatter",
         "x": [
          7.928268050967436e-05
         ],
         "xaxis": "x",
         "y": [
          1.6419396449543495
         ],
         "yaxis": "y"
        },
        {
         "hoverlabel": {
          "namelength": 0
         },
         "hovertemplate": "<b>%{hovertext}</b><br><br>city=%{text}<br>date=01-28<br>p=%{x}<br>beta=%{y}<br>size=%{marker.size}",
         "hovertext": [
          63
         ],
         "legendgroup": "深圳",
         "marker": {
          "color": "#19d3f3",
          "size": [
           63
          ],
          "sizemode": "area",
          "sizeref": 2.7606611570247934,
          "symbol": "circle"
         },
         "mode": "markers+text",
         "name": "深圳",
         "showlegend": true,
         "text": [
          "深圳"
         ],
         "type": "scatter",
         "x": [
          5.538169415239636e-06
         ],
         "xaxis": "x",
         "y": [
          0.42851420839591176
         ],
         "yaxis": "y"
        },
        {
         "hoverlabel": {
          "namelength": 0
         },
         "hovertemplate": "<b>%{hovertext}</b><br><br>city=%{text}<br>date=01-28<br>p=%{x}<br>beta=%{y}<br>size=%{marker.size}",
         "hovertext": [
          63
         ],
         "legendgroup": "广州",
         "marker": {
          "color": "#FF6692",
          "size": [
           63
          ],
          "sizemode": "area",
          "sizeref": 2.7606611570247934,
          "symbol": "circle"
         },
         "mode": "markers+text",
         "name": "广州",
         "showlegend": true,
         "text": [
          "广州"
         ],
         "type": "scatter",
         "x": [
          4.667496443812233e-06
         ],
         "xaxis": "x",
         "y": [
          0.6739076735324969
         ],
         "yaxis": "y"
        },
        {
         "hoverlabel": {
          "namelength": 0
         },
         "hovertemplate": "<b>%{hovertext}</b><br><br>city=%{text}<br>date=01-28<br>p=%{x}<br>beta=%{y}<br>size=%{marker.size}",
         "hovertext": [
          14
         ],
         "legendgroup": "珠海",
         "marker": {
          "color": "#B6E880",
          "size": [
           14
          ],
          "sizemode": "area",
          "sizeref": 2.7606611570247934,
          "symbol": "circle"
         },
         "mode": "markers+text",
         "name": "珠海",
         "showlegend": true,
         "text": [
          "珠海"
         ],
         "type": "scatter",
         "x": [
          8.570029382957885e-06
         ],
         "xaxis": "x",
         "y": [
          0.2535130388073217
         ],
         "yaxis": "y"
        },
        {
         "hoverlabel": {
          "namelength": 0
         },
         "hovertemplate": "<b>%{hovertext}</b><br><br>city=%{text}<br>date=01-28<br>p=%{x}<br>beta=%{y}<br>size=%{marker.size}",
         "hovertext": [
          11
         ],
         "legendgroup": "新余",
         "marker": {
          "color": "#FF97FF",
          "size": [
           11
          ],
          "sizemode": "area",
          "sizeref": 2.7606611570247934,
          "symbol": "circle"
         },
         "mode": "markers+text",
         "name": "新余",
         "showlegend": true,
         "text": [
          "新余"
         ],
         "type": "scatter",
         "x": [
          9.4283020485129e-06
         ],
         "xaxis": "x",
         "y": [
          0.9269400450742964
         ],
         "yaxis": "y"
        },
        {
         "hoverlabel": {
          "namelength": 0
         },
         "hovertemplate": "<b>%{hovertext}</b><br><br>city=%{text}<br>date=01-28<br>p=%{x}<br>beta=%{y}<br>size=%{marker.size}",
         "hovertext": [
          114
         ],
         "legendgroup": "温州",
         "marker": {
          "color": "#FECB52",
          "size": [
           114
          ],
          "sizemode": "area",
          "sizeref": 2.7606611570247934,
          "symbol": "circle"
         },
         "mode": "markers+text",
         "name": "温州",
         "showlegend": true,
         "text": [
          "温州"
         ],
         "type": "scatter",
         "x": [
          1.2504113195129974e-05
         ],
         "xaxis": "x",
         "y": [
          0.7563090286177426
         ],
         "yaxis": "y"
        },
        {
         "hoverlabel": {
          "namelength": 0
         },
         "hovertemplate": "<b>%{hovertext}</b><br><br>city=%{text}<br>date=01-28<br>p=%{x}<br>beta=%{y}<br>size=%{marker.size}",
         "hovertext": [
          102
         ],
         "legendgroup": "北京",
         "marker": {
          "color": "#636efa",
          "size": [
           102
          ],
          "sizemode": "area",
          "sizeref": 2.7606611570247934,
          "symbol": "circle"
         },
         "mode": "markers+text",
         "name": "北京",
         "showlegend": true,
         "text": [
          "北京"
         ],
         "type": "scatter",
         "x": [
          4.6993780234968906e-06
         ],
         "xaxis": "x",
         "y": [
          0.3745953794188057
         ],
         "yaxis": "y"
        },
        {
         "hoverlabel": {
          "namelength": 0
         },
         "hovertemplate": "<b>%{hovertext}</b><br><br>city=%{text}<br>date=01-28<br>p=%{x}<br>beta=%{y}<br>size=%{marker.size}",
         "hovertext": [
          80
         ],
         "legendgroup": "上海",
         "marker": {
          "color": "#EF553B",
          "size": [
           80
          ],
          "sizemode": "area",
          "sizeref": 2.7606611570247934,
          "symbol": "circle"
         },
         "mode": "markers+text",
         "name": "上海",
         "showlegend": true,
         "text": [
          "上海"
         ],
         "type": "scatter",
         "x": [
          3.312259084905621e-06
         ],
         "xaxis": "x",
         "y": [
          0.3797159636121643
         ],
         "yaxis": "y"
        }
       ],
       "frames": [
        {
         "data": [
          {
           "hoverlabel": {
            "namelength": 0
           },
           "hovertemplate": "<b>%{hovertext}</b><br><br>city=%{text}<br>date=01-28<br>p=%{x}<br>beta=%{y}<br>size=%{marker.size}",
           "hovertext": [
            1905
           ],
           "legendgroup": "武汉",
           "marker": {
            "color": "#636efa",
            "size": [
             1905
            ],
            "sizemode": "area",
            "sizeref": 2.7606611570247934,
            "symbol": "circle"
           },
           "mode": "markers+text",
           "name": "武汉",
           "showlegend": true,
           "text": [
            "武汉"
           ],
           "type": "scatter",
           "x": [
            0.00017958652676829096
           ],
           "xaxis": "x",
           "y": [
            0.5315885706299052
           ],
           "yaxis": "y"
          },
          {
           "hoverlabel": {
            "namelength": 0
           },
           "hovertemplate": "<b>%{hovertext}</b><br><br>city=%{text}<br>date=01-28<br>p=%{x}<br>beta=%{y}<br>size=%{marker.size}",
           "hovertext": [
            324
           ],
           "legendgroup": "黄冈",
           "marker": {
            "color": "#EF553B",
            "size": [
             324
            ],
            "sizemode": "area",
            "sizeref": 2.7606611570247934,
            "symbol": "circle"
           },
           "mode": "markers+text",
           "name": "黄冈",
           "showlegend": true,
           "text": [
            "黄冈"
           ],
           "type": "scatter",
           "x": [
            5.1502145922746775e-05
           ],
           "xaxis": "x",
           "y": [
            0.4578403262571028
           ],
           "yaxis": "y"
          },
          {
           "hoverlabel": {
            "namelength": 0
           },
           "hovertemplate": "<b>%{hovertext}</b><br><br>city=%{text}<br>date=01-28<br>p=%{x}<br>beta=%{y}<br>size=%{marker.size}",
           "hovertext": [
            274
           ],
           "legendgroup": "孝感",
           "marker": {
            "color": "#00cc96",
            "size": [
             274
            ],
            "sizemode": "area",
            "sizeref": 2.7606611570247934,
            "symbol": "circle"
           },
           "mode": "markers+text",
           "name": "孝感",
           "showlegend": true,
           "text": [
            "孝感"
           ],
           "type": "scatter",
           "x": [
            5.6170561705617064e-05
           ],
           "xaxis": "x",
           "y": [
            0.68390866724152
           ],
           "yaxis": "y"
          },
          {
           "hoverlabel": {
            "namelength": 0
           },
           "hovertemplate": "<b>%{hovertext}</b><br><br>city=%{text}<br>date=01-28<br>p=%{x}<br>beta=%{y}<br>size=%{marker.size}",
           "hovertext": [
            131
           ],
           "legendgroup": "襄阳",
           "marker": {
            "color": "#ab63fa",
            "size": [
             131
            ],
            "sizemode": "area",
            "sizeref": 2.7606611570247934,
            "symbol": "circle"
           },
           "mode": "markers+text",
           "name": "襄阳",
           "showlegend": true,
           "text": [
            "襄阳"
           ],
           "type": "scatter",
           "x": [
            2.333452084075525e-05
           ],
           "xaxis": "x",
           "y": [
            1.5529836126617127
           ],
           "yaxis": "y"
          },
          {
           "hoverlabel": {
            "namelength": 0
           },
           "hovertemplate": "<b>%{hovertext}</b><br><br>city=%{text}<br>date=01-28<br>p=%{x}<br>beta=%{y}<br>size=%{marker.size}",
           "hovertext": [
            101
           ],
           "legendgroup": "荆州",
           "marker": {
            "color": "#FFA15A",
            "size": [
             101
            ],
            "sizemode": "area",
            "sizeref": 2.7606611570247934,
            "symbol": "circle"
           },
           "mode": "markers+text",
           "name": "荆州",
           "showlegend": true,
           "text": [
            "荆州"
           ],
           "type": "scatter",
           "x": [
            1.7700976182547892e-05
           ],
           "xaxis": "x",
           "y": [
            0.5171060237864649
           ],
           "yaxis": "y"
          },
          {
           "hoverlabel": {
            "namelength": 0
           },
           "hovertemplate": "<b>%{hovertext}</b><br><br>city=%{text}<br>date=01-28<br>p=%{x}<br>beta=%{y}<br>size=%{marker.size}",
           "hovertext": [
            142
           ],
           "legendgroup": "荆门",
           "marker": {
            "color": "#19d3f3",
            "size": [
             142
            ],
            "sizemode": "area",
            "sizeref": 2.7606611570247934,
            "symbol": "circle"
           },
           "mode": "markers+text",
           "name": "荆门",
           "showlegend": true,
           "text": [
            "荆门"
           ],
           "type": "scatter",
           "x": [
            4.90280702965853e-05
           ],
           "xaxis": "x",
           "y": [
            0.6078035737295161
           ],
           "yaxis": "y"
          },
          {
           "hoverlabel": {
            "namelength": 0
           },
           "hovertemplate": "<b>%{hovertext}</b><br><br>city=%{text}<br>date=01-28<br>p=%{x}<br>beta=%{y}<br>size=%{marker.size}",
           "hovertext": [
            86
           ],
           "legendgroup": "黄石",
           "marker": {
            "color": "#FF6692",
            "size": [
             86
            ],
            "sizemode": "area",
            "sizeref": 2.7606611570247934,
            "symbol": "circle"
           },
           "mode": "markers+text",
           "name": "黄石",
           "showlegend": true,
           "text": [
            "黄石"
           ],
           "type": "scatter",
           "x": [
            3.498779495524817e-05
           ],
           "xaxis": "x",
           "y": [
            0.4663551249657565
           ],
           "yaxis": "y"
          },
          {
           "hoverlabel": {
            "namelength": 0
           },
           "hovertemplate": "<b>%{hovertext}</b><br><br>city=%{text}<br>date=01-28<br>p=%{x}<br>beta=%{y}<br>size=%{marker.size}",
           "hovertext": [
            32
           ],
           "legendgroup": "仙桃",
           "marker": {
            "color": "#B6E880",
            "size": [
             32
            ],
            "sizemode": "area",
            "sizeref": 2.7606611570247934,
            "symbol": "circle"
           },
           "mode": "markers+text",
           "name": "仙桃",
           "showlegend": true,
           "text": [
            "仙桃"
           ],
           "type": "scatter",
           "x": [
            2.0512820512820515e-05
           ],
           "xaxis": "x",
           "y": [
            0.5113702105260567
           ],
           "yaxis": "y"
          },
          {
           "hoverlabel": {
            "namelength": 0
           },
           "hovertemplate": "<b>%{hovertext}</b><br><br>city=%{text}<br>date=01-28<br>p=%{x}<br>beta=%{y}<br>size=%{marker.size}",
           "hovertext": [
            34
           ],
           "legendgroup": "天门",
           "marker": {
            "color": "#FF97FF",
            "size": [
             34
            ],
            "sizemode": "area",
            "sizeref": 2.7606611570247934,
            "symbol": "circle"
           },
           "mode": "markers+text",
           "name": "天门",
           "showlegend": true,
           "text": [
            "天门"
           ],
           "type": "scatter",
           "x": [
            2.677165354330709e-05
           ],
           "xaxis": "x",
           "y": [
            0.7993025657511521
           ],
           "yaxis": "y"
          },
          {
           "hoverlabel": {
            "namelength": 0
           },
           "hovertemplate": "<b>%{hovertext}</b><br><br>city=%{text}<br>date=01-28<br>p=%{x}<br>beta=%{y}<br>size=%{marker.size}",
           "hovertext": [
            116
           ],
           "legendgroup": "随州",
           "marker": {
            "color": "#FECB52",
            "size": [
             116
            ],
            "sizemode": "area",
            "sizeref": 2.7606611570247934,
            "symbol": "circle"
           },
           "mode": "markers+text",
           "name": "随州",
           "showlegend": true,
           "text": [
            "随州"
           ],
           "type": "scatter",
           "x": [
            5.294869454080701e-05
           ],
           "xaxis": "x",
           "y": [
            0.5232500452977967
           ],
           "yaxis": "y"
          },
          {
           "hoverlabel": {
            "namelength": 0
           },
           "hovertemplate": "<b>%{hovertext}</b><br><br>city=%{text}<br>date=01-28<br>p=%{x}<br>beta=%{y}<br>size=%{marker.size}",
           "hovertext": [
            112
           ],
           "legendgroup": "咸宁",
           "marker": {
            "color": "#636efa",
            "size": [
             112
            ],
            "sizemode": "area",
            "sizeref": 2.7606611570247934,
            "symbol": "circle"
           },
           "mode": "markers+text",
           "name": "咸宁",
           "showlegend": true,
           "text": [
            "咸宁"
           ],
           "type": "scatter",
           "x": [
            4.467491025129637e-05
           ],
           "xaxis": "x",
           "y": [
            0.4745398649512145
           ],
           "yaxis": "y"
          },
          {
           "hoverlabel": {
            "namelength": 0
           },
           "hovertemplate": "<b>%{hovertext}</b><br><br>city=%{text}<br>date=01-28<br>p=%{x}<br>beta=%{y}<br>size=%{marker.size}",
           "hovertext": [
            88
           ],
           "legendgroup": "十堰",
           "marker": {
            "color": "#EF553B",
            "size": [
             88
            ],
            "sizemode": "area",
            "sizeref": 2.7606611570247934,
            "symbol": "circle"
           },
           "mode": "markers+text",
           "name": "十堰",
           "showlegend": true,
           "text": [
            "十堰"
           ],
           "type": "scatter",
           "x": [
            2.601241501625776e-05
           ],
           "xaxis": "x",
           "y": [
            0.6536487730800009
           ],
           "yaxis": "y"
          },
          {
           "hoverlabel": {
            "namelength": 0
           },
           "hovertemplate": "<b>%{hovertext}</b><br><br>city=%{text}<br>date=01-28<br>p=%{x}<br>beta=%{y}<br>size=%{marker.size}",
           "hovertext": [
            63
           ],
           "legendgroup": "宜昌",
           "marker": {
            "color": "#00cc96",
            "size": [
             63
            ],
            "sizemode": "area",
            "sizeref": 2.7606611570247934,
            "symbol": "circle"
           },
           "mode": "markers+text",
           "name": "宜昌",
           "showlegend": true,
           "text": [
            "宜昌"
           ],
           "type": "scatter",
           "x": [
            1.5309842041312272e-05
           ],
           "xaxis": "x",
           "y": [
            0.5415306152890009
           ],
           "yaxis": "y"
          },
          {
           "hoverlabel": {
            "namelength": 0
           },
           "hovertemplate": "<b>%{hovertext}</b><br><br>city=%{text}<br>date=01-28<br>p=%{x}<br>beta=%{y}<br>size=%{marker.size}",
           "hovertext": [
            51
           ],
           "legendgroup": "恩施",
           "marker": {
            "color": "#ab63fa",
            "size": [
             51
            ],
            "sizemode": "area",
            "sizeref": 2.7606611570247934,
            "symbol": "circle"
           },
           "mode": "markers+text",
           "name": "恩施",
           "showlegend": true,
           "text": [
            "恩施"
           ],
           "type": "scatter",
           "x": [
            1.532912533814247e-05
           ],
           "xaxis": "x",
           "y": [
            0.515803435087015
           ],
           "yaxis": "y"
          },
          {
           "hoverlabel": {
            "namelength": 0
           },
           "hovertemplate": "<b>%{hovertext}</b><br><br>city=%{text}<br>date=01-28<br>p=%{x}<br>beta=%{y}<br>size=%{marker.size}",
           "hovertext": [
            84
           ],
           "legendgroup": "鄂州",
           "marker": {
            "color": "#FFA15A",
            "size": [
             84
            ],
            "sizemode": "area",
            "sizeref": 2.7606611570247934,
            "symbol": "circle"
           },
           "mode": "markers+text",
           "name": "鄂州",
           "showlegend": true,
           "text": [
            "鄂州"
           ],
           "type": "scatter",
           "x": [
            7.928268050967436e-05
           ],
           "xaxis": "x",
           "y": [
            1.6419396449543495
           ],
           "yaxis": "y"
          },
          {
           "hoverlabel": {
            "namelength": 0
           },
           "hovertemplate": "<b>%{hovertext}</b><br><br>city=%{text}<br>date=01-28<br>p=%{x}<br>beta=%{y}<br>size=%{marker.size}",
           "hovertext": [
            63
           ],
           "legendgroup": "深圳",
           "marker": {
            "color": "#19d3f3",
            "size": [
             63
            ],
            "sizemode": "area",
            "sizeref": 2.7606611570247934,
            "symbol": "circle"
           },
           "mode": "markers+text",
           "name": "深圳",
           "showlegend": true,
           "text": [
            "深圳"
           ],
           "type": "scatter",
           "x": [
            5.538169415239636e-06
           ],
           "xaxis": "x",
           "y": [
            0.42851420839591176
           ],
           "yaxis": "y"
          },
          {
           "hoverlabel": {
            "namelength": 0
           },
           "hovertemplate": "<b>%{hovertext}</b><br><br>city=%{text}<br>date=01-28<br>p=%{x}<br>beta=%{y}<br>size=%{marker.size}",
           "hovertext": [
            63
           ],
           "legendgroup": "广州",
           "marker": {
            "color": "#FF6692",
            "size": [
             63
            ],
            "sizemode": "area",
            "sizeref": 2.7606611570247934,
            "symbol": "circle"
           },
           "mode": "markers+text",
           "name": "广州",
           "showlegend": true,
           "text": [
            "广州"
           ],
           "type": "scatter",
           "x": [
            4.667496443812233e-06
           ],
           "xaxis": "x",
           "y": [
            0.6739076735324969
           ],
           "yaxis": "y"
          },
          {
           "hoverlabel": {
            "namelength": 0
           },
           "hovertemplate": "<b>%{hovertext}</b><br><br>city=%{text}<br>date=01-28<br>p=%{x}<br>beta=%{y}<br>size=%{marker.size}",
           "hovertext": [
            14
           ],
           "legendgroup": "珠海",
           "marker": {
            "color": "#B6E880",
            "size": [
             14
            ],
            "sizemode": "area",
            "sizeref": 2.7606611570247934,
            "symbol": "circle"
           },
           "mode": "markers+text",
           "name": "珠海",
           "showlegend": true,
           "text": [
            "珠海"
           ],
           "type": "scatter",
           "x": [
            8.570029382957885e-06
           ],
           "xaxis": "x",
           "y": [
            0.2535130388073217
           ],
           "yaxis": "y"
          },
          {
           "hoverlabel": {
            "namelength": 0
           },
           "hovertemplate": "<b>%{hovertext}</b><br><br>city=%{text}<br>date=01-28<br>p=%{x}<br>beta=%{y}<br>size=%{marker.size}",
           "hovertext": [
            11
           ],
           "legendgroup": "新余",
           "marker": {
            "color": "#FF97FF",
            "size": [
             11
            ],
            "sizemode": "area",
            "sizeref": 2.7606611570247934,
            "symbol": "circle"
           },
           "mode": "markers+text",
           "name": "新余",
           "showlegend": true,
           "text": [
            "新余"
           ],
           "type": "scatter",
           "x": [
            9.4283020485129e-06
           ],
           "xaxis": "x",
           "y": [
            0.9269400450742964
           ],
           "yaxis": "y"
          },
          {
           "hoverlabel": {
            "namelength": 0
           },
           "hovertemplate": "<b>%{hovertext}</b><br><br>city=%{text}<br>date=01-28<br>p=%{x}<br>beta=%{y}<br>size=%{marker.size}",
           "hovertext": [
            114
           ],
           "legendgroup": "温州",
           "marker": {
            "color": "#FECB52",
            "size": [
             114
            ],
            "sizemode": "area",
            "sizeref": 2.7606611570247934,
            "symbol": "circle"
           },
           "mode": "markers+text",
           "name": "温州",
           "showlegend": true,
           "text": [
            "温州"
           ],
           "type": "scatter",
           "x": [
            1.2504113195129974e-05
           ],
           "xaxis": "x",
           "y": [
            0.7563090286177426
           ],
           "yaxis": "y"
          },
          {
           "hoverlabel": {
            "namelength": 0
           },
           "hovertemplate": "<b>%{hovertext}</b><br><br>city=%{text}<br>date=01-28<br>p=%{x}<br>beta=%{y}<br>size=%{marker.size}",
           "hovertext": [
            102
           ],
           "legendgroup": "北京",
           "marker": {
            "color": "#636efa",
            "size": [
             102
            ],
            "sizemode": "area",
            "sizeref": 2.7606611570247934,
            "symbol": "circle"
           },
           "mode": "markers+text",
           "name": "北京",
           "showlegend": true,
           "text": [
            "北京"
           ],
           "type": "scatter",
           "x": [
            4.6993780234968906e-06
           ],
           "xaxis": "x",
           "y": [
            0.3745953794188057
           ],
           "yaxis": "y"
          },
          {
           "hoverlabel": {
            "namelength": 0
           },
           "hovertemplate": "<b>%{hovertext}</b><br><br>city=%{text}<br>date=01-28<br>p=%{x}<br>beta=%{y}<br>size=%{marker.size}",
           "hovertext": [
            80
           ],
           "legendgroup": "上海",
           "marker": {
            "color": "#EF553B",
            "size": [
             80
            ],
            "sizemode": "area",
            "sizeref": 2.7606611570247934,
            "symbol": "circle"
           },
           "mode": "markers+text",
           "name": "上海",
           "showlegend": true,
           "text": [
            "上海"
           ],
           "type": "scatter",
           "x": [
            3.312259084905621e-06
           ],
           "xaxis": "x",
           "y": [
            0.3797159636121643
           ],
           "yaxis": "y"
          }
         ],
         "name": "01-28"
        },
        {
         "data": [
          {
           "hoverlabel": {
            "namelength": 0
           },
           "hovertemplate": "<b>%{hovertext}</b><br><br>city=%{text}<br>date=01-29<br>p=%{x}<br>beta=%{y}<br>size=%{marker.size}",
           "hovertext": [
            2261
           ],
           "legendgroup": "武汉",
           "marker": {
            "color": "#636efa",
            "size": [
             2261
            ],
            "sizemode": "area",
            "sizeref": 2.7606611570247934,
            "symbol": "circle"
           },
           "mode": "markers+text",
           "name": "武汉",
           "showlegend": true,
           "text": [
            "武汉"
           ],
           "type": "scatter",
           "x": [
            0.0002131470535554361
           ],
           "xaxis": "x",
           "y": [
            0.5632084125005646
           ],
           "yaxis": "y"
          },
          {
           "hoverlabel": {
            "namelength": 0
           },
           "hovertemplate": "<b>%{hovertext}</b><br><br>city=%{text}<br>date=01-29<br>p=%{x}<br>beta=%{y}<br>size=%{marker.size}",
           "hovertext": [
            496
           ],
           "legendgroup": "黄冈",
           "marker": {
            "color": "#EF553B",
            "size": [
             496
            ],
            "sizemode": "area",
            "sizeref": 2.7606611570247934,
            "symbol": "circle"
           },
           "mode": "markers+text",
           "name": "黄冈",
           "showlegend": true,
           "text": [
            "黄冈"
           ],
           "type": "scatter",
           "x": [
            7.884279128914322e-05
           ],
           "xaxis": "x",
           "y": [
            0.5285754107244699
           ],
           "yaxis": "y"
          },
          {
           "hoverlabel": {
            "namelength": 0
           },
           "hovertemplate": "<b>%{hovertext}</b><br><br>city=%{text}<br>date=01-29<br>p=%{x}<br>beta=%{y}<br>size=%{marker.size}",
           "hovertext": [
            399
           ],
           "legendgroup": "孝感",
           "marker": {
            "color": "#00cc96",
            "size": [
             399
            ],
            "sizemode": "area",
            "sizeref": 2.7606611570247934,
            "symbol": "circle"
           },
           "mode": "markers+text",
           "name": "孝感",
           "showlegend": true,
           "text": [
            "孝感"
           ],
           "type": "scatter",
           "x": [
            8.179581795817958e-05
           ],
           "xaxis": "x",
           "y": [
            0.6119358241371949
           ],
           "yaxis": "y"
          },
          {
           "hoverlabel": {
            "namelength": 0
           },
           "hovertemplate": "<b>%{hovertext}</b><br><br>city=%{text}<br>date=01-29<br>p=%{x}<br>beta=%{y}<br>size=%{marker.size}",
           "hovertext": [
            163
           ],
           "legendgroup": "襄阳",
           "marker": {
            "color": "#ab63fa",
            "size": [
             163
            ],
            "sizemode": "area",
            "sizeref": 2.7606611570247934,
            "symbol": "circle"
           },
           "mode": "markers+text",
           "name": "襄阳",
           "showlegend": true,
           "text": [
            "襄阳"
           ],
           "type": "scatter",
           "x": [
            2.903455646597791e-05
           ],
           "xaxis": "x",
           "y": [
            0.6698723206052154
           ],
           "yaxis": "y"
          },
          {
           "hoverlabel": {
            "namelength": 0
           },
           "hovertemplate": "<b>%{hovertext}</b><br><br>city=%{text}<br>date=01-29<br>p=%{x}<br>beta=%{y}<br>size=%{marker.size}",
           "hovertext": [
            151
           ],
           "legendgroup": "荆州",
           "marker": {
            "color": "#FFA15A",
            "size": [
             151
            ],
            "sizemode": "area",
            "sizeref": 2.7606611570247934,
            "symbol": "circle"
           },
           "mode": "markers+text",
           "name": "荆州",
           "showlegend": true,
           "text": [
            "荆州"
           ],
           "type": "scatter",
           "x": [
            2.6463835678858724e-05
           ],
           "xaxis": "x",
           "y": [
            0.5312803594529345
           ],
           "yaxis": "y"
          },
          {
           "hoverlabel": {
            "namelength": 0
           },
           "hovertemplate": "<b>%{hovertext}</b><br><br>city=%{text}<br>date=01-29<br>p=%{x}<br>beta=%{y}<br>size=%{marker.size}",
           "hovertext": [
            191
           ],
           "legendgroup": "荆门",
           "marker": {
            "color": "#19d3f3",
            "size": [
             191
            ],
            "sizemode": "area",
            "sizeref": 2.7606611570247934,
            "symbol": "circle"
           },
           "mode": "markers+text",
           "name": "荆门",
           "showlegend": true,
           "text": [
            "荆门"
           ],
           "type": "scatter",
           "x": [
            6.594620722991402e-05
           ],
           "xaxis": "x",
           "y": [
            0.38861496360122144
           ],
           "yaxis": "y"
          },
          {
           "hoverlabel": {
            "namelength": 0
           },
           "hovertemplate": "<b>%{hovertext}</b><br><br>city=%{text}<br>date=01-29<br>p=%{x}<br>beta=%{y}<br>size=%{marker.size}",
           "hovertext": [
            113
           ],
           "legendgroup": "黄石",
           "marker": {
            "color": "#FF6692",
            "size": [
             113
            ],
            "sizemode": "area",
            "sizeref": 2.7606611570247934,
            "symbol": "circle"
           },
           "mode": "markers+text",
           "name": "黄石",
           "showlegend": true,
           "text": [
            "黄石"
           ],
           "type": "scatter",
           "x": [
            4.597233523189585e-05
           ],
           "xaxis": "x",
           "y": [
            0.5336922992623775
           ],
           "yaxis": "y"
          },
          {
           "hoverlabel": {
            "namelength": 0
           },
           "hovertemplate": "<b>%{hovertext}</b><br><br>city=%{text}<br>date=01-29<br>p=%{x}<br>beta=%{y}<br>size=%{marker.size}",
           "hovertext": [
            55
           ],
           "legendgroup": "仙桃",
           "marker": {
            "color": "#B6E880",
            "size": [
             55
            ],
            "sizemode": "area",
            "sizeref": 2.7606611570247934,
            "symbol": "circle"
           },
           "mode": "markers+text",
           "name": "仙桃",
           "showlegend": true,
           "text": [
            "仙桃"
           ],
           "type": "scatter",
           "x": [
            3.525641025641025e-05
           ],
           "xaxis": "x",
           "y": [
            0.6524298620606664
           ],
           "yaxis": "y"
          },
          {
           "hoverlabel": {
            "namelength": 0
           },
           "hovertemplate": "<b>%{hovertext}</b><br><br>city=%{text}<br>date=01-29<br>p=%{x}<br>beta=%{y}<br>size=%{marker.size}",
           "hovertext": [
            44
           ],
           "legendgroup": "天门",
           "marker": {
            "color": "#FF97FF",
            "size": [
             44
            ],
            "sizemode": "area",
            "sizeref": 2.7606611570247934,
            "symbol": "circle"
           },
           "mode": "markers+text",
           "name": "天门",
           "showlegend": true,
           "text": [
            "天门"
           ],
           "type": "scatter",
           "x": [
            3.464566929133858e-05
           ],
           "xaxis": "x",
           "y": [
            0.5648430120339906
           ],
           "yaxis": "y"
          },
          {
           "hoverlabel": {
            "namelength": 0
           },
           "hovertemplate": "<b>%{hovertext}</b><br><br>city=%{text}<br>date=01-29<br>p=%{x}<br>beta=%{y}<br>size=%{marker.size}",
           "hovertext": [
            143
           ],
           "legendgroup": "随州",
           "marker": {
            "color": "#FECB52",
            "size": [
             143
            ],
            "sizemode": "area",
            "sizeref": 2.7606611570247934,
            "symbol": "circle"
           },
           "mode": "markers+text",
           "name": "随州",
           "showlegend": true,
           "text": [
            "随州"
           ],
           "type": "scatter",
           "x": [
            6.527295964944313e-05
           ],
           "xaxis": "x",
           "y": [
            0.4912289633815095
           ],
           "yaxis": "y"
          },
          {
           "hoverlabel": {
            "namelength": 0
           },
           "hovertemplate": "<b>%{hovertext}</b><br><br>city=%{text}<br>date=01-29<br>p=%{x}<br>beta=%{y}<br>size=%{marker.size}",
           "hovertext": [
            130
           ],
           "legendgroup": "咸宁",
           "marker": {
            "color": "#636efa",
            "size": [
             130
            ],
            "sizemode": "area",
            "sizeref": 2.7606611570247934,
            "symbol": "circle"
           },
           "mode": "markers+text",
           "name": "咸宁",
           "showlegend": true,
           "text": [
            "咸宁"
           ],
           "type": "scatter",
           "x": [
            5.185480654168329e-05
           ],
           "xaxis": "x",
           "y": [
            0.3922454017309913
           ],
           "yaxis": "y"
          },
          {
           "hoverlabel": {
            "namelength": 0
           },
           "hovertemplate": "<b>%{hovertext}</b><br><br>city=%{text}<br>date=01-29<br>p=%{x}<br>beta=%{y}<br>size=%{marker.size}",
           "hovertext": [
            119
           ],
           "legendgroup": "十堰",
           "marker": {
            "color": "#EF553B",
            "size": [
             119
            ],
            "sizemode": "area",
            "sizeref": 2.7606611570247934,
            "symbol": "circle"
           },
           "mode": "markers+text",
           "name": "十堰",
           "showlegend": true,
           "text": [
            "十堰"
           ],
           "type": "scatter",
           "x": [
            3.517587939698493e-05
           ],
           "xaxis": "x",
           "y": [
            0.5143411248372116
           ],
           "yaxis": "y"
          },
          {
           "hoverlabel": {
            "namelength": 0
           },
           "hovertemplate": "<b>%{hovertext}</b><br><br>city=%{text}<br>date=01-29<br>p=%{x}<br>beta=%{y}<br>size=%{marker.size}",
           "hovertext": [
            117
           ],
           "legendgroup": "宜昌",
           "marker": {
            "color": "#00cc96",
            "size": [
             117
            ],
            "sizemode": "area",
            "sizeref": 2.7606611570247934,
            "symbol": "circle"
           },
           "mode": "markers+text",
           "name": "宜昌",
           "showlegend": true,
           "text": [
            "宜昌"
           ],
           "type": "scatter",
           "x": [
            2.8432563791008502e-05
           ],
           "xaxis": "x",
           "y": [
            0.5738712856417479
           ],
           "yaxis": "y"
          },
          {
           "hoverlabel": {
            "namelength": 0
           },
           "hovertemplate": "<b>%{hovertext}</b><br><br>city=%{text}<br>date=01-29<br>p=%{x}<br>beta=%{y}<br>size=%{marker.size}",
           "hovertext": [
            66
           ],
           "legendgroup": "恩施",
           "marker": {
            "color": "#ab63fa",
            "size": [
             66
            ],
            "sizemode": "area",
            "sizeref": 2.7606611570247934,
            "symbol": "circle"
           },
           "mode": "markers+text",
           "name": "恩施",
           "showlegend": true,
           "text": [
            "恩施"
           ],
           "type": "scatter",
           "x": [
            1.9837691614066727e-05
           ],
           "xaxis": "x",
           "y": [
            0.4749462666185973
           ],
           "yaxis": "y"
          },
          {
           "hoverlabel": {
            "namelength": 0
           },
           "hovertemplate": "<b>%{hovertext}</b><br><br>city=%{text}<br>date=01-29<br>p=%{x}<br>beta=%{y}<br>size=%{marker.size}",
           "hovertext": [
            123
           ],
           "legendgroup": "鄂州",
           "marker": {
            "color": "#FFA15A",
            "size": [
             123
            ],
            "sizemode": "area",
            "sizeref": 2.7606611570247934,
            "symbol": "circle"
           },
           "mode": "markers+text",
           "name": "鄂州",
           "showlegend": true,
           "text": [
            "鄂州"
           ],
           "type": "scatter",
           "x": [
            0.00011609249646059463
           ],
           "xaxis": "x",
           "y": [
            0.7668536300144232
           ],
           "yaxis": "y"
          },
          {
           "hoverlabel": {
            "namelength": 0
           },
           "hovertemplate": "<b>%{hovertext}</b><br><br>city=%{text}<br>date=01-29<br>p=%{x}<br>beta=%{y}<br>size=%{marker.size}",
           "hovertext": [
            86
           ],
           "legendgroup": "深圳",
           "marker": {
            "color": "#19d3f3",
            "size": [
             86
            ],
            "sizemode": "area",
            "sizeref": 2.7606611570247934,
            "symbol": "circle"
           },
           "mode": "markers+text",
           "name": "深圳",
           "showlegend": true,
           "text": [
            "深圳"
           ],
           "type": "scatter",
           "x": [
            7.5600407890572815e-06
           ],
           "xaxis": "x",
           "y": [
            0.4316172659320039
           ],
           "yaxis": "y"
          },
          {
           "hoverlabel": {
            "namelength": 0
           },
           "hovertemplate": "<b>%{hovertext}</b><br><br>city=%{text}<br>date=01-29<br>p=%{x}<br>beta=%{y}<br>size=%{marker.size}",
           "hovertext": [
            79
           ],
           "legendgroup": "广州",
           "marker": {
            "color": "#FF6692",
            "size": [
             79
            ],
            "sizemode": "area",
            "sizeref": 2.7606611570247934,
            "symbol": "circle"
           },
           "mode": "markers+text",
           "name": "广州",
           "showlegend": true,
           "text": [
            "广州"
           ],
           "type": "scatter",
           "x": [
            5.852892366050261e-06
           ],
           "xaxis": "x",
           "y": [
            0.3801915545784783
           ],
           "yaxis": "y"
          },
          {
           "hoverlabel": {
            "namelength": 0
           },
           "hovertemplate": "<b>%{hovertext}</b><br><br>city=%{text}<br>date=01-29<br>p=%{x}<br>beta=%{y}<br>size=%{marker.size}",
           "hovertext": [
            18
           ],
           "legendgroup": "珠海",
           "marker": {
            "color": "#B6E880",
            "size": [
             18
            ],
            "sizemode": "area",
            "sizeref": 2.7606611570247934,
            "symbol": "circle"
           },
           "mode": "markers+text",
           "name": "珠海",
           "showlegend": true,
           "text": [
            "珠海"
           ],
           "type": "scatter",
           "x": [
            1.1018609206660136e-05
           ],
           "xaxis": "x",
           "y": [
            0.2580465567059605
           ],
           "yaxis": "y"
          },
          {
           "hoverlabel": {
            "namelength": 0
           },
           "hovertemplate": "<b>%{hovertext}</b><br><br>city=%{text}<br>date=01-29<br>p=%{x}<br>beta=%{y}<br>size=%{marker.size}",
           "hovertext": [
            11
           ],
           "legendgroup": "新余",
           "marker": {
            "color": "#FF97FF",
            "size": [
             11
            ],
            "sizemode": "area",
            "sizeref": 2.7606611570247934,
            "symbol": "circle"
           },
           "mode": "markers+text",
           "name": "新余",
           "showlegend": true,
           "text": [
            "新余"
           ],
           "type": "scatter",
           "x": [
            9.4283020485129e-06
           ],
           "xaxis": "x",
           "y": [
            0.6097499341524772
           ],
           "yaxis": "y"
          },
          {
           "hoverlabel": {
            "namelength": 0
           },
           "hovertemplate": "<b>%{hovertext}</b><br><br>city=%{text}<br>date=01-29<br>p=%{x}<br>beta=%{y}<br>size=%{marker.size}",
           "hovertext": [
            172
           ],
           "legendgroup": "温州",
           "marker": {
            "color": "#FECB52",
            "size": [
             172
            ],
            "sizemode": "area",
            "sizeref": 2.7606611570247934,
            "symbol": "circle"
           },
           "mode": "markers+text",
           "name": "温州",
           "showlegend": true,
           "text": [
            "温州"
           ],
           "type": "scatter",
           "x": [
            1.8865854996161015e-05
           ],
           "xaxis": "x",
           "y": [
            0.7139860649091989
           ],
           "yaxis": "y"
          },
          {
           "hoverlabel": {
            "namelength": 0
           },
           "hovertemplate": "<b>%{hovertext}</b><br><br>city=%{text}<br>date=01-29<br>p=%{x}<br>beta=%{y}<br>size=%{marker.size}",
           "hovertext": [
            111
           ],
           "legendgroup": "北京",
           "marker": {
            "color": "#636efa",
            "size": [
             111
            ],
            "sizemode": "area",
            "sizeref": 2.7606611570247934,
            "symbol": "circle"
           },
           "mode": "markers+text",
           "name": "北京",
           "showlegend": true,
           "text": [
            "北京"
           ],
           "type": "scatter",
           "x": [
            5.114029025570145e-06
           ],
           "xaxis": "x",
           "y": [
            0.3155193569918639
           ],
           "yaxis": "y"
          },
          {
           "hoverlabel": {
            "namelength": 0
           },
           "hovertemplate": "<b>%{hovertext}</b><br><br>city=%{text}<br>date=01-29<br>p=%{x}<br>beta=%{y}<br>size=%{marker.size}",
           "hovertext": [
            101
           ],
           "legendgroup": "上海",
           "marker": {
            "color": "#EF553B",
            "size": [
             101
            ],
            "sizemode": "area",
            "sizeref": 2.7606611570247934,
            "symbol": "circle"
           },
           "mode": "markers+text",
           "name": "上海",
           "showlegend": true,
           "text": [
            "上海"
           ],
           "type": "scatter",
           "x": [
            4.181727094693347e-06
           ],
           "xaxis": "x",
           "y": [
            0.3560046329530289
           ],
           "yaxis": "y"
          }
         ],
         "name": "01-29"
        },
        {
         "data": [
          {
           "hoverlabel": {
            "namelength": 0
           },
           "hovertemplate": "<b>%{hovertext}</b><br><br>city=%{text}<br>date=01-30<br>p=%{x}<br>beta=%{y}<br>size=%{marker.size}",
           "hovertext": [
            2639
           ],
           "legendgroup": "武汉",
           "marker": {
            "color": "#636efa",
            "size": [
             2639
            ],
            "sizemode": "area",
            "sizeref": 2.7606611570247934,
            "symbol": "circle"
           },
           "mode": "markers+text",
           "name": "武汉",
           "showlegend": true,
           "text": [
            "武汉"
           ],
           "type": "scatter",
           "x": [
            0.0002487815454811128
           ],
           "xaxis": "x",
           "y": [
            0.3139601606675774
           ],
           "yaxis": "y"
          },
          {
           "hoverlabel": {
            "namelength": 0
           },
           "hovertemplate": "<b>%{hovertext}</b><br><br>city=%{text}<br>date=01-30<br>p=%{x}<br>beta=%{y}<br>size=%{marker.size}",
           "hovertext": [
            573
           ],
           "legendgroup": "黄冈",
           "marker": {
            "color": "#EF553B",
            "size": [
             573
            ],
            "sizemode": "area",
            "sizeref": 2.7606611570247934,
            "symbol": "circle"
           },
           "mode": "markers+text",
           "name": "黄冈",
           "showlegend": true,
           "text": [
            "黄冈"
           ],
           "type": "scatter",
           "x": [
            9.10824988078207e-05
           ],
           "xaxis": "x",
           "y": [
            0.4926446707960722
           ],
           "yaxis": "y"
          },
          {
           "hoverlabel": {
            "namelength": 0
           },
           "hovertemplate": "<b>%{hovertext}</b><br><br>city=%{text}<br>date=01-30<br>p=%{x}<br>beta=%{y}<br>size=%{marker.size}",
           "hovertext": [
            541
           ],
           "legendgroup": "孝感",
           "marker": {
            "color": "#00cc96",
            "size": [
             541
            ],
            "sizemode": "area",
            "sizeref": 2.7606611570247934,
            "symbol": "circle"
           },
           "mode": "markers+text",
           "name": "孝感",
           "showlegend": true,
           "text": [
            "孝感"
           ],
           "type": "scatter",
           "x": [
            0.0001109061090610906
           ],
           "xaxis": "x",
           "y": [
            0.531041580921695
           ],
           "yaxis": "y"
          },
          {
           "hoverlabel": {
            "namelength": 0
           },
           "hovertemplate": "<b>%{hovertext}</b><br><br>city=%{text}<br>date=01-30<br>p=%{x}<br>beta=%{y}<br>size=%{marker.size}",
           "hovertext": [
            286
           ],
           "legendgroup": "襄阳",
           "marker": {
            "color": "#ab63fa",
            "size": [
             286
            ],
            "sizemode": "area",
            "sizeref": 2.7606611570247934,
            "symbol": "circle"
           },
           "mode": "markers+text",
           "name": "襄阳",
           "showlegend": true,
           "text": [
            "襄阳"
           ],
           "type": "scatter",
           "x": [
            5.0944068400427506e-05
           ],
           "xaxis": "x",
           "y": [
            0.6079619620870259
           ],
           "yaxis": "y"
          },
          {
           "hoverlabel": {
            "namelength": 0
           },
           "hovertemplate": "<b>%{hovertext}</b><br><br>city=%{text}<br>date=01-30<br>p=%{x}<br>beta=%{y}<br>size=%{marker.size}",
           "hovertext": [
            221
           ],
           "legendgroup": "荆州",
           "marker": {
            "color": "#FFA15A",
            "size": [
             221
            ],
            "sizemode": "area",
            "sizeref": 2.7606611570247934,
            "symbol": "circle"
           },
           "mode": "markers+text",
           "name": "荆州",
           "showlegend": true,
           "text": [
            "荆州"
           ],
           "type": "scatter",
           "x": [
            3.8731838973693895e-05
           ],
           "xaxis": "x",
           "y": [
            0.5206518278587402
           ],
           "yaxis": "y"
          },
          {
           "hoverlabel": {
            "namelength": 0
           },
           "hovertemplate": "<b>%{hovertext}</b><br><br>city=%{text}<br>date=01-30<br>p=%{x}<br>beta=%{y}<br>size=%{marker.size}",
           "hovertext": [
            227
           ],
           "legendgroup": "荆门",
           "marker": {
            "color": "#19d3f3",
            "size": [
             227
            ],
            "sizemode": "area",
            "sizeref": 2.7606611570247934,
            "symbol": "circle"
           },
           "mode": "markers+text",
           "name": "荆门",
           "showlegend": true,
           "text": [
            "荆门"
           ],
           "type": "scatter",
           "x": [
            7.837585885440045e-05
           ],
           "xaxis": "x",
           "y": [
            0.3782698704165233
           ],
           "yaxis": "y"
          },
          {
           "hoverlabel": {
            "namelength": 0
           },
           "hovertemplate": "<b>%{hovertext}</b><br><br>city=%{text}<br>date=01-30<br>p=%{x}<br>beta=%{y}<br>size=%{marker.size}",
           "hovertext": [
            168
           ],
           "legendgroup": "黄石",
           "marker": {
            "color": "#FF6692",
            "size": [
             168
            ],
            "sizemode": "area",
            "sizeref": 2.7606611570247934,
            "symbol": "circle"
           },
           "mode": "markers+text",
           "name": "黄石",
           "showlegend": true,
           "text": [
            "黄石"
           ],
           "type": "scatter",
           "x": [
            6.834825061025224e-05
           ],
           "xaxis": "x",
           "y": [
            0.5284636505822933
           ],
           "yaxis": "y"
          },
          {
           "hoverlabel": {
            "namelength": 0
           },
           "hovertemplate": "<b>%{hovertext}</b><br><br>city=%{text}<br>date=01-30<br>p=%{x}<br>beta=%{y}<br>size=%{marker.size}",
           "hovertext": [
            90
           ],
           "legendgroup": "仙桃",
           "marker": {
            "color": "#B6E880",
            "size": [
             90
            ],
            "sizemode": "area",
            "sizeref": 2.7606611570247934,
            "symbol": "circle"
           },
           "mode": "markers+text",
           "name": "仙桃",
           "showlegend": true,
           "text": [
            "仙桃"
           ],
           "type": "scatter",
           "x": [
            5.769230769230769e-05
           ],
           "xaxis": "x",
           "y": [
            0.5330095386551996
           ],
           "yaxis": "y"
          },
          {
           "hoverlabel": {
            "namelength": 0
           },
           "hovertemplate": "<b>%{hovertext}</b><br><br>city=%{text}<br>date=01-30<br>p=%{x}<br>beta=%{y}<br>size=%{marker.size}",
           "hovertext": [
            67
           ],
           "legendgroup": "天门",
           "marker": {
            "color": "#FF97FF",
            "size": [
             67
            ],
            "sizemode": "area",
            "sizeref": 2.7606611570247934,
            "symbol": "circle"
           },
           "mode": "markers+text",
           "name": "天门",
           "showlegend": true,
           "text": [
            "天门"
           ],
           "type": "scatter",
           "x": [
            5.275590551181103e-05
           ],
           "xaxis": "x",
           "y": [
            0.494546787782462
           ],
           "yaxis": "y"
          },
          {
           "hoverlabel": {
            "namelength": 0
           },
           "hovertemplate": "<b>%{hovertext}</b><br><br>city=%{text}<br>date=01-30<br>p=%{x}<br>beta=%{y}<br>size=%{marker.size}",
           "hovertext": [
            228
           ],
           "legendgroup": "随州",
           "marker": {
            "color": "#FECB52",
            "size": [
             228
            ],
            "sizemode": "area",
            "sizeref": 2.7606611570247934,
            "symbol": "circle"
           },
           "mode": "markers+text",
           "name": "随州",
           "showlegend": true,
           "text": [
            "随州"
           ],
           "type": "scatter",
           "x": [
            0.00010407157202848274
           ],
           "xaxis": "x",
           "y": [
            0.5329027473011722
           ],
           "yaxis": "y"
          },
          {
           "hoverlabel": {
            "namelength": 0
           },
           "hovertemplate": "<b>%{hovertext}</b><br><br>city=%{text}<br>date=01-30<br>p=%{x}<br>beta=%{y}<br>size=%{marker.size}",
           "hovertext": [
            166
           ],
           "legendgroup": "咸宁",
           "marker": {
            "color": "#636efa",
            "size": [
             166
            ],
            "sizemode": "area",
            "sizeref": 2.7606611570247934,
            "symbol": "circle"
           },
           "mode": "markers+text",
           "name": "咸宁",
           "showlegend": true,
           "text": [
            "咸宁"
           ],
           "type": "scatter",
           "x": [
            6.621459912245712e-05
           ],
           "xaxis": "x",
           "y": [
            0.33871807819024125
           ],
           "yaxis": "y"
          },
          {
           "hoverlabel": {
            "namelength": 0
           },
           "hovertemplate": "<b>%{hovertext}</b><br><br>city=%{text}<br>date=01-30<br>p=%{x}<br>beta=%{y}<br>size=%{marker.size}",
           "hovertext": [
            150
           ],
           "legendgroup": "十堰",
           "marker": {
            "color": "#EF553B",
            "size": [
             150
            ],
            "sizemode": "area",
            "sizeref": 2.7606611570247934,
            "symbol": "circle"
           },
           "mode": "markers+text",
           "name": "十堰",
           "showlegend": true,
           "text": [
            "十堰"
           ],
           "type": "scatter",
           "x": [
            4.433934377771209e-05
           ],
           "xaxis": "x",
           "y": [
            0.4270149198680001
           ],
           "yaxis": "y"
          },
          {
           "hoverlabel": {
            "namelength": 0
           },
           "hovertemplate": "<b>%{hovertext}</b><br><br>city=%{text}<br>date=01-30<br>p=%{x}<br>beta=%{y}<br>size=%{marker.size}",
           "hovertext": [
            167
           ],
           "legendgroup": "宜昌",
           "marker": {
            "color": "#00cc96",
            "size": [
             167
            ],
            "sizemode": "area",
            "sizeref": 2.7606611570247934,
            "symbol": "circle"
           },
           "mode": "markers+text",
           "name": "宜昌",
           "showlegend": true,
           "text": [
            "宜昌"
           ],
           "type": "scatter",
           "x": [
            4.058323207776427e-05
           ],
           "xaxis": "x",
           "y": [
            0.5384457488935063
           ],
           "yaxis": "y"
          },
          {
           "hoverlabel": {
            "namelength": 0
           },
           "hovertemplate": "<b>%{hovertext}</b><br><br>city=%{text}<br>date=01-30<br>p=%{x}<br>beta=%{y}<br>size=%{marker.size}",
           "hovertext": [
            75
           ],
           "legendgroup": "恩施",
           "marker": {
            "color": "#ab63fa",
            "size": [
             75
            ],
            "sizemode": "area",
            "sizeref": 2.7606611570247934,
            "symbol": "circle"
           },
           "mode": "markers+text",
           "name": "恩施",
           "showlegend": true,
           "text": [
            "恩施"
           ],
           "type": "scatter",
           "x": [
            2.254283137962128e-05
           ],
           "xaxis": "x",
           "y": [
            0.3825233656261728
           ],
           "yaxis": "y"
          },
          {
           "hoverlabel": {
            "namelength": 0
           },
           "hovertemplate": "<b>%{hovertext}</b><br><br>city=%{text}<br>date=01-30<br>p=%{x}<br>beta=%{y}<br>size=%{marker.size}",
           "hovertext": [
            189
           ],
           "legendgroup": "鄂州",
           "marker": {
            "color": "#FFA15A",
            "size": [
             189
            ],
            "sizemode": "area",
            "sizeref": 2.7606611570247934,
            "symbol": "circle"
           },
           "mode": "markers+text",
           "name": "鄂州",
           "showlegend": true,
           "text": [
            "鄂州"
           ],
           "type": "scatter",
           "x": [
            0.00017838603114676734
           ],
           "xaxis": "x",
           "y": [
            0.5398367876400425
           ],
           "yaxis": "y"
          },
          {
           "hoverlabel": {
            "namelength": 0
           },
           "hovertemplate": "<b>%{hovertext}</b><br><br>city=%{text}<br>date=01-30<br>p=%{x}<br>beta=%{y}<br>size=%{marker.size}",
           "hovertext": [
            110
           ],
           "legendgroup": "深圳",
           "marker": {
            "color": "#19d3f3",
            "size": [
             110
            ],
            "sizemode": "area",
            "sizeref": 2.7606611570247934,
            "symbol": "circle"
           },
           "mode": "markers+text",
           "name": "深圳",
           "showlegend": true,
           "text": [
            "深圳"
           ],
           "type": "scatter",
           "x": [
            9.669819613910477e-06
           ],
           "xaxis": "x",
           "y": [
            0.4142489316118291
           ],
           "yaxis": "y"
          },
          {
           "hoverlabel": {
            "namelength": 0
           },
           "hovertemplate": "<b>%{hovertext}</b><br><br>city=%{text}<br>date=01-30<br>p=%{x}<br>beta=%{y}<br>size=%{marker.size}",
           "hovertext": [
            106
           ],
           "legendgroup": "广州",
           "marker": {
            "color": "#FF6692",
            "size": [
             106
            ],
            "sizemode": "area",
            "sizeref": 2.7606611570247934,
            "symbol": "circle"
           },
           "mode": "markers+text",
           "name": "广州",
           "showlegend": true,
           "text": [
            "广州"
           ],
           "type": "scatter",
           "x": [
            7.853247984826932e-06
           ],
           "xaxis": "x",
           "y": [
            0.3805511058190063
           ],
           "yaxis": "y"
          },
          {
           "hoverlabel": {
            "namelength": 0
           },
           "hovertemplate": "<b>%{hovertext}</b><br><br>city=%{text}<br>date=01-30<br>p=%{x}<br>beta=%{y}<br>size=%{marker.size}",
           "hovertext": [
            26
           ],
           "legendgroup": "珠海",
           "marker": {
            "color": "#B6E880",
            "size": [
             26
            ],
            "sizemode": "area",
            "sizeref": 2.7606611570247934,
            "symbol": "circle"
           },
           "mode": "markers+text",
           "name": "珠海",
           "showlegend": true,
           "text": [
            "珠海"
           ],
           "type": "scatter",
           "x": [
            1.5915768854064642e-05
           ],
           "xaxis": "x",
           "y": [
            0.3865626400922815
           ],
           "yaxis": "y"
          },
          {
           "hoverlabel": {
            "namelength": 0
           },
           "hovertemplate": "<b>%{hovertext}</b><br><br>city=%{text}<br>date=01-30<br>p=%{x}<br>beta=%{y}<br>size=%{marker.size}",
           "hovertext": [
            28
           ],
           "legendgroup": "新余",
           "marker": {
            "color": "#FF97FF",
            "size": [
             28
            ],
            "sizemode": "area",
            "sizeref": 2.7606611570247934,
            "symbol": "circle"
           },
           "mode": "markers+text",
           "name": "新余",
           "showlegend": true,
           "text": [
            "新余"
           ],
           "type": "scatter",
           "x": [
            2.3999314305305566e-05
           ],
           "xaxis": "x",
           "y": [
            0.8833295223648703
           ],
           "yaxis": "y"
          },
          {
           "hoverlabel": {
            "namelength": 0
           },
           "hovertemplate": "<b>%{hovertext}</b><br><br>city=%{text}<br>date=01-30<br>p=%{x}<br>beta=%{y}<br>size=%{marker.size}",
           "hovertext": [
            227
           ],
           "legendgroup": "温州",
           "marker": {
            "color": "#FECB52",
            "size": [
             227
            ],
            "sizemode": "area",
            "sizeref": 2.7606611570247934,
            "symbol": "circle"
           },
           "mode": "markers+text",
           "name": "温州",
           "showlegend": true,
           "text": [
            "温州"
           ],
           "type": "scatter",
           "x": [
            2.48985411867939e-05
           ],
           "xaxis": "x",
           "y": [
            0.6029224552129091
           ],
           "yaxis": "y"
          },
          {
           "hoverlabel": {
            "namelength": 0
           },
           "hovertemplate": "<b>%{hovertext}</b><br><br>city=%{text}<br>date=01-30<br>p=%{x}<br>beta=%{y}<br>size=%{marker.size}",
           "hovertext": [
            121
           ],
           "legendgroup": "北京",
           "marker": {
            "color": "#636efa",
            "size": [
             121
            ],
            "sizemode": "area",
            "sizeref": 2.7606611570247934,
            "symbol": "circle"
           },
           "mode": "markers+text",
           "name": "北京",
           "showlegend": true,
           "text": [
            "北京"
           ],
           "type": "scatter",
           "x": [
            5.574752361207095e-06
           ],
           "xaxis": "x",
           "y": [
            0.2919107525514832
           ],
           "yaxis": "y"
          },
          {
           "hoverlabel": {
            "namelength": 0
           },
           "hovertemplate": "<b>%{hovertext}</b><br><br>city=%{text}<br>date=01-30<br>p=%{x}<br>beta=%{y}<br>size=%{marker.size}",
           "hovertext": [
            128
           ],
           "legendgroup": "上海",
           "marker": {
            "color": "#EF553B",
            "size": [
             128
            ],
            "sizemode": "area",
            "sizeref": 2.7606611570247934,
            "symbol": "circle"
           },
           "mode": "markers+text",
           "name": "上海",
           "showlegend": true,
           "text": [
            "上海"
           ],
           "type": "scatter",
           "x": [
            5.299614535848994e-06
           ],
           "xaxis": "x",
           "y": [
            0.3609506950460794
           ],
           "yaxis": "y"
          }
         ],
         "name": "01-30"
        },
        {
         "data": [
          {
           "hoverlabel": {
            "namelength": 0
           },
           "hovertemplate": "<b>%{hovertext}</b><br><br>city=%{text}<br>date=01-31<br>p=%{x}<br>beta=%{y}<br>size=%{marker.size}",
           "hovertext": [
            3215
           ],
           "legendgroup": "武汉",
           "marker": {
            "color": "#636efa",
            "size": [
             3215
            ],
            "sizemode": "area",
            "sizeref": 2.7606611570247934,
            "symbol": "circle"
           },
           "mode": "markers+text",
           "name": "武汉",
           "showlegend": true,
           "text": [
            "武汉"
           ],
           "type": "scatter",
           "x": [
            0.00030308172365357236
           ],
           "xaxis": "x",
           "y": [
            0.3146481913714063
           ],
           "yaxis": "y"
          },
          {
           "hoverlabel": {
            "namelength": 0
           },
           "hovertemplate": "<b>%{hovertext}</b><br><br>city=%{text}<br>date=01-31<br>p=%{x}<br>beta=%{y}<br>size=%{marker.size}",
           "hovertext": [
            726
           ],
           "legendgroup": "黄冈",
           "marker": {
            "color": "#EF553B",
            "size": [
             726
            ],
            "sizemode": "area",
            "sizeref": 2.7606611570247934,
            "symbol": "circle"
           },
           "mode": "markers+text",
           "name": "黄冈",
           "showlegend": true,
           "text": [
            "黄冈"
           ],
           "type": "scatter",
           "x": [
            0.00011540295660467334
           ],
           "xaxis": "x",
           "y": [
            0.4198948792489695
           ],
           "yaxis": "y"
          },
          {
           "hoverlabel": {
            "namelength": 0
           },
           "hovertemplate": "<b>%{hovertext}</b><br><br>city=%{text}<br>date=01-31<br>p=%{x}<br>beta=%{y}<br>size=%{marker.size}",
           "hovertext": [
            628
           ],
           "legendgroup": "孝感",
           "marker": {
            "color": "#00cc96",
            "size": [
             628
            ],
            "sizemode": "area",
            "sizeref": 2.7606611570247934,
            "symbol": "circle"
           },
           "mode": "markers+text",
           "name": "孝感",
           "showlegend": true,
           "text": [
            "孝感"
           ],
           "type": "scatter",
           "x": [
            0.00012874128741287413
           ],
           "xaxis": "x",
           "y": [
            0.4351909668744609
           ],
           "yaxis": "y"
          },
          {
           "hoverlabel": {
            "namelength": 0
           },
           "hovertemplate": "<b>%{hovertext}</b><br><br>city=%{text}<br>date=01-31<br>p=%{x}<br>beta=%{y}<br>size=%{marker.size}",
           "hovertext": [
            347
           ],
           "legendgroup": "襄阳",
           "marker": {
            "color": "#ab63fa",
            "size": [
             347
            ],
            "sizemode": "area",
            "sizeref": 2.7606611570247934,
            "symbol": "circle"
           },
           "mode": "markers+text",
           "name": "襄阳",
           "showlegend": true,
           "text": [
            "襄阳"
           ],
           "type": "scatter",
           "x": [
            6.180976131100819e-05
           ],
           "xaxis": "x",
           "y": [
            0.4778722472002458
           ],
           "yaxis": "y"
          },
          {
           "hoverlabel": {
            "namelength": 0
           },
           "hovertemplate": "<b>%{hovertext}</b><br><br>city=%{text}<br>date=01-31<br>p=%{x}<br>beta=%{y}<br>size=%{marker.size}",
           "hovertext": [
            287
           ],
           "legendgroup": "荆州",
           "marker": {
            "color": "#FFA15A",
            "size": [
             287
            ],
            "sizemode": "area",
            "sizeref": 2.7606611570247934,
            "symbol": "circle"
           },
           "mode": "markers+text",
           "name": "荆州",
           "showlegend": true,
           "text": [
            "荆州"
           ],
           "type": "scatter",
           "x": [
            5.02988135088242e-05
           ],
           "xaxis": "x",
           "y": [
            0.5000722240230098
           ],
           "yaxis": "y"
          },
          {
           "hoverlabel": {
            "namelength": 0
           },
           "hovertemplate": "<b>%{hovertext}</b><br><br>city=%{text}<br>date=01-31<br>p=%{x}<br>beta=%{y}<br>size=%{marker.size}",
           "hovertext": [
            251
           ],
           "legendgroup": "荆门",
           "marker": {
            "color": "#19d3f3",
            "size": [
             251
            ],
            "sizemode": "area",
            "sizeref": 2.7606611570247934,
            "symbol": "circle"
           },
           "mode": "markers+text",
           "name": "荆门",
           "showlegend": true,
           "text": [
            "荆门"
           ],
           "type": "scatter",
           "x": [
            8.666229327072471e-05
           ],
           "xaxis": "x",
           "y": [
            0.3470628386720568
           ],
           "yaxis": "y"
          },
          {
           "hoverlabel": {
            "namelength": 0
           },
           "hovertemplate": "<b>%{hovertext}</b><br><br>city=%{text}<br>date=01-31<br>p=%{x}<br>beta=%{y}<br>size=%{marker.size}",
           "hovertext": [
            209
           ],
           "legendgroup": "黄石",
           "marker": {
            "color": "#FF6692",
            "size": [
             209
            ],
            "sizemode": "area",
            "sizeref": 2.7606611570247934,
            "symbol": "circle"
           },
           "mode": "markers+text",
           "name": "黄石",
           "showlegend": true,
           "text": [
            "黄石"
           ],
           "type": "scatter",
           "x": [
            8.502847843775427e-05
           ],
           "xaxis": "x",
           "y": [
            0.44592942386987067
           ],
           "yaxis": "y"
          },
          {
           "hoverlabel": {
            "namelength": 0
           },
           "hovertemplate": "<b>%{hovertext}</b><br><br>city=%{text}<br>date=01-31<br>p=%{x}<br>beta=%{y}<br>size=%{marker.size}",
           "hovertext": [
            97
           ],
           "legendgroup": "仙桃",
           "marker": {
            "color": "#B6E880",
            "size": [
             97
            ],
            "sizemode": "area",
            "sizeref": 2.7606611570247934,
            "symbol": "circle"
           },
           "mode": "markers+text",
           "name": "仙桃",
           "showlegend": true,
           "text": [
            "仙桃"
           ],
           "type": "scatter",
           "x": [
            6.217948717948718e-05
           ],
           "xaxis": "x",
           "y": [
            0.5434756535926427
           ],
           "yaxis": "y"
          },
          {
           "hoverlabel": {
            "namelength": 0
           },
           "hovertemplate": "<b>%{hovertext}</b><br><br>city=%{text}<br>date=01-31<br>p=%{x}<br>beta=%{y}<br>size=%{marker.size}",
           "hovertext": [
            82
           ],
           "legendgroup": "天门",
           "marker": {
            "color": "#FF97FF",
            "size": [
             82
            ],
            "sizemode": "area",
            "sizeref": 2.7606611570247934,
            "symbol": "circle"
           },
           "mode": "markers+text",
           "name": "天门",
           "showlegend": true,
           "text": [
            "天门"
           ],
           "type": "scatter",
           "x": [
            6.456692913385826e-05
           ],
           "xaxis": "x",
           "y": [
            0.4444894215438053
           ],
           "yaxis": "y"
          },
          {
           "hoverlabel": {
            "namelength": 0
           },
           "hovertemplate": "<b>%{hovertext}</b><br><br>city=%{text}<br>date=01-31<br>p=%{x}<br>beta=%{y}<br>size=%{marker.size}",
           "hovertext": [
            304
           ],
           "legendgroup": "随州",
           "marker": {
            "color": "#FECB52",
            "size": [
             304
            ],
            "sizemode": "area",
            "sizeref": 2.7606611570247934,
            "symbol": "circle"
           },
           "mode": "markers+text",
           "name": "随州",
           "showlegend": true,
           "text": [
            "随州"
           ],
           "type": "scatter",
           "x": [
            0.000138762096037977
           ],
           "xaxis": "x",
           "y": [
            0.4646221007132966
           ],
           "yaxis": "y"
          },
          {
           "hoverlabel": {
            "namelength": 0
           },
           "hovertemplate": "<b>%{hovertext}</b><br><br>city=%{text}<br>date=01-31<br>p=%{x}<br>beta=%{y}<br>size=%{marker.size}",
           "hovertext": [
            206
           ],
           "legendgroup": "咸宁",
           "marker": {
            "color": "#636efa",
            "size": [
             206
            ],
            "sizemode": "area",
            "sizeref": 2.7606611570247934,
            "symbol": "circle"
           },
           "mode": "markers+text",
           "name": "咸宁",
           "showlegend": true,
           "text": [
            "咸宁"
           ],
           "type": "scatter",
           "x": [
            8.216992421220582e-05
           ],
           "xaxis": "x",
           "y": [
            0.3426521795439525
           ],
           "yaxis": "y"
          },
          {
           "hoverlabel": {
            "namelength": 0
           },
           "hovertemplate": "<b>%{hovertext}</b><br><br>city=%{text}<br>date=01-31<br>p=%{x}<br>beta=%{y}<br>size=%{marker.size}",
           "hovertext": [
            177
           ],
           "legendgroup": "十堰",
           "marker": {
            "color": "#EF553B",
            "size": [
             177
            ],
            "sizemode": "area",
            "sizeref": 2.7606611570247934,
            "symbol": "circle"
           },
           "mode": "markers+text",
           "name": "十堰",
           "showlegend": true,
           "text": [
            "十堰"
           ],
           "type": "scatter",
           "x": [
            5.232042565770026e-05
           ],
           "xaxis": "x",
           "y": [
            0.38531181131694703
           ],
           "yaxis": "y"
          },
          {
           "hoverlabel": {
            "namelength": 0
           },
           "hovertemplate": "<b>%{hovertext}</b><br><br>city=%{text}<br>date=01-31<br>p=%{x}<br>beta=%{y}<br>size=%{marker.size}",
           "hovertext": [
            276
           ],
           "legendgroup": "宜昌",
           "marker": {
            "color": "#00cc96",
            "size": [
             276
            ],
            "sizemode": "area",
            "sizeref": 2.7606611570247934,
            "symbol": "circle"
           },
           "mode": "markers+text",
           "name": "宜昌",
           "showlegend": true,
           "text": [
            "宜昌"
           ],
           "type": "scatter",
           "x": [
            6.707168894289184e-05
           ],
           "xaxis": "x",
           "y": [
            0.636372481689279
           ],
           "yaxis": "y"
          },
          {
           "hoverlabel": {
            "namelength": 0
           },
           "hovertemplate": "<b>%{hovertext}</b><br><br>city=%{text}<br>date=01-31<br>p=%{x}<br>beta=%{y}<br>size=%{marker.size}",
           "hovertext": [
            87
           ],
           "legendgroup": "恩施",
           "marker": {
            "color": "#ab63fa",
            "size": [
             87
            ],
            "sizemode": "area",
            "sizeref": 2.7606611570247934,
            "symbol": "circle"
           },
           "mode": "markers+text",
           "name": "恩施",
           "showlegend": true,
           "text": [
            "恩施"
           ],
           "type": "scatter",
           "x": [
            2.6149684400360684e-05
           ],
           "xaxis": "x",
           "y": [
            0.3275202631541628
           ],
           "yaxis": "y"
          },
          {
           "hoverlabel": {
            "namelength": 0
           },
           "hovertemplate": "<b>%{hovertext}</b><br><br>city=%{text}<br>date=01-31<br>p=%{x}<br>beta=%{y}<br>size=%{marker.size}",
           "hovertext": [
            227
           ],
           "legendgroup": "鄂州",
           "marker": {
            "color": "#FFA15A",
            "size": [
             227
            ],
            "sizemode": "area",
            "sizeref": 2.7606611570247934,
            "symbol": "circle"
           },
           "mode": "markers+text",
           "name": "鄂州",
           "showlegend": true,
           "text": [
            "鄂州"
           ],
           "type": "scatter",
           "x": [
            0.0002142520056630486
           ],
           "xaxis": "x",
           "y": [
            0.4895233496599453
           ],
           "yaxis": "y"
          },
          {
           "hoverlabel": {
            "namelength": 0
           },
           "hovertemplate": "<b>%{hovertext}</b><br><br>city=%{text}<br>date=01-31<br>p=%{x}<br>beta=%{y}<br>size=%{marker.size}",
           "hovertext": [
            170
           ],
           "legendgroup": "深圳",
           "marker": {
            "color": "#19d3f3",
            "size": [
             170
            ],
            "sizemode": "area",
            "sizeref": 2.7606611570247934,
            "symbol": "circle"
           },
           "mode": "markers+text",
           "name": "深圳",
           "showlegend": true,
           "text": [
            "深圳"
           ],
           "type": "scatter",
           "x": [
            1.4944266676043464e-05
           ],
           "xaxis": "x",
           "y": [
            0.4640566804763208
           ],
           "yaxis": "y"
          },
          {
           "hoverlabel": {
            "namelength": 0
           },
           "hovertemplate": "<b>%{hovertext}</b><br><br>city=%{text}<br>date=01-31<br>p=%{x}<br>beta=%{y}<br>size=%{marker.size}",
           "hovertext": [
            137
           ],
           "legendgroup": "广州",
           "marker": {
            "color": "#FF6692",
            "size": [
             137
            ],
            "sizemode": "area",
            "sizeref": 2.7606611570247934,
            "symbol": "circle"
           },
           "mode": "markers+text",
           "name": "广州",
           "showlegend": true,
           "text": [
            "广州"
           ],
           "type": "scatter",
           "x": [
            1.014995258416311e-05
           ],
           "xaxis": "x",
           "y": [
            0.4010809105523087
           ],
           "yaxis": "y"
          },
          {
           "hoverlabel": {
            "namelength": 0
           },
           "hovertemplate": "<b>%{hovertext}</b><br><br>city=%{text}<br>date=01-31<br>p=%{x}<br>beta=%{y}<br>size=%{marker.size}",
           "hovertext": [
            38
           ],
           "legendgroup": "珠海",
           "marker": {
            "color": "#B6E880",
            "size": [
             38
            ],
            "sizemode": "area",
            "sizeref": 2.7606611570247934,
            "symbol": "circle"
           },
           "mode": "markers+text",
           "name": "珠海",
           "showlegend": true,
           "text": [
            "珠海"
           ],
           "type": "scatter",
           "x": [
            2.3261508325171398e-05
           ],
           "xaxis": "x",
           "y": [
            0.4696531292102794
           ],
           "yaxis": "y"
          },
          {
           "hoverlabel": {
            "namelength": 0
           },
           "hovertemplate": "<b>%{hovertext}</b><br><br>city=%{text}<br>date=01-31<br>p=%{x}<br>beta=%{y}<br>size=%{marker.size}",
           "hovertext": [
            40
           ],
           "legendgroup": "新余",
           "marker": {
            "color": "#FF97FF",
            "size": [
             40
            ],
            "sizemode": "area",
            "sizeref": 2.7606611570247934,
            "symbol": "circle"
           },
           "mode": "markers+text",
           "name": "新余",
           "showlegend": true,
           "text": [
            "新余"
           ],
           "type": "scatter",
           "x": [
            3.4284734721865086e-05
           ],
           "xaxis": "x",
           "y": [
            0.5733927955706198
           ],
           "yaxis": "y"
          },
          {
           "hoverlabel": {
            "namelength": 0
           },
           "hovertemplate": "<b>%{hovertext}</b><br><br>city=%{text}<br>date=01-31<br>p=%{x}<br>beta=%{y}<br>size=%{marker.size}",
           "hovertext": [
            241
           ],
           "legendgroup": "温州",
           "marker": {
            "color": "#FECB52",
            "size": [
             241
            ],
            "sizemode": "area",
            "sizeref": 2.7606611570247934,
            "symbol": "circle"
           },
           "mode": "markers+text",
           "name": "温州",
           "showlegend": true,
           "text": [
            "温州"
           ],
           "type": "scatter",
           "x": [
            2.643413403531864e-05
           ],
           "xaxis": "x",
           "y": [
            0.4178401368882837
           ],
           "yaxis": "y"
          },
          {
           "hoverlabel": {
            "namelength": 0
           },
           "hovertemplate": "<b>%{hovertext}</b><br><br>city=%{text}<br>date=01-31<br>p=%{x}<br>beta=%{y}<br>size=%{marker.size}",
           "hovertext": [
            156
           ],
           "legendgroup": "北京",
           "marker": {
            "color": "#636efa",
            "size": [
             156
            ],
            "sizemode": "area",
            "sizeref": 2.7606611570247934,
            "symbol": "circle"
           },
           "mode": "markers+text",
           "name": "北京",
           "showlegend": true,
           "text": [
            "北京"
           ],
           "type": "scatter",
           "x": [
            7.18728403593642e-06
           ],
           "xaxis": "x",
           "y": [
            0.2687205181315572
           ],
           "yaxis": "y"
          },
          {
           "hoverlabel": {
            "namelength": 0
           },
           "hovertemplate": "<b>%{hovertext}</b><br><br>city=%{text}<br>date=01-31<br>p=%{x}<br>beta=%{y}<br>size=%{marker.size}",
           "hovertext": [
            153
           ],
           "legendgroup": "上海",
           "marker": {
            "color": "#EF553B",
            "size": [
             153
            ],
            "sizemode": "area",
            "sizeref": 2.7606611570247934,
            "symbol": "circle"
           },
           "mode": "markers+text",
           "name": "上海",
           "showlegend": true,
           "text": [
            "上海"
           ],
           "type": "scatter",
           "x": [
            6.334695499882001e-06
           ],
           "xaxis": "x",
           "y": [
            0.3636999941947425
           ],
           "yaxis": "y"
          }
         ],
         "name": "01-31"
        },
        {
         "data": [
          {
           "hoverlabel": {
            "namelength": 0
           },
           "hovertemplate": "<b>%{hovertext}</b><br><br>city=%{text}<br>date=02-01<br>p=%{x}<br>beta=%{y}<br>size=%{marker.size}",
           "hovertext": [
            4109
           ],
           "legendgroup": "武汉",
           "marker": {
            "color": "#636efa",
            "size": [
             4109
            ],
            "sizemode": "area",
            "sizeref": 2.7606611570247934,
            "symbol": "circle"
           },
           "mode": "markers+text",
           "name": "武汉",
           "showlegend": true,
           "text": [
            "武汉"
           ],
           "type": "scatter",
           "x": [
            0.0003873601251920775
           ],
           "xaxis": "x",
           "y": [
            0.33537265649149395
           ],
           "yaxis": "y"
          },
          {
           "hoverlabel": {
            "namelength": 0
           },
           "hovertemplate": "<b>%{hovertext}</b><br><br>city=%{text}<br>date=02-01<br>p=%{x}<br>beta=%{y}<br>size=%{marker.size}",
           "hovertext": [
            1002
           ],
           "legendgroup": "黄冈",
           "marker": {
            "color": "#EF553B",
            "size": [
             1002
            ],
            "sizemode": "area",
            "sizeref": 2.7606611570247934,
            "symbol": "circle"
           },
           "mode": "markers+text",
           "name": "黄冈",
           "showlegend": true,
           "text": [
            "黄冈"
           ],
           "type": "scatter",
           "x": [
            0.00015927515498330948
           ],
           "xaxis": "x",
           "y": [
            0.3652841776807286
           ],
           "yaxis": "y"
          },
          {
           "hoverlabel": {
            "namelength": 0
           },
           "hovertemplate": "<b>%{hovertext}</b><br><br>city=%{text}<br>date=02-01<br>p=%{x}<br>beta=%{y}<br>size=%{marker.size}",
           "hovertext": [
            749
           ],
           "legendgroup": "孝感",
           "marker": {
            "color": "#00cc96",
            "size": [
             749
            ],
            "sizemode": "area",
            "sizeref": 2.7606611570247934,
            "symbol": "circle"
           },
           "mode": "markers+text",
           "name": "孝感",
           "showlegend": true,
           "text": [
            "孝感"
           ],
           "type": "scatter",
           "x": [
            0.00015354653546535466
           ],
           "xaxis": "x",
           "y": [
            0.359986996854034
           ],
           "yaxis": "y"
          },
          {
           "hoverlabel": {
            "namelength": 0
           },
           "hovertemplate": "<b>%{hovertext}</b><br><br>city=%{text}<br>date=02-01<br>p=%{x}<br>beta=%{y}<br>size=%{marker.size}",
           "hovertext": [
            441
           ],
           "legendgroup": "襄阳",
           "marker": {
            "color": "#ab63fa",
            "size": [
             441
            ],
            "sizemode": "area",
            "sizeref": 2.7606611570247934,
            "symbol": "circle"
           },
           "mode": "markers+text",
           "name": "襄阳",
           "showlegend": true,
           "text": [
            "襄阳"
           ],
           "type": "scatter",
           "x": [
            7.855361596009974e-05
           ],
           "xaxis": "x",
           "y": [
            0.4889537182238246
           ],
           "yaxis": "y"
          },
          {
           "hoverlabel": {
            "namelength": 0
           },
           "hovertemplate": "<b>%{hovertext}</b><br><br>city=%{text}<br>date=02-01<br>p=%{x}<br>beta=%{y}<br>size=%{marker.size}",
           "hovertext": [
            333
           ],
           "legendgroup": "荆州",
           "marker": {
            "color": "#FFA15A",
            "size": [
             333
            ],
            "sizemode": "area",
            "sizeref": 2.7606611570247934,
            "symbol": "circle"
           },
           "mode": "markers+text",
           "name": "荆州",
           "showlegend": true,
           "text": [
            "荆州"
           ],
           "type": "scatter",
           "x": [
            5.8360644245430174e-05
           ],
           "xaxis": "x",
           "y": [
            0.4219137754304732
           ],
           "yaxis": "y"
          },
          {
           "hoverlabel": {
            "namelength": 0
           },
           "hovertemplate": "<b>%{hovertext}</b><br><br>city=%{text}<br>date=02-01<br>p=%{x}<br>beta=%{y}<br>size=%{marker.size}",
           "hovertext": [
            329
           ],
           "legendgroup": "荆门",
           "marker": {
            "color": "#19d3f3",
            "size": [
             329
            ],
            "sizemode": "area",
            "sizeref": 2.7606611570247934,
            "symbol": "circle"
           },
           "mode": "markers+text",
           "name": "荆门",
           "showlegend": true,
           "text": [
            "荆门"
           ],
           "type": "scatter",
           "x": [
            0.0001135932051237786
           ],
           "xaxis": "x",
           "y": [
            0.313900658990451
           ],
           "yaxis": "y"
          },
          {
           "hoverlabel": {
            "namelength": 0
           },
           "hovertemplate": "<b>%{hovertext}</b><br><br>city=%{text}<br>date=02-01<br>p=%{x}<br>beta=%{y}<br>size=%{marker.size}",
           "hovertext": [
            252
           ],
           "legendgroup": "黄石",
           "marker": {
            "color": "#FF6692",
            "size": [
             252
            ],
            "sizemode": "area",
            "sizeref": 2.7606611570247934,
            "symbol": "circle"
           },
           "mode": "markers+text",
           "name": "黄石",
           "showlegend": true,
           "text": [
            "黄石"
           ],
           "type": "scatter",
           "x": [
            0.00010252237591537835
           ],
           "xaxis": "x",
           "y": [
            0.42230742015682493
           ],
           "yaxis": "y"
          },
          {
           "hoverlabel": {
            "namelength": 0
           },
           "hovertemplate": "<b>%{hovertext}</b><br><br>city=%{text}<br>date=02-01<br>p=%{x}<br>beta=%{y}<br>size=%{marker.size}",
           "hovertext": [
            140
           ],
           "legendgroup": "仙桃",
           "marker": {
            "color": "#B6E880",
            "size": [
             140
            ],
            "sizemode": "area",
            "sizeref": 2.7606611570247934,
            "symbol": "circle"
           },
           "mode": "markers+text",
           "name": "仙桃",
           "showlegend": true,
           "text": [
            "仙桃"
           ],
           "type": "scatter",
           "x": [
            8.974358974358975e-05
           ],
           "xaxis": "x",
           "y": [
            0.4542528650686721
           ],
           "yaxis": "y"
          },
          {
           "hoverlabel": {
            "namelength": 0
           },
           "hovertemplate": "<b>%{hovertext}</b><br><br>city=%{text}<br>date=02-01<br>p=%{x}<br>beta=%{y}<br>size=%{marker.size}",
           "hovertext": [
            99
           ],
           "legendgroup": "天门",
           "marker": {
            "color": "#FF97FF",
            "size": [
             99
            ],
            "sizemode": "area",
            "sizeref": 2.7606611570247934,
            "symbol": "circle"
           },
           "mode": "markers+text",
           "name": "天门",
           "showlegend": true,
           "text": [
            "天门"
           ],
           "type": "scatter",
           "x": [
            7.795275590551181e-05
           ],
           "xaxis": "x",
           "y": [
            0.4260119116931699
           ],
           "yaxis": "y"
          },
          {
           "hoverlabel": {
            "namelength": 0
           },
           "hovertemplate": "<b>%{hovertext}</b><br><br>city=%{text}<br>date=02-01<br>p=%{x}<br>beta=%{y}<br>size=%{marker.size}",
           "hovertext": [
            384
           ],
           "legendgroup": "随州",
           "marker": {
            "color": "#FECB52",
            "size": [
             384
            ],
            "sizemode": "area",
            "sizeref": 2.7606611570247934,
            "symbol": "circle"
           },
           "mode": "markers+text",
           "name": "随州",
           "showlegend": true,
           "text": [
            "随州"
           ],
           "type": "scatter",
           "x": [
            0.00017527843710060252
           ],
           "xaxis": "x",
           "y": [
            0.484454726807367
           ],
           "yaxis": "y"
          },
          {
           "hoverlabel": {
            "namelength": 0
           },
           "hovertemplate": "<b>%{hovertext}</b><br><br>city=%{text}<br>date=02-01<br>p=%{x}<br>beta=%{y}<br>size=%{marker.size}",
           "hovertext": [
            246
           ],
           "legendgroup": "咸宁",
           "marker": {
            "color": "#636efa",
            "size": [
             246
            ],
            "sizemode": "area",
            "sizeref": 2.7606611570247934,
            "symbol": "circle"
           },
           "mode": "markers+text",
           "name": "咸宁",
           "showlegend": true,
           "text": [
            "咸宁"
           ],
           "type": "scatter",
           "x": [
            9.812524930195451e-05
           ],
           "xaxis": "x",
           "y": [
            0.36046062473004215
           ],
           "yaxis": "y"
          },
          {
           "hoverlabel": {
            "namelength": 0
           },
           "hovertemplate": "<b>%{hovertext}</b><br><br>city=%{text}<br>date=02-01<br>p=%{x}<br>beta=%{y}<br>size=%{marker.size}",
           "hovertext": [
            212
           ],
           "legendgroup": "十堰",
           "marker": {
            "color": "#EF553B",
            "size": [
             212
            ],
            "sizemode": "area",
            "sizeref": 2.7606611570247934,
            "symbol": "circle"
           },
           "mode": "markers+text",
           "name": "十堰",
           "showlegend": true,
           "text": [
            "十堰"
           ],
           "type": "scatter",
           "x": [
            6.266627253916642e-05
           ],
           "xaxis": "x",
           "y": [
            0.33820876393475274
           ],
           "yaxis": "y"
          },
          {
           "hoverlabel": {
            "namelength": 0
           },
           "hovertemplate": "<b>%{hovertext}</b><br><br>city=%{text}<br>date=02-01<br>p=%{x}<br>beta=%{y}<br>size=%{marker.size}",
           "hovertext": [
            353
           ],
           "legendgroup": "宜昌",
           "marker": {
            "color": "#00cc96",
            "size": [
             353
            ],
            "sizemode": "area",
            "sizeref": 2.7606611570247934,
            "symbol": "circle"
           },
           "mode": "markers+text",
           "name": "宜昌",
           "showlegend": true,
           "text": [
            "宜昌"
           ],
           "type": "scatter",
           "x": [
            8.578371810449575e-05
           ],
           "xaxis": "x",
           "y": [
            0.521642264535803
           ],
           "yaxis": "y"
          },
          {
           "hoverlabel": {
            "namelength": 0
           },
           "hovertemplate": "<b>%{hovertext}</b><br><br>city=%{text}<br>date=02-01<br>p=%{x}<br>beta=%{y}<br>size=%{marker.size}",
           "hovertext": [
            105
           ],
           "legendgroup": "恩施",
           "marker": {
            "color": "#ab63fa",
            "size": [
             105
            ],
            "sizemode": "area",
            "sizeref": 2.7606611570247934,
            "symbol": "circle"
           },
           "mode": "markers+text",
           "name": "恩施",
           "showlegend": true,
           "text": [
            "恩施"
           ],
           "type": "scatter",
           "x": [
            3.1559963931469794e-05
           ],
           "xaxis": "x",
           "y": [
            0.2925783383435275
           ],
           "yaxis": "y"
          },
          {
           "hoverlabel": {
            "namelength": 0
           },
           "hovertemplate": "<b>%{hovertext}</b><br><br>city=%{text}<br>date=02-01<br>p=%{x}<br>beta=%{y}<br>size=%{marker.size}",
           "hovertext": [
            278
           ],
           "legendgroup": "鄂州",
           "marker": {
            "color": "#FFA15A",
            "size": [
             278
            ],
            "sizemode": "area",
            "sizeref": 2.7606611570247934,
            "symbol": "circle"
           },
           "mode": "markers+text",
           "name": "鄂州",
           "showlegend": true,
           "text": [
            "鄂州"
           ],
           "type": "scatter",
           "x": [
            0.00026238791882963656
           ],
           "xaxis": "x",
           "y": [
            0.42647772360813
           ],
           "yaxis": "y"
          },
          {
           "hoverlabel": {
            "namelength": 0
           },
           "hovertemplate": "<b>%{hovertext}</b><br><br>city=%{text}<br>date=02-01<br>p=%{x}<br>beta=%{y}<br>size=%{marker.size}",
           "hovertext": [
            196
           ],
           "legendgroup": "深圳",
           "marker": {
            "color": "#19d3f3",
            "size": [
             196
            ],
            "sizemode": "area",
            "sizeref": 2.7606611570247934,
            "symbol": "circle"
           },
           "mode": "markers+text",
           "name": "深圳",
           "showlegend": true,
           "text": [
            "深圳"
           ],
           "type": "scatter",
           "x": [
            1.7229860402967756e-05
           ],
           "xaxis": "x",
           "y": [
            0.4303292446136029
           ],
           "yaxis": "y"
          },
          {
           "hoverlabel": {
            "namelength": 0
           },
           "hovertemplate": "<b>%{hovertext}</b><br><br>city=%{text}<br>date=02-01<br>p=%{x}<br>beta=%{y}<br>size=%{marker.size}",
           "hovertext": [
            175
           ],
           "legendgroup": "广州",
           "marker": {
            "color": "#FF6692",
            "size": [
             175
            ],
            "sizemode": "area",
            "sizeref": 2.7606611570247934,
            "symbol": "circle"
           },
           "mode": "markers+text",
           "name": "广州",
           "showlegend": true,
           "text": [
            "广州"
           ],
           "type": "scatter",
           "x": [
            1.2965267899478426e-05
           ],
           "xaxis": "x",
           "y": [
            0.41088411541874137
           ],
           "yaxis": "y"
          },
          {
           "hoverlabel": {
            "namelength": 0
           },
           "hovertemplate": "<b>%{hovertext}</b><br><br>city=%{text}<br>date=02-01<br>p=%{x}<br>beta=%{y}<br>size=%{marker.size}",
           "hovertext": [
            41
           ],
           "legendgroup": "珠海",
           "marker": {
            "color": "#B6E880",
            "size": [
             41
            ],
            "sizemode": "area",
            "sizeref": 2.7606611570247934,
            "symbol": "circle"
           },
           "mode": "markers+text",
           "name": "珠海",
           "showlegend": true,
           "text": [
            "珠海"
           ],
           "type": "scatter",
           "x": [
            2.5097943192948088e-05
           ],
           "xaxis": "x",
           "y": [
            0.4405908576213597
           ],
           "yaxis": "y"
          },
          {
           "hoverlabel": {
            "namelength": 0
           },
           "hovertemplate": "<b>%{hovertext}</b><br><br>city=%{text}<br>date=02-01<br>p=%{x}<br>beta=%{y}<br>size=%{marker.size}",
           "hovertext": [
            43
           ],
           "legendgroup": "新余",
           "marker": {
            "color": "#FF97FF",
            "size": [
             43
            ],
            "sizemode": "area",
            "sizeref": 2.7606611570247934,
            "symbol": "circle"
           },
           "mode": "markers+text",
           "name": "新余",
           "showlegend": true,
           "text": [
            "新余"
           ],
           "type": "scatter",
           "x": [
            3.6856089826004966e-05
           ],
           "xaxis": "x",
           "y": [
            0.6372764391604426
           ],
           "yaxis": "y"
          },
          {
           "hoverlabel": {
            "namelength": 0
           },
           "hovertemplate": "<b>%{hovertext}</b><br><br>city=%{text}<br>date=02-01<br>p=%{x}<br>beta=%{y}<br>size=%{marker.size}",
           "hovertext": [
            265
           ],
           "legendgroup": "温州",
           "marker": {
            "color": "#FECB52",
            "size": [
             265
            ],
            "sizemode": "area",
            "sizeref": 2.7606611570247934,
            "symbol": "circle"
           },
           "mode": "markers+text",
           "name": "温州",
           "showlegend": true,
           "text": [
            "温州"
           ],
           "type": "scatter",
           "x": [
            2.9066578918503887e-05
           ],
           "xaxis": "x",
           "y": [
            0.2989692949107861
           ],
           "yaxis": "y"
          },
          {
           "hoverlabel": {
            "namelength": 0
           },
           "hovertemplate": "<b>%{hovertext}</b><br><br>city=%{text}<br>date=02-01<br>p=%{x}<br>beta=%{y}<br>size=%{marker.size}",
           "hovertext": [
            183
           ],
           "legendgroup": "北京",
           "marker": {
            "color": "#636efa",
            "size": [
             183
            ],
            "sizemode": "area",
            "sizeref": 2.7606611570247934,
            "symbol": "circle"
           },
           "mode": "markers+text",
           "name": "北京",
           "showlegend": true,
           "text": [
            "北京"
           ],
           "type": "scatter",
           "x": [
            8.431237042156184e-06
           ],
           "xaxis": "x",
           "y": [
            0.3071041879050205
           ],
           "yaxis": "y"
          },
          {
           "hoverlabel": {
            "namelength": 0
           },
           "hovertemplate": "<b>%{hovertext}</b><br><br>city=%{text}<br>date=02-01<br>p=%{x}<br>beta=%{y}<br>size=%{marker.size}",
           "hovertext": [
            177
           ],
           "legendgroup": "上海",
           "marker": {
            "color": "#EF553B",
            "size": [
             177
            ],
            "sizemode": "area",
            "sizeref": 2.7606611570247934,
            "symbol": "circle"
           },
           "mode": "markers+text",
           "name": "上海",
           "showlegend": true,
           "text": [
            "上海"
           ],
           "type": "scatter",
           "x": [
            7.328373225353688e-06
           ],
           "xaxis": "x",
           "y": [
            0.3364916892390629
           ],
           "yaxis": "y"
          }
         ],
         "name": "02-01"
        },
        {
         "data": [
          {
           "hoverlabel": {
            "namelength": 0
           },
           "hovertemplate": "<b>%{hovertext}</b><br><br>city=%{text}<br>date=02-02<br>p=%{x}<br>beta=%{y}<br>size=%{marker.size}",
           "hovertext": [
            5142
           ],
           "legendgroup": "武汉",
           "marker": {
            "color": "#636efa",
            "size": [
             5142
            ],
            "sizemode": "area",
            "sizeref": 2.7606611570247934,
            "symbol": "circle"
           },
           "mode": "markers+text",
           "name": "武汉",
           "showlegend": true,
           "text": [
            "武汉"
           ],
           "type": "scatter",
           "x": [
            0.0004847422155603948
           ],
           "xaxis": "x",
           "y": [
            0.3643007032786396
           ],
           "yaxis": "y"
          },
          {
           "hoverlabel": {
            "namelength": 0
           },
           "hovertemplate": "<b>%{hovertext}</b><br><br>city=%{text}<br>date=02-02<br>p=%{x}<br>beta=%{y}<br>size=%{marker.size}",
           "hovertext": [
            1246
           ],
           "legendgroup": "黄冈",
           "marker": {
            "color": "#EF553B",
            "size": [
             1246
            ],
            "sizemode": "area",
            "sizeref": 2.7606611570247934,
            "symbol": "circle"
           },
           "mode": "markers+text",
           "name": "黄冈",
           "showlegend": true,
           "text": [
            "黄冈"
           ],
           "type": "scatter",
           "x": [
            0.00019806072166587187
           ],
           "xaxis": "x",
           "y": [
            0.4054150042323116
           ],
           "yaxis": "y"
          },
          {
           "hoverlabel": {
            "namelength": 0
           },
           "hovertemplate": "<b>%{hovertext}</b><br><br>city=%{text}<br>date=02-02<br>p=%{x}<br>beta=%{y}<br>size=%{marker.size}",
           "hovertext": [
            918
           ],
           "legendgroup": "孝感",
           "marker": {
            "color": "#00cc96",
            "size": [
             918
            ],
            "sizemode": "area",
            "sizeref": 2.7606611570247934,
            "symbol": "circle"
           },
           "mode": "markers+text",
           "name": "孝感",
           "showlegend": true,
           "text": [
            "孝感"
           ],
           "type": "scatter",
           "x": [
            0.00018819188191881918
           ],
           "xaxis": "x",
           "y": [
            0.3149888620811198
           ],
           "yaxis": "y"
          },
          {
           "hoverlabel": {
            "namelength": 0
           },
           "hovertemplate": "<b>%{hovertext}</b><br><br>city=%{text}<br>date=02-02<br>p=%{x}<br>beta=%{y}<br>size=%{marker.size}",
           "hovertext": [
            548
           ],
           "legendgroup": "襄阳",
           "marker": {
            "color": "#ab63fa",
            "size": [
             548
            ],
            "sizemode": "area",
            "sizeref": 2.7606611570247934,
            "symbol": "circle"
           },
           "mode": "markers+text",
           "name": "襄阳",
           "showlegend": true,
           "text": [
            "襄阳"
           ],
           "type": "scatter",
           "x": [
            9.7613110081938e-05
           ],
           "xaxis": "x",
           "y": [
            0.35878465902971723
           ],
           "yaxis": "y"
          },
          {
           "hoverlabel": {
            "namelength": 0
           },
           "hovertemplate": "<b>%{hovertext}</b><br><br>city=%{text}<br>date=02-02<br>p=%{x}<br>beta=%{y}<br>size=%{marker.size}",
           "hovertext": [
            499
           ],
           "legendgroup": "荆州",
           "marker": {
            "color": "#FFA15A",
            "size": [
             499
            ],
            "sizemode": "area",
            "sizeref": 2.7606611570247934,
            "symbol": "circle"
           },
           "mode": "markers+text",
           "name": "荆州",
           "showlegend": true,
           "text": [
            "荆州"
           ],
           "type": "scatter",
           "x": [
            8.745333777318215e-05
           ],
           "xaxis": "x",
           "y": [
            0.4013061152024956
           ],
           "yaxis": "y"
          },
          {
           "hoverlabel": {
            "namelength": 0
           },
           "hovertemplate": "<b>%{hovertext}</b><br><br>city=%{text}<br>date=02-02<br>p=%{x}<br>beta=%{y}<br>size=%{marker.size}",
           "hovertext": [
            345
           ],
           "legendgroup": "荆门",
           "marker": {
            "color": "#19d3f3",
            "size": [
             345
            ],
            "sizemode": "area",
            "sizeref": 2.7606611570247934,
            "symbol": "circle"
           },
           "mode": "markers+text",
           "name": "荆门",
           "showlegend": true,
           "text": [
            "荆门"
           ],
           "type": "scatter",
           "x": [
            0.00011911749473466145
           ],
           "xaxis": "x",
           "y": [
            0.29324620752880903
           ],
           "yaxis": "y"
          },
          {
           "hoverlabel": {
            "namelength": 0
           },
           "hovertemplate": "<b>%{hovertext}</b><br><br>city=%{text}<br>date=02-02<br>p=%{x}<br>beta=%{y}<br>size=%{marker.size}",
           "hovertext": [
            334
           ],
           "legendgroup": "黄石",
           "marker": {
            "color": "#FF6692",
            "size": [
             334
            ],
            "sizemode": "area",
            "sizeref": 2.7606611570247934,
            "symbol": "circle"
           },
           "mode": "markers+text",
           "name": "黄石",
           "showlegend": true,
           "text": [
            "黄石"
           ],
           "type": "scatter",
           "x": [
            0.00013588283157038242
           ],
           "xaxis": "x",
           "y": [
            0.3660879403850238
           ],
           "yaxis": "y"
          },
          {
           "hoverlabel": {
            "namelength": 0
           },
           "hovertemplate": "<b>%{hovertext}</b><br><br>city=%{text}<br>date=02-02<br>p=%{x}<br>beta=%{y}<br>size=%{marker.size}",
           "hovertext": [
            169
           ],
           "legendgroup": "仙桃",
           "marker": {
            "color": "#B6E880",
            "size": [
             169
            ],
            "sizemode": "area",
            "sizeref": 2.7606611570247934,
            "symbol": "circle"
           },
           "mode": "markers+text",
           "name": "仙桃",
           "showlegend": true,
           "text": [
            "仙桃"
           ],
           "type": "scatter",
           "x": [
            0.00010833333333333333
           ],
           "xaxis": "x",
           "y": [
            0.3507736697139718
           ],
           "yaxis": "y"
          },
          {
           "hoverlabel": {
            "namelength": 0
           },
           "hovertemplate": "<b>%{hovertext}</b><br><br>city=%{text}<br>date=02-02<br>p=%{x}<br>beta=%{y}<br>size=%{marker.size}",
           "hovertext": [
            115
           ],
           "legendgroup": "天门",
           "marker": {
            "color": "#FF97FF",
            "size": [
             115
            ],
            "sizemode": "area",
            "sizeref": 2.7606611570247934,
            "symbol": "circle"
           },
           "mode": "markers+text",
           "name": "天门",
           "showlegend": true,
           "text": [
            "天门"
           ],
           "type": "scatter",
           "x": [
            9.055118110236221e-05
           ],
           "xaxis": "x",
           "y": [
            0.3272928901277604
           ],
           "yaxis": "y"
          },
          {
           "hoverlabel": {
            "namelength": 0
           },
           "hovertemplate": "<b>%{hovertext}</b><br><br>city=%{text}<br>date=02-02<br>p=%{x}<br>beta=%{y}<br>size=%{marker.size}",
           "hovertext": [
            458
           ],
           "legendgroup": "随州",
           "marker": {
            "color": "#FECB52",
            "size": [
             458
            ],
            "sizemode": "area",
            "sizeref": 2.7606611570247934,
            "symbol": "circle"
           },
           "mode": "markers+text",
           "name": "随州",
           "showlegend": true,
           "text": [
            "随州"
           ],
           "type": "scatter",
           "x": [
            0.00020905605258353114
           ],
           "xaxis": "x",
           "y": [
            0.3832760536046013
           ],
           "yaxis": "y"
          },
          {
           "hoverlabel": {
            "namelength": 0
           },
           "hovertemplate": "<b>%{hovertext}</b><br><br>city=%{text}<br>date=02-02<br>p=%{x}<br>beta=%{y}<br>size=%{marker.size}",
           "hovertext": [
            296
           ],
           "legendgroup": "咸宁",
           "marker": {
            "color": "#636efa",
            "size": [
             296
            ],
            "sizemode": "area",
            "sizeref": 2.7606611570247934,
            "symbol": "circle"
           },
           "mode": "markers+text",
           "name": "咸宁",
           "showlegend": true,
           "text": [
            "咸宁"
           ],
           "type": "scatter",
           "x": [
            0.0001180694056641404
           ],
           "xaxis": "x",
           "y": [
            0.3374316130083391
           ],
           "yaxis": "y"
          },
          {
           "hoverlabel": {
            "namelength": 0
           },
           "hovertemplate": "<b>%{hovertext}</b><br><br>city=%{text}<br>date=02-02<br>p=%{x}<br>beta=%{y}<br>size=%{marker.size}",
           "hovertext": [
            256
           ],
           "legendgroup": "十堰",
           "marker": {
            "color": "#EF553B",
            "size": [
             256
            ],
            "sizemode": "area",
            "sizeref": 2.7606611570247934,
            "symbol": "circle"
           },
           "mode": "markers+text",
           "name": "十堰",
           "showlegend": true,
           "text": [
            "十堰"
           ],
           "type": "scatter",
           "x": [
            7.56724800472953e-05
           ],
           "xaxis": "x",
           "y": [
            0.3193704727017665
           ],
           "yaxis": "y"
          },
          {
           "hoverlabel": {
            "namelength": 0
           },
           "hovertemplate": "<b>%{hovertext}</b><br><br>city=%{text}<br>date=02-02<br>p=%{x}<br>beta=%{y}<br>size=%{marker.size}",
           "hovertext": [
            392
           ],
           "legendgroup": "宜昌",
           "marker": {
            "color": "#00cc96",
            "size": [
             392
            ],
            "sizemode": "area",
            "sizeref": 2.7606611570247934,
            "symbol": "circle"
           },
           "mode": "markers+text",
           "name": "宜昌",
           "showlegend": true,
           "text": [
            "宜昌"
           ],
           "type": "scatter",
           "x": [
            9.526123936816523e-05
           ],
           "xaxis": "x",
           "y": [
            0.4518074770600233
           ],
           "yaxis": "y"
          },
          {
           "hoverlabel": {
            "namelength": 0
           },
           "hovertemplate": "<b>%{hovertext}</b><br><br>city=%{text}<br>date=02-02<br>p=%{x}<br>beta=%{y}<br>size=%{marker.size}",
           "hovertext": [
            111
           ],
           "legendgroup": "恩施",
           "marker": {
            "color": "#ab63fa",
            "size": [
             111
            ],
            "sizemode": "area",
            "sizeref": 2.7606611570247934,
            "symbol": "circle"
           },
           "mode": "markers+text",
           "name": "恩施",
           "showlegend": true,
           "text": [
            "恩施"
           ],
           "type": "scatter",
           "x": [
            3.3363390441839496e-05
           ],
           "xaxis": "x",
           "y": [
            0.2836485107597076
           ],
           "yaxis": "y"
          },
          {
           "hoverlabel": {
            "namelength": 0
           },
           "hovertemplate": "<b>%{hovertext}</b><br><br>city=%{text}<br>date=02-02<br>p=%{x}<br>beta=%{y}<br>size=%{marker.size}",
           "hovertext": [
            306
           ],
           "legendgroup": "鄂州",
           "marker": {
            "color": "#FFA15A",
            "size": [
             306
            ],
            "sizemode": "area",
            "sizeref": 2.7606611570247934,
            "symbol": "circle"
           },
           "mode": "markers+text",
           "name": "鄂州",
           "showlegend": true,
           "text": [
            "鄂州"
           ],
           "type": "scatter",
           "x": [
            0.00028881547899952813
           ],
           "xaxis": "x",
           "y": [
            0.3121562178594852
           ],
           "yaxis": "y"
          },
          {
           "hoverlabel": {
            "namelength": 0
           },
           "hovertemplate": "<b>%{hovertext}</b><br><br>city=%{text}<br>date=02-02<br>p=%{x}<br>beta=%{y}<br>size=%{marker.size}",
           "hovertext": [
            226
           ],
           "legendgroup": "深圳",
           "marker": {
            "color": "#19d3f3",
            "size": [
             226
            ],
            "sizemode": "area",
            "sizeref": 2.7606611570247934,
            "symbol": "circle"
           },
           "mode": "markers+text",
           "name": "深圳",
           "showlegend": true,
           "text": [
            "深圳"
           ],
           "type": "scatter",
           "x": [
            1.9867083934034248e-05
           ],
           "xaxis": "x",
           "y": [
            0.3998150630076163
           ],
           "yaxis": "y"
          },
          {
           "hoverlabel": {
            "namelength": 0
           },
           "hovertemplate": "<b>%{hovertext}</b><br><br>city=%{text}<br>date=02-02<br>p=%{x}<br>beta=%{y}<br>size=%{marker.size}",
           "hovertext": [
            189
           ],
           "legendgroup": "广州",
           "marker": {
            "color": "#FF6692",
            "size": [
             189
            ],
            "sizemode": "area",
            "sizeref": 2.7606611570247934,
            "symbol": "circle"
           },
           "mode": "markers+text",
           "name": "广州",
           "showlegend": true,
           "text": [
            "广州"
           ],
           "type": "scatter",
           "x": [
            1.4002489331436701e-05
           ],
           "xaxis": "x",
           "y": [
            0.35128666686473003
           ],
           "yaxis": "y"
          },
          {
           "hoverlabel": {
            "namelength": 0
           },
           "hovertemplate": "<b>%{hovertext}</b><br><br>city=%{text}<br>date=02-02<br>p=%{x}<br>beta=%{y}<br>size=%{marker.size}",
           "hovertext": [
            51
           ],
           "legendgroup": "珠海",
           "marker": {
            "color": "#B6E880",
            "size": [
             51
            ],
            "sizemode": "area",
            "sizeref": 2.7606611570247934,
            "symbol": "circle"
           },
           "mode": "markers+text",
           "name": "珠海",
           "showlegend": true,
           "text": [
            "珠海"
           ],
           "type": "scatter",
           "x": [
            3.121939275220372e-05
           ],
           "xaxis": "x",
           "y": [
            0.373708046926723
           ],
           "yaxis": "y"
          },
          {
           "hoverlabel": {
            "namelength": 0
           },
           "hovertemplate": "<b>%{hovertext}</b><br><br>city=%{text}<br>date=02-02<br>p=%{x}<br>beta=%{y}<br>size=%{marker.size}",
           "hovertext": [
            50
           ],
           "legendgroup": "新余",
           "marker": {
            "color": "#FF97FF",
            "size": [
             50
            ],
            "sizemode": "area",
            "sizeref": 2.7606611570247934,
            "symbol": "circle"
           },
           "mode": "markers+text",
           "name": "新余",
           "showlegend": true,
           "text": [
            "新余"
           ],
           "type": "scatter",
           "x": [
            4.285591840233136e-05
           ],
           "xaxis": "x",
           "y": [
            0.3473718341949573
           ],
           "yaxis": "y"
          },
          {
           "hoverlabel": {
            "namelength": 0
           },
           "hovertemplate": "<b>%{hovertext}</b><br><br>city=%{text}<br>date=02-02<br>p=%{x}<br>beta=%{y}<br>size=%{marker.size}",
           "hovertext": [
            291
           ],
           "legendgroup": "温州",
           "marker": {
            "color": "#FECB52",
            "size": [
             291
            ],
            "sizemode": "area",
            "sizeref": 2.7606611570247934,
            "symbol": "circle"
           },
           "mode": "markers+text",
           "name": "温州",
           "showlegend": true,
           "text": [
            "温州"
           ],
           "type": "scatter",
           "x": [
            3.191839420862126e-05
           ],
           "xaxis": "x",
           "y": [
            0.22300692952979706
           ],
           "yaxis": "y"
          },
          {
           "hoverlabel": {
            "namelength": 0
           },
           "hovertemplate": "<b>%{hovertext}</b><br><br>city=%{text}<br>date=02-02<br>p=%{x}<br>beta=%{y}<br>size=%{marker.size}",
           "hovertext": [
            191
           ],
           "legendgroup": "北京",
           "marker": {
            "color": "#636efa",
            "size": [
             191
            ],
            "sizemode": "area",
            "sizeref": 2.7606611570247934,
            "symbol": "circle"
           },
           "mode": "markers+text",
           "name": "北京",
           "showlegend": true,
           "text": [
            "北京"
           ],
           "type": "scatter",
           "x": [
            8.799815710665746e-06
           ],
           "xaxis": "x",
           "y": [
            0.312618527440284
           ],
           "yaxis": "y"
          },
          {
           "hoverlabel": {
            "namelength": 0
           },
           "hovertemplate": "<b>%{hovertext}</b><br><br>city=%{text}<br>date=02-02<br>p=%{x}<br>beta=%{y}<br>size=%{marker.size}",
           "hovertext": [
            193
           ],
           "legendgroup": "上海",
           "marker": {
            "color": "#EF553B",
            "size": [
             193
            ],
            "sizemode": "area",
            "sizeref": 2.7606611570247934,
            "symbol": "circle"
           },
           "mode": "markers+text",
           "name": "上海",
           "showlegend": true,
           "text": [
            "上海"
           ],
           "type": "scatter",
           "x": [
            7.990825042334813e-06
           ],
           "xaxis": "x",
           "y": [
            0.28776634083103475
           ],
           "yaxis": "y"
          }
         ],
         "name": "02-02"
        },
        {
         "data": [
          {
           "hoverlabel": {
            "namelength": 0
           },
           "hovertemplate": "<b>%{hovertext}</b><br><br>city=%{text}<br>date=02-03<br>p=%{x}<br>beta=%{y}<br>size=%{marker.size}",
           "hovertext": [
            6384
           ],
           "legendgroup": "武汉",
           "marker": {
            "color": "#636efa",
            "size": [
             6384
            ],
            "sizemode": "area",
            "sizeref": 2.7606611570247934,
            "symbol": "circle"
           },
           "mode": "markers+text",
           "name": "武汉",
           "showlegend": true,
           "text": [
            "武汉"
           ],
           "type": "scatter",
           "x": [
            0.0006018269747447609
           ],
           "xaxis": "x",
           "y": [
            0.37357313484772026
           ],
           "yaxis": "y"
          },
          {
           "hoverlabel": {
            "namelength": 0
           },
           "hovertemplate": "<b>%{hovertext}</b><br><br>city=%{text}<br>date=02-03<br>p=%{x}<br>beta=%{y}<br>size=%{marker.size}",
           "hovertext": [
            1422
           ],
           "legendgroup": "黄冈",
           "marker": {
            "color": "#EF553B",
            "size": [
             1422
            ],
            "sizemode": "area",
            "sizeref": 2.7606611570247934,
            "symbol": "circle"
           },
           "mode": "markers+text",
           "name": "黄冈",
           "showlegend": true,
           "text": [
            "黄冈"
           ],
           "type": "scatter",
           "x": [
            0.00022603719599427753
           ],
           "xaxis": "x",
           "y": [
            0.3803999879418515
           ],
           "yaxis": "y"
          },
          {
           "hoverlabel": {
            "namelength": 0
           },
           "hovertemplate": "<b>%{hovertext}</b><br><br>city=%{text}<br>date=02-03<br>p=%{x}<br>beta=%{y}<br>size=%{marker.size}",
           "hovertext": [
            1120
           ],
           "legendgroup": "孝感",
           "marker": {
            "color": "#00cc96",
            "size": [
             1120
            ],
            "sizemode": "area",
            "sizeref": 2.7606611570247934,
            "symbol": "circle"
           },
           "mode": "markers+text",
           "name": "孝感",
           "showlegend": true,
           "text": [
            "孝感"
           ],
           "type": "scatter",
           "x": [
            0.00022960229602296024
           ],
           "xaxis": "x",
           "y": [
            0.3344685470625087
           ],
           "yaxis": "y"
          },
          {
           "hoverlabel": {
            "namelength": 0
           },
           "hovertemplate": "<b>%{hovertext}</b><br><br>city=%{text}<br>date=02-03<br>p=%{x}<br>beta=%{y}<br>size=%{marker.size}",
           "hovertext": [
            632
           ],
           "legendgroup": "襄阳",
           "marker": {
            "color": "#ab63fa",
            "size": [
             632
            ],
            "sizemode": "area",
            "sizeref": 2.7606611570247934,
            "symbol": "circle"
           },
           "mode": "markers+text",
           "name": "襄阳",
           "showlegend": true,
           "text": [
            "襄阳"
           ],
           "type": "scatter",
           "x": [
            0.00011257570359814749
           ],
           "xaxis": "x",
           "y": [
            0.3506249549280422
           ],
           "yaxis": "y"
          },
          {
           "hoverlabel": {
            "namelength": 0
           },
           "hovertemplate": "<b>%{hovertext}</b><br><br>city=%{text}<br>date=02-03<br>p=%{x}<br>beta=%{y}<br>size=%{marker.size}",
           "hovertext": [
            613
           ],
           "legendgroup": "荆州",
           "marker": {
            "color": "#FFA15A",
            "size": [
             613
            ],
            "sizemode": "area",
            "sizeref": 2.7606611570247934,
            "symbol": "circle"
           },
           "mode": "markers+text",
           "name": "荆州",
           "showlegend": true,
           "text": [
            "荆州"
           ],
           "type": "scatter",
           "x": [
            0.00010743265742477086
           ],
           "xaxis": "x",
           "y": [
            0.3977423620136872
           ],
           "yaxis": "y"
          },
          {
           "hoverlabel": {
            "namelength": 0
           },
           "hovertemplate": "<b>%{hovertext}</b><br><br>city=%{text}<br>date=02-03<br>p=%{x}<br>beta=%{y}<br>size=%{marker.size}",
           "hovertext": [
            400
           ],
           "legendgroup": "荆门",
           "marker": {
            "color": "#19d3f3",
            "size": [
             400
            ],
            "sizemode": "area",
            "sizeref": 2.7606611570247934,
            "symbol": "circle"
           },
           "mode": "markers+text",
           "name": "荆门",
           "showlegend": true,
           "text": [
            "荆门"
           ],
           "type": "scatter",
           "x": [
            0.00013810724027207125
           ],
           "xaxis": "x",
           "y": [
            0.3042671585333612
           ],
           "yaxis": "y"
          },
          {
           "hoverlabel": {
            "namelength": 0
           },
           "hovertemplate": "<b>%{hovertext}</b><br><br>city=%{text}<br>date=02-03<br>p=%{x}<br>beta=%{y}<br>size=%{marker.size}",
           "hovertext": [
            405
           ],
           "legendgroup": "黄石",
           "marker": {
            "color": "#FF6692",
            "size": [
             405
            ],
            "sizemode": "area",
            "sizeref": 2.7606611570247934,
            "symbol": "circle"
           },
           "mode": "markers+text",
           "name": "黄石",
           "showlegend": true,
           "text": [
            "黄石"
           ],
           "type": "scatter",
           "x": [
            0.0001647681041497152
           ],
           "xaxis": "x",
           "y": [
            0.3653078815706405
           ],
           "yaxis": "y"
          },
          {
           "hoverlabel": {
            "namelength": 0
           },
           "hovertemplate": "<b>%{hovertext}</b><br><br>city=%{text}<br>date=02-03<br>p=%{x}<br>beta=%{y}<br>size=%{marker.size}",
           "hovertext": [
            188
           ],
           "legendgroup": "仙桃",
           "marker": {
            "color": "#B6E880",
            "size": [
             188
            ],
            "sizemode": "area",
            "sizeref": 2.7606611570247934,
            "symbol": "circle"
           },
           "mode": "markers+text",
           "name": "仙桃",
           "showlegend": true,
           "text": [
            "仙桃"
           ],
           "type": "scatter",
           "x": [
            0.0001205128205128205
           ],
           "xaxis": "x",
           "y": [
            0.3811236929234705
           ],
           "yaxis": "y"
          },
          {
           "hoverlabel": {
            "namelength": 0
           },
           "hovertemplate": "<b>%{hovertext}</b><br><br>city=%{text}<br>date=02-03<br>p=%{x}<br>beta=%{y}<br>size=%{marker.size}",
           "hovertext": [
            117
           ],
           "legendgroup": "天门",
           "marker": {
            "color": "#FF97FF",
            "size": [
             117
            ],
            "sizemode": "area",
            "sizeref": 2.7606611570247934,
            "symbol": "circle"
           },
           "mode": "markers+text",
           "name": "天门",
           "showlegend": true,
           "text": [
            "天门"
           ],
           "type": "scatter",
           "x": [
            9.21259842519685e-05
           ],
           "xaxis": "x",
           "y": [
            0.2774723118399307
           ],
           "yaxis": "y"
          },
          {
           "hoverlabel": {
            "namelength": 0
           },
           "hovertemplate": "<b>%{hovertext}</b><br><br>city=%{text}<br>date=02-03<br>p=%{x}<br>beta=%{y}<br>size=%{marker.size}",
           "hovertext": [
            641
           ],
           "legendgroup": "随州",
           "marker": {
            "color": "#FECB52",
            "size": [
             641
            ],
            "sizemode": "area",
            "sizeref": 2.7606611570247934,
            "symbol": "circle"
           },
           "mode": "markers+text",
           "name": "随州",
           "showlegend": true,
           "text": [
            "随州"
           ],
           "type": "scatter",
           "x": [
            0.000292587182764287
           ],
           "xaxis": "x",
           "y": [
            0.3823271914171325
           ],
           "yaxis": "y"
          },
          {
           "hoverlabel": {
            "namelength": 0
           },
           "hovertemplate": "<b>%{hovertext}</b><br><br>city=%{text}<br>date=02-03<br>p=%{x}<br>beta=%{y}<br>size=%{marker.size}",
           "hovertext": [
            348
           ],
           "legendgroup": "咸宁",
           "marker": {
            "color": "#636efa",
            "size": [
             348
            ],
            "sizemode": "area",
            "sizeref": 2.7606611570247934,
            "symbol": "circle"
           },
           "mode": "markers+text",
           "name": "咸宁",
           "showlegend": true,
           "text": [
            "咸宁"
           ],
           "type": "scatter",
           "x": [
            0.00013881132828081372
           ],
           "xaxis": "x",
           "y": [
            0.319265332657138
           ],
           "yaxis": "y"
          },
          {
           "hoverlabel": {
            "namelength": 0
           },
           "hovertemplate": "<b>%{hovertext}</b><br><br>city=%{text}<br>date=02-03<br>p=%{x}<br>beta=%{y}<br>size=%{marker.size}",
           "hovertext": [
            291
           ],
           "legendgroup": "十堰",
           "marker": {
            "color": "#EF553B",
            "size": [
             291
            ],
            "sizemode": "area",
            "sizeref": 2.7606611570247934,
            "symbol": "circle"
           },
           "mode": "markers+text",
           "name": "十堰",
           "showlegend": true,
           "text": [
            "十堰"
           ],
           "type": "scatter",
           "x": [
            8.601832692876145e-05
           ],
           "xaxis": "x",
           "y": [
            0.3136075314703036
           ],
           "yaxis": "y"
          },
          {
           "hoverlabel": {
            "namelength": 0
           },
           "hovertemplate": "<b>%{hovertext}</b><br><br>city=%{text}<br>date=02-03<br>p=%{x}<br>beta=%{y}<br>size=%{marker.size}",
           "hovertext": [
            452
           ],
           "legendgroup": "宜昌",
           "marker": {
            "color": "#00cc96",
            "size": [
             452
            ],
            "sizemode": "area",
            "sizeref": 2.7606611570247934,
            "symbol": "circle"
           },
           "mode": "markers+text",
           "name": "宜昌",
           "showlegend": true,
           "text": [
            "宜昌"
           ],
           "type": "scatter",
           "x": [
            0.00010984204131227218
           ],
           "xaxis": "x",
           "y": [
            0.3133698648565169
           ],
           "yaxis": "y"
          },
          {
           "hoverlabel": {
            "namelength": 0
           },
           "hovertemplate": "<b>%{hovertext}</b><br><br>city=%{text}<br>date=02-03<br>p=%{x}<br>beta=%{y}<br>size=%{marker.size}",
           "hovertext": [
            123
           ],
           "legendgroup": "恩施",
           "marker": {
            "color": "#ab63fa",
            "size": [
             123
            ],
            "sizemode": "area",
            "sizeref": 2.7606611570247934,
            "symbol": "circle"
           },
           "mode": "markers+text",
           "name": "恩施",
           "showlegend": true,
           "text": [
            "恩施"
           ],
           "type": "scatter",
           "x": [
            3.69702434625789e-05
           ],
           "xaxis": "x",
           "y": [
            0.2635195456632751
           ],
           "yaxis": "y"
          },
          {
           "hoverlabel": {
            "namelength": 0
           },
           "hovertemplate": "<b>%{hovertext}</b><br><br>city=%{text}<br>date=02-03<br>p=%{x}<br>beta=%{y}<br>size=%{marker.size}",
           "hovertext": [
            332
           ],
           "legendgroup": "鄂州",
           "marker": {
            "color": "#FFA15A",
            "size": [
             332
            ],
            "sizemode": "area",
            "sizeref": 2.7606611570247934,
            "symbol": "circle"
           },
           "mode": "markers+text",
           "name": "鄂州",
           "showlegend": true,
           "text": [
            "鄂州"
           ],
           "type": "scatter",
           "x": [
            0.0003133553563001416
           ],
           "xaxis": "x",
           "y": [
            0.2788524366609897
           ],
           "yaxis": "y"
          },
          {
           "hoverlabel": {
            "namelength": 0
           },
           "hovertemplate": "<b>%{hovertext}</b><br><br>city=%{text}<br>date=02-03<br>p=%{x}<br>beta=%{y}<br>size=%{marker.size}",
           "hovertext": [
            269
           ],
           "legendgroup": "深圳",
           "marker": {
            "color": "#19d3f3",
            "size": [
             269
            ],
            "sizemode": "area",
            "sizeref": 2.7606611570247934,
            "symbol": "circle"
           },
           "mode": "markers+text",
           "name": "深圳",
           "showlegend": true,
           "text": [
            "深圳"
           ],
           "type": "scatter",
           "x": [
            2.364710432856289e-05
           ],
           "xaxis": "x",
           "y": [
            0.2928807846543233
           ],
           "yaxis": "y"
          },
          {
           "hoverlabel": {
            "namelength": 0
           },
           "hovertemplate": "<b>%{hovertext}</b><br><br>city=%{text}<br>date=02-03<br>p=%{x}<br>beta=%{y}<br>size=%{marker.size}",
           "hovertext": [
            216
           ],
           "legendgroup": "广州",
           "marker": {
            "color": "#FF6692",
            "size": [
             216
            ],
            "sizemode": "area",
            "sizeref": 2.7606611570247934,
            "symbol": "circle"
           },
           "mode": "markers+text",
           "name": "广州",
           "showlegend": true,
           "text": [
            "广州"
           ],
           "type": "scatter",
           "x": [
            1.600284495021337e-05
           ],
           "xaxis": "x",
           "y": [
            0.30094520153020377
           ],
           "yaxis": "y"
          },
          {
           "hoverlabel": {
            "namelength": 0
           },
           "hovertemplate": "<b>%{hovertext}</b><br><br>city=%{text}<br>date=02-03<br>p=%{x}<br>beta=%{y}<br>size=%{marker.size}",
           "hovertext": [
            64
           ],
           "legendgroup": "珠海",
           "marker": {
            "color": "#B6E880",
            "size": [
             64
            ],
            "sizemode": "area",
            "sizeref": 2.7606611570247934,
            "symbol": "circle"
           },
           "mode": "markers+text",
           "name": "珠海",
           "showlegend": true,
           "text": [
            "珠海"
           ],
           "type": "scatter",
           "x": [
            3.917727717923604e-05
           ],
           "xaxis": "x",
           "y": [
            0.3066755361744612
           ],
           "yaxis": "y"
          },
          {
           "hoverlabel": {
            "namelength": 0
           },
           "hovertemplate": "<b>%{hovertext}</b><br><br>city=%{text}<br>date=02-03<br>p=%{x}<br>beta=%{y}<br>size=%{marker.size}",
           "hovertext": [
            59
           ],
           "legendgroup": "新余",
           "marker": {
            "color": "#FF97FF",
            "size": [
             59
            ],
            "sizemode": "area",
            "sizeref": 2.7606611570247934,
            "symbol": "circle"
           },
           "mode": "markers+text",
           "name": "新余",
           "showlegend": true,
           "text": [
            "新余"
           ],
           "type": "scatter",
           "x": [
            5.0569983714751004e-05
           ],
           "xaxis": "x",
           "y": [
            0.2653958569275712
           ],
           "yaxis": "y"
          },
          {
           "hoverlabel": {
            "namelength": 0
           },
           "hovertemplate": "<b>%{hovertext}</b><br><br>city=%{text}<br>date=02-03<br>p=%{x}<br>beta=%{y}<br>size=%{marker.size}",
           "hovertext": [
            340
           ],
           "legendgroup": "温州",
           "marker": {
            "color": "#FECB52",
            "size": [
             340
            ],
            "sizemode": "area",
            "sizeref": 2.7606611570247934,
            "symbol": "circle"
           },
           "mode": "markers+text",
           "name": "温州",
           "showlegend": true,
           "text": [
            "温州"
           ],
           "type": "scatter",
           "x": [
            3.729296917845783e-05
           ],
           "xaxis": "x",
           "y": [
            0.2515653149245295
           ],
           "yaxis": "y"
          },
          {
           "hoverlabel": {
            "namelength": 0
           },
           "hovertemplate": "<b>%{hovertext}</b><br><br>city=%{text}<br>date=02-03<br>p=%{x}<br>beta=%{y}<br>size=%{marker.size}",
           "hovertext": [
            212
           ],
           "legendgroup": "北京",
           "marker": {
            "color": "#636efa",
            "size": [
             212
            ],
            "sizemode": "area",
            "sizeref": 2.7606611570247934,
            "symbol": "circle"
           },
           "mode": "markers+text",
           "name": "北京",
           "showlegend": true,
           "text": [
            "北京"
           ],
           "type": "scatter",
           "x": [
            9.76733471550334e-06
           ],
           "xaxis": "x",
           "y": [
            0.24785526431651506
           ],
           "yaxis": "y"
          },
          {
           "hoverlabel": {
            "namelength": 0
           },
           "hovertemplate": "<b>%{hovertext}</b><br><br>city=%{text}<br>date=02-03<br>p=%{x}<br>beta=%{y}<br>size=%{marker.size}",
           "hovertext": [
            208
           ],
           "legendgroup": "上海",
           "marker": {
            "color": "#EF553B",
            "size": [
             208
            ],
            "sizemode": "area",
            "sizeref": 2.7606611570247934,
            "symbol": "circle"
           },
           "mode": "markers+text",
           "name": "上海",
           "showlegend": true,
           "text": [
            "上海"
           ],
           "type": "scatter",
           "x": [
            8.611873620754615e-06
           ],
           "xaxis": "x",
           "y": [
            0.25094287845477764
           ],
           "yaxis": "y"
          }
         ],
         "name": "02-03"
        },
        {
         "data": [
          {
           "hoverlabel": {
            "namelength": 0
           },
           "hovertemplate": "<b>%{hovertext}</b><br><br>city=%{text}<br>date=02-04<br>p=%{x}<br>beta=%{y}<br>size=%{marker.size}",
           "hovertext": [
            8351
           ],
           "legendgroup": "武汉",
           "marker": {
            "color": "#636efa",
            "size": [
             8351
            ],
            "sizemode": "area",
            "sizeref": 2.7606611570247934,
            "symbol": "circle"
           },
           "mode": "markers+text",
           "name": "武汉",
           "showlegend": true,
           "text": [
            "武汉"
           ],
           "type": "scatter",
           "x": [
            0.0007872583123580041
           ],
           "xaxis": "x",
           "y": [
            0.3757527810325477
           ],
           "yaxis": "y"
          },
          {
           "hoverlabel": {
            "namelength": 0
           },
           "hovertemplate": "<b>%{hovertext}</b><br><br>city=%{text}<br>date=02-04<br>p=%{x}<br>beta=%{y}<br>size=%{marker.size}",
           "hovertext": [
            1645
           ],
           "legendgroup": "黄冈",
           "marker": {
            "color": "#EF553B",
            "size": [
             1645
            ],
            "sizemode": "area",
            "sizeref": 2.7606611570247934,
            "symbol": "circle"
           },
           "mode": "markers+text",
           "name": "黄冈",
           "showlegend": true,
           "text": [
            "黄冈"
           ],
           "type": "scatter",
           "x": [
            0.00026148466062629155
           ],
           "xaxis": "x",
           "y": [
            0.3126766588456143
           ],
           "yaxis": "y"
          },
          {
           "hoverlabel": {
            "namelength": 0
           },
           "hovertemplate": "<b>%{hovertext}</b><br><br>city=%{text}<br>date=02-04<br>p=%{x}<br>beta=%{y}<br>size=%{marker.size}",
           "hovertext": [
            1462
           ],
           "legendgroup": "孝感",
           "marker": {
            "color": "#00cc96",
            "size": [
             1462
            ],
            "sizemode": "area",
            "sizeref": 2.7606611570247934,
            "symbol": "circle"
           },
           "mode": "markers+text",
           "name": "孝感",
           "showlegend": true,
           "text": [
            "孝感"
           ],
           "type": "scatter",
           "x": [
            0.0002997129971299713
           ],
           "xaxis": "x",
           "y": [
            0.36060762723149065
           ],
           "yaxis": "y"
          },
          {
           "hoverlabel": {
            "namelength": 0
           },
           "hovertemplate": "<b>%{hovertext}</b><br><br>city=%{text}<br>date=02-04<br>p=%{x}<br>beta=%{y}<br>size=%{marker.size}",
           "hovertext": [
            735
           ],
           "legendgroup": "襄阳",
           "marker": {
            "color": "#ab63fa",
            "size": [
             735
            ],
            "sizemode": "area",
            "sizeref": 2.7606611570247934,
            "symbol": "circle"
           },
           "mode": "markers+text",
           "name": "襄阳",
           "showlegend": true,
           "text": [
            "襄阳"
           ],
           "type": "scatter",
           "x": [
            0.00013092269326683292
           ],
           "xaxis": "x",
           "y": [
            0.317337422717143
           ],
           "yaxis": "y"
          },
          {
           "hoverlabel": {
            "namelength": 0
           },
           "hovertemplate": "<b>%{hovertext}</b><br><br>city=%{text}<br>date=02-04<br>p=%{x}<br>beta=%{y}<br>size=%{marker.size}",
           "hovertext": [
            713
           ],
           "legendgroup": "荆州",
           "marker": {
            "color": "#FFA15A",
            "size": [
             713
            ],
            "sizemode": "area",
            "sizeref": 2.7606611570247934,
            "symbol": "circle"
           },
           "mode": "markers+text",
           "name": "荆州",
           "showlegend": true,
           "text": [
            "荆州"
           ],
           "type": "scatter",
           "x": [
            0.00012495837641739253
           ],
           "xaxis": "x",
           "y": [
            0.4121550288375618
           ],
           "yaxis": "y"
          },
          {
           "hoverlabel": {
            "namelength": 0
           },
           "hovertemplate": "<b>%{hovertext}</b><br><br>city=%{text}<br>date=02-04<br>p=%{x}<br>beta=%{y}<br>size=%{marker.size}",
           "hovertext": [
            422
           ],
           "legendgroup": "荆门",
           "marker": {
            "color": "#19d3f3",
            "size": [
             422
            ],
            "sizemode": "area",
            "sizeref": 2.7606611570247934,
            "symbol": "circle"
           },
           "mode": "markers+text",
           "name": "荆门",
           "showlegend": true,
           "text": [
            "荆门"
           ],
           "type": "scatter",
           "x": [
            0.0001457031384870352
           ],
           "xaxis": "x",
           "y": [
            0.2278234842006869
           ],
           "yaxis": "y"
          },
          {
           "hoverlabel": {
            "namelength": 0
           },
           "hovertemplate": "<b>%{hovertext}</b><br><br>city=%{text}<br>date=02-04<br>p=%{x}<br>beta=%{y}<br>size=%{marker.size}",
           "hovertext": [
            509
           ],
           "legendgroup": "黄石",
           "marker": {
            "color": "#FF6692",
            "size": [
             509
            ],
            "sizemode": "area",
            "sizeref": 2.7606611570247934,
            "symbol": "circle"
           },
           "mode": "markers+text",
           "name": "黄石",
           "showlegend": true,
           "text": [
            "黄石"
           ],
           "type": "scatter",
           "x": [
            0.00020707892595606185
           ],
           "xaxis": "x",
           "y": [
            0.37945529132805983
           ],
           "yaxis": "y"
          },
          {
           "hoverlabel": {
            "namelength": 0
           },
           "hovertemplate": "<b>%{hovertext}</b><br><br>city=%{text}<br>date=02-04<br>p=%{x}<br>beta=%{y}<br>size=%{marker.size}",
           "hovertext": [
            225
           ],
           "legendgroup": "仙桃",
           "marker": {
            "color": "#B6E880",
            "size": [
             225
            ],
            "sizemode": "area",
            "sizeref": 2.7606611570247934,
            "symbol": "circle"
           },
           "mode": "markers+text",
           "name": "仙桃",
           "showlegend": true,
           "text": [
            "仙桃"
           ],
           "type": "scatter",
           "x": [
            0.00014423076923076924
           ],
           "xaxis": "x",
           "y": [
            0.2998607014407402
           ],
           "yaxis": "y"
          },
          {
           "hoverlabel": {
            "namelength": 0
           },
           "hovertemplate": "<b>%{hovertext}</b><br><br>city=%{text}<br>date=02-04<br>p=%{x}<br>beta=%{y}<br>size=%{marker.size}",
           "hovertext": [
            128
           ],
           "legendgroup": "天门",
           "marker": {
            "color": "#FF97FF",
            "size": [
             128
            ],
            "sizemode": "area",
            "sizeref": 2.7606611570247934,
            "symbol": "circle"
           },
           "mode": "markers+text",
           "name": "天门",
           "showlegend": true,
           "text": [
            "天门"
           ],
           "type": "scatter",
           "x": [
            0.00010078740157480316
           ],
           "xaxis": "x",
           "y": [
            0.23154346148413385
           ],
           "yaxis": "y"
          },
          {
           "hoverlabel": {
            "namelength": 0
           },
           "hovertemplate": "<b>%{hovertext}</b><br><br>city=%{text}<br>date=02-04<br>p=%{x}<br>beta=%{y}<br>size=%{marker.size}",
           "hovertext": [
            706
           ],
           "legendgroup": "随州",
           "marker": {
            "color": "#FECB52",
            "size": [
             706
            ],
            "sizemode": "area",
            "sizeref": 2.7606611570247934,
            "symbol": "circle"
           },
           "mode": "markers+text",
           "name": "随州",
           "showlegend": true,
           "text": [
            "随州"
           ],
           "type": "scatter",
           "x": [
            0.00032225670987767025
           ],
           "xaxis": "x",
           "y": [
            0.35708864103753946
           ],
           "yaxis": "y"
          },
          {
           "hoverlabel": {
            "namelength": 0
           },
           "hovertemplate": "<b>%{hovertext}</b><br><br>city=%{text}<br>date=02-04<br>p=%{x}<br>beta=%{y}<br>size=%{marker.size}",
           "hovertext": [
            384
           ],
           "legendgroup": "咸宁",
           "marker": {
            "color": "#636efa",
            "size": [
             384
            ],
            "sizemode": "area",
            "sizeref": 2.7606611570247934,
            "symbol": "circle"
           },
           "mode": "markers+text",
           "name": "咸宁",
           "showlegend": true,
           "text": [
            "咸宁"
           ],
           "type": "scatter",
           "x": [
            0.00015317112086158754
           ],
           "xaxis": "x",
           "y": [
            0.2989341487503769
           ],
           "yaxis": "y"
          },
          {
           "hoverlabel": {
            "namelength": 0
           },
           "hovertemplate": "<b>%{hovertext}</b><br><br>city=%{text}<br>date=02-04<br>p=%{x}<br>beta=%{y}<br>size=%{marker.size}",
           "hovertext": [
            318
           ],
           "legendgroup": "十堰",
           "marker": {
            "color": "#EF553B",
            "size": [
             318
            ],
            "sizemode": "area",
            "sizeref": 2.7606611570247934,
            "symbol": "circle"
           },
           "mode": "markers+text",
           "name": "十堰",
           "showlegend": true,
           "text": [
            "十堰"
           ],
           "type": "scatter",
           "x": [
            9.399940880874965e-05
           ],
           "xaxis": "x",
           "y": [
            0.28615543778617164
           ],
           "yaxis": "y"
          },
          {
           "hoverlabel": {
            "namelength": 0
           },
           "hovertemplate": "<b>%{hovertext}</b><br><br>city=%{text}<br>date=02-04<br>p=%{x}<br>beta=%{y}<br>size=%{marker.size}",
           "hovertext": [
            496
           ],
           "legendgroup": "宜昌",
           "marker": {
            "color": "#00cc96",
            "size": [
             496
            ],
            "sizemode": "area",
            "sizeref": 2.7606611570247934,
            "symbol": "circle"
           },
           "mode": "markers+text",
           "name": "宜昌",
           "showlegend": true,
           "text": [
            "宜昌"
           ],
           "type": "scatter",
           "x": [
            0.00012053462940461726
           ],
           "xaxis": "x",
           "y": [
            0.25839759668691675
           ],
           "yaxis": "y"
          },
          {
           "hoverlabel": {
            "namelength": 0
           },
           "hovertemplate": "<b>%{hovertext}</b><br><br>city=%{text}<br>date=02-04<br>p=%{x}<br>beta=%{y}<br>size=%{marker.size}",
           "hovertext": [
            138
           ],
           "legendgroup": "恩施",
           "marker": {
            "color": "#ab63fa",
            "size": [
             138
            ],
            "sizemode": "area",
            "sizeref": 2.7606611570247934,
            "symbol": "circle"
           },
           "mode": "markers+text",
           "name": "恩施",
           "showlegend": true,
           "text": [
            "恩施"
           ],
           "type": "scatter",
           "x": [
            4.147880973850316e-05
           ],
           "xaxis": "x",
           "y": [
            0.22901628321744336
           ],
           "yaxis": "y"
          },
          {
           "hoverlabel": {
            "namelength": 0
           },
           "hovertemplate": "<b>%{hovertext}</b><br><br>city=%{text}<br>date=02-04<br>p=%{x}<br>beta=%{y}<br>size=%{marker.size}",
           "hovertext": [
            382
           ],
           "legendgroup": "鄂州",
           "marker": {
            "color": "#FFA15A",
            "size": [
             382
            ],
            "sizemode": "area",
            "sizeref": 2.7606611570247934,
            "symbol": "circle"
           },
           "mode": "markers+text",
           "name": "鄂州",
           "showlegend": true,
           "text": [
            "鄂州"
           ],
           "type": "scatter",
           "x": [
            0.0003605474280320906
           ],
           "xaxis": "x",
           "y": [
            0.24408669023057866
           ],
           "yaxis": "y"
          },
          {
           "hoverlabel": {
            "namelength": 0
           },
           "hovertemplate": "<b>%{hovertext}</b><br><br>city=%{text}<br>date=02-04<br>p=%{x}<br>beta=%{y}<br>size=%{marker.size}",
           "hovertext": [
            289
           ],
           "legendgroup": "深圳",
           "marker": {
            "color": "#19d3f3",
            "size": [
             289
            ],
            "sizemode": "area",
            "sizeref": 2.7606611570247934,
            "symbol": "circle"
           },
           "mode": "markers+text",
           "name": "深圳",
           "showlegend": true,
           "text": [
            "深圳"
           ],
           "type": "scatter",
           "x": [
            2.5405253349273887e-05
           ],
           "xaxis": "x",
           "y": [
            0.28002330605625514
           ],
           "yaxis": "y"
          },
          {
           "hoverlabel": {
            "namelength": 0
           },
           "hovertemplate": "<b>%{hovertext}</b><br><br>city=%{text}<br>date=02-04<br>p=%{x}<br>beta=%{y}<br>size=%{marker.size}",
           "hovertext": [
            237
           ],
           "legendgroup": "广州",
           "marker": {
            "color": "#FF6692",
            "size": [
             237
            ],
            "sizemode": "area",
            "sizeref": 2.7606611570247934,
            "symbol": "circle"
           },
           "mode": "markers+text",
           "name": "广州",
           "showlegend": true,
           "text": [
            "广州"
           ],
           "type": "scatter",
           "x": [
            1.7558677098150782e-05
           ],
           "xaxis": "x",
           "y": [
            0.24377645887981614
           ],
           "yaxis": "y"
          },
          {
           "hoverlabel": {
            "namelength": 0
           },
           "hovertemplate": "<b>%{hovertext}</b><br><br>city=%{text}<br>date=02-04<br>p=%{x}<br>beta=%{y}<br>size=%{marker.size}",
           "hovertext": [
            69
           ],
           "legendgroup": "珠海",
           "marker": {
            "color": "#B6E880",
            "size": [
             69
            ],
            "sizemode": "area",
            "sizeref": 2.7606611570247934,
            "symbol": "circle"
           },
           "mode": "markers+text",
           "name": "珠海",
           "showlegend": true,
           "text": [
            "珠海"
           ],
           "type": "scatter",
           "x": [
            4.223800195886386e-05
           ],
           "xaxis": "x",
           "y": [
            0.3296886893113541
           ],
           "yaxis": "y"
          },
          {
           "hoverlabel": {
            "namelength": 0
           },
           "hovertemplate": "<b>%{hovertext}</b><br><br>city=%{text}<br>date=02-04<br>p=%{x}<br>beta=%{y}<br>size=%{marker.size}",
           "hovertext": [
            69
           ],
           "legendgroup": "新余",
           "marker": {
            "color": "#FF97FF",
            "size": [
             69
            ],
            "sizemode": "area",
            "sizeref": 2.7606611570247934,
            "symbol": "circle"
           },
           "mode": "markers+text",
           "name": "新余",
           "showlegend": true,
           "text": [
            "新余"
           ],
           "type": "scatter",
           "x": [
            5.9141167395217284e-05
           ],
           "xaxis": "x",
           "y": [
            0.3003443033052107
           ],
           "yaxis": "y"
          },
          {
           "hoverlabel": {
            "namelength": 0
           },
           "hovertemplate": "<b>%{hovertext}</b><br><br>city=%{text}<br>date=02-04<br>p=%{x}<br>beta=%{y}<br>size=%{marker.size}",
           "hovertext": [
            364
           ],
           "legendgroup": "温州",
           "marker": {
            "color": "#FECB52",
            "size": [
             364
            ],
            "sizemode": "area",
            "sizeref": 2.7606611570247934,
            "symbol": "circle"
           },
           "mode": "markers+text",
           "name": "温州",
           "showlegend": true,
           "text": [
            "温州"
           ],
           "type": "scatter",
           "x": [
            3.992541406164309e-05
           ],
           "xaxis": "x",
           "y": [
            0.2528374091217906
           ],
           "yaxis": "y"
          },
          {
           "hoverlabel": {
            "namelength": 0
           },
           "hovertemplate": "<b>%{hovertext}</b><br><br>city=%{text}<br>date=02-04<br>p=%{x}<br>beta=%{y}<br>size=%{marker.size}",
           "hovertext": [
            228
           ],
           "legendgroup": "北京",
           "marker": {
            "color": "#636efa",
            "size": [
             228
            ],
            "sizemode": "area",
            "sizeref": 2.7606611570247934,
            "symbol": "circle"
           },
           "mode": "markers+text",
           "name": "北京",
           "showlegend": true,
           "text": [
            "北京"
           ],
           "type": "scatter",
           "x": [
            1.0504492052522459e-05
           ],
           "xaxis": "x",
           "y": [
            0.21450977326398746
           ],
           "yaxis": "y"
          },
          {
           "hoverlabel": {
            "namelength": 0
           },
           "hovertemplate": "<b>%{hovertext}</b><br><br>city=%{text}<br>date=02-04<br>p=%{x}<br>beta=%{y}<br>size=%{marker.size}",
           "hovertext": [
            233
           ],
           "legendgroup": "上海",
           "marker": {
            "color": "#EF553B",
            "size": [
             233
            ],
            "sizemode": "area",
            "sizeref": 2.7606611570247934,
            "symbol": "circle"
           },
           "mode": "markers+text",
           "name": "上海",
           "showlegend": true,
           "text": [
            "上海"
           ],
           "type": "scatter",
           "x": [
            9.646954584787622e-06
           ],
           "xaxis": "x",
           "y": [
            0.23143388453666405
           ],
           "yaxis": "y"
          }
         ],
         "name": "02-04"
        }
       ],
       "layout": {
        "legend": {
         "itemsizing": "constant",
         "title": {
          "text": "city"
         },
         "tracegroupgap": 0
        },
        "margin": {
         "t": 60
        },
        "sliders": [
         {
          "active": 0,
          "currentvalue": {
           "prefix": "date="
          },
          "len": 0.9,
          "pad": {
           "b": 10,
           "t": 60
          },
          "steps": [
           {
            "args": [
             [
              "01-28"
             ],
             {
              "frame": {
               "duration": 0,
               "redraw": false
              },
              "fromcurrent": true,
              "mode": "immediate",
              "transition": {
               "duration": 0,
               "easing": "linear"
              }
             }
            ],
            "label": "01-28",
            "method": "animate"
           },
           {
            "args": [
             [
              "01-29"
             ],
             {
              "frame": {
               "duration": 0,
               "redraw": false
              },
              "fromcurrent": true,
              "mode": "immediate",
              "transition": {
               "duration": 0,
               "easing": "linear"
              }
             }
            ],
            "label": "01-29",
            "method": "animate"
           },
           {
            "args": [
             [
              "01-30"
             ],
             {
              "frame": {
               "duration": 0,
               "redraw": false
              },
              "fromcurrent": true,
              "mode": "immediate",
              "transition": {
               "duration": 0,
               "easing": "linear"
              }
             }
            ],
            "label": "01-30",
            "method": "animate"
           },
           {
            "args": [
             [
              "01-31"
             ],
             {
              "frame": {
               "duration": 0,
               "redraw": false
              },
              "fromcurrent": true,
              "mode": "immediate",
              "transition": {
               "duration": 0,
               "easing": "linear"
              }
             }
            ],
            "label": "01-31",
            "method": "animate"
           },
           {
            "args": [
             [
              "02-01"
             ],
             {
              "frame": {
               "duration": 0,
               "redraw": false
              },
              "fromcurrent": true,
              "mode": "immediate",
              "transition": {
               "duration": 0,
               "easing": "linear"
              }
             }
            ],
            "label": "02-01",
            "method": "animate"
           },
           {
            "args": [
             [
              "02-02"
             ],
             {
              "frame": {
               "duration": 0,
               "redraw": false
              },
              "fromcurrent": true,
              "mode": "immediate",
              "transition": {
               "duration": 0,
               "easing": "linear"
              }
             }
            ],
            "label": "02-02",
            "method": "animate"
           },
           {
            "args": [
             [
              "02-03"
             ],
             {
              "frame": {
               "duration": 0,
               "redraw": false
              },
              "fromcurrent": true,
              "mode": "immediate",
              "transition": {
               "duration": 0,
               "easing": "linear"
              }
             }
            ],
            "label": "02-03",
            "method": "animate"
           },
           {
            "args": [
             [
              "02-04"
             ],
             {
              "frame": {
               "duration": 0,
               "redraw": false
              },
              "fromcurrent": true,
              "mode": "immediate",
              "transition": {
               "duration": 0,
               "easing": "linear"
              }
             }
            ],
            "label": "02-04",
            "method": "animate"
           }
          ],
          "x": 0.1,
          "xanchor": "left",
          "y": 0,
          "yanchor": "top"
         }
        ],
        "template": {
         "data": {
          "bar": [
           {
            "error_x": {
             "color": "#2a3f5f"
            },
            "error_y": {
             "color": "#2a3f5f"
            },
            "marker": {
             "line": {
              "color": "#E5ECF6",
              "width": 0.5
             }
            },
            "type": "bar"
           }
          ],
          "barpolar": [
           {
            "marker": {
             "line": {
              "color": "#E5ECF6",
              "width": 0.5
             }
            },
            "type": "barpolar"
           }
          ],
          "carpet": [
           {
            "aaxis": {
             "endlinecolor": "#2a3f5f",
             "gridcolor": "white",
             "linecolor": "white",
             "minorgridcolor": "white",
             "startlinecolor": "#2a3f5f"
            },
            "baxis": {
             "endlinecolor": "#2a3f5f",
             "gridcolor": "white",
             "linecolor": "white",
             "minorgridcolor": "white",
             "startlinecolor": "#2a3f5f"
            },
            "type": "carpet"
           }
          ],
          "choropleth": [
           {
            "colorbar": {
             "outlinewidth": 0,
             "ticks": ""
            },
            "type": "choropleth"
           }
          ],
          "contour": [
           {
            "colorbar": {
             "outlinewidth": 0,
             "ticks": ""
            },
            "colorscale": [
             [
              0,
              "#0d0887"
             ],
             [
              0.1111111111111111,
              "#46039f"
             ],
             [
              0.2222222222222222,
              "#7201a8"
             ],
             [
              0.3333333333333333,
              "#9c179e"
             ],
             [
              0.4444444444444444,
              "#bd3786"
             ],
             [
              0.5555555555555556,
              "#d8576b"
             ],
             [
              0.6666666666666666,
              "#ed7953"
             ],
             [
              0.7777777777777778,
              "#fb9f3a"
             ],
             [
              0.8888888888888888,
              "#fdca26"
             ],
             [
              1,
              "#f0f921"
             ]
            ],
            "type": "contour"
           }
          ],
          "contourcarpet": [
           {
            "colorbar": {
             "outlinewidth": 0,
             "ticks": ""
            },
            "type": "contourcarpet"
           }
          ],
          "heatmap": [
           {
            "colorbar": {
             "outlinewidth": 0,
             "ticks": ""
            },
            "colorscale": [
             [
              0,
              "#0d0887"
             ],
             [
              0.1111111111111111,
              "#46039f"
             ],
             [
              0.2222222222222222,
              "#7201a8"
             ],
             [
              0.3333333333333333,
              "#9c179e"
             ],
             [
              0.4444444444444444,
              "#bd3786"
             ],
             [
              0.5555555555555556,
              "#d8576b"
             ],
             [
              0.6666666666666666,
              "#ed7953"
             ],
             [
              0.7777777777777778,
              "#fb9f3a"
             ],
             [
              0.8888888888888888,
              "#fdca26"
             ],
             [
              1,
              "#f0f921"
             ]
            ],
            "type": "heatmap"
           }
          ],
          "heatmapgl": [
           {
            "colorbar": {
             "outlinewidth": 0,
             "ticks": ""
            },
            "colorscale": [
             [
              0,
              "#0d0887"
             ],
             [
              0.1111111111111111,
              "#46039f"
             ],
             [
              0.2222222222222222,
              "#7201a8"
             ],
             [
              0.3333333333333333,
              "#9c179e"
             ],
             [
              0.4444444444444444,
              "#bd3786"
             ],
             [
              0.5555555555555556,
              "#d8576b"
             ],
             [
              0.6666666666666666,
              "#ed7953"
             ],
             [
              0.7777777777777778,
              "#fb9f3a"
             ],
             [
              0.8888888888888888,
              "#fdca26"
             ],
             [
              1,
              "#f0f921"
             ]
            ],
            "type": "heatmapgl"
           }
          ],
          "histogram": [
           {
            "marker": {
             "colorbar": {
              "outlinewidth": 0,
              "ticks": ""
             }
            },
            "type": "histogram"
           }
          ],
          "histogram2d": [
           {
            "colorbar": {
             "outlinewidth": 0,
             "ticks": ""
            },
            "colorscale": [
             [
              0,
              "#0d0887"
             ],
             [
              0.1111111111111111,
              "#46039f"
             ],
             [
              0.2222222222222222,
              "#7201a8"
             ],
             [
              0.3333333333333333,
              "#9c179e"
             ],
             [
              0.4444444444444444,
              "#bd3786"
             ],
             [
              0.5555555555555556,
              "#d8576b"
             ],
             [
              0.6666666666666666,
              "#ed7953"
             ],
             [
              0.7777777777777778,
              "#fb9f3a"
             ],
             [
              0.8888888888888888,
              "#fdca26"
             ],
             [
              1,
              "#f0f921"
             ]
            ],
            "type": "histogram2d"
           }
          ],
          "histogram2dcontour": [
           {
            "colorbar": {
             "outlinewidth": 0,
             "ticks": ""
            },
            "colorscale": [
             [
              0,
              "#0d0887"
             ],
             [
              0.1111111111111111,
              "#46039f"
             ],
             [
              0.2222222222222222,
              "#7201a8"
             ],
             [
              0.3333333333333333,
              "#9c179e"
             ],
             [
              0.4444444444444444,
              "#bd3786"
             ],
             [
              0.5555555555555556,
              "#d8576b"
             ],
             [
              0.6666666666666666,
              "#ed7953"
             ],
             [
              0.7777777777777778,
              "#fb9f3a"
             ],
             [
              0.8888888888888888,
              "#fdca26"
             ],
             [
              1,
              "#f0f921"
             ]
            ],
            "type": "histogram2dcontour"
           }
          ],
          "mesh3d": [
           {
            "colorbar": {
             "outlinewidth": 0,
             "ticks": ""
            },
            "type": "mesh3d"
           }
          ],
          "parcoords": [
           {
            "line": {
             "colorbar": {
              "outlinewidth": 0,
              "ticks": ""
             }
            },
            "type": "parcoords"
           }
          ],
          "pie": [
           {
            "automargin": true,
            "type": "pie"
           }
          ],
          "scatter": [
           {
            "marker": {
             "colorbar": {
              "outlinewidth": 0,
              "ticks": ""
             }
            },
            "type": "scatter"
           }
          ],
          "scatter3d": [
           {
            "line": {
             "colorbar": {
              "outlinewidth": 0,
              "ticks": ""
             }
            },
            "marker": {
             "colorbar": {
              "outlinewidth": 0,
              "ticks": ""
             }
            },
            "type": "scatter3d"
           }
          ],
          "scattercarpet": [
           {
            "marker": {
             "colorbar": {
              "outlinewidth": 0,
              "ticks": ""
             }
            },
            "type": "scattercarpet"
           }
          ],
          "scattergeo": [
           {
            "marker": {
             "colorbar": {
              "outlinewidth": 0,
              "ticks": ""
             }
            },
            "type": "scattergeo"
           }
          ],
          "scattergl": [
           {
            "marker": {
             "colorbar": {
              "outlinewidth": 0,
              "ticks": ""
             }
            },
            "type": "scattergl"
           }
          ],
          "scattermapbox": [
           {
            "marker": {
             "colorbar": {
              "outlinewidth": 0,
              "ticks": ""
             }
            },
            "type": "scattermapbox"
           }
          ],
          "scatterpolar": [
           {
            "marker": {
             "colorbar": {
              "outlinewidth": 0,
              "ticks": ""
             }
            },
            "type": "scatterpolar"
           }
          ],
          "scatterpolargl": [
           {
            "marker": {
             "colorbar": {
              "outlinewidth": 0,
              "ticks": ""
             }
            },
            "type": "scatterpolargl"
           }
          ],
          "scatterternary": [
           {
            "marker": {
             "colorbar": {
              "outlinewidth": 0,
              "ticks": ""
             }
            },
            "type": "scatterternary"
           }
          ],
          "surface": [
           {
            "colorbar": {
             "outlinewidth": 0,
             "ticks": ""
            },
            "colorscale": [
             [
              0,
              "#0d0887"
             ],
             [
              0.1111111111111111,
              "#46039f"
             ],
             [
              0.2222222222222222,
              "#7201a8"
             ],
             [
              0.3333333333333333,
              "#9c179e"
             ],
             [
              0.4444444444444444,
              "#bd3786"
             ],
             [
              0.5555555555555556,
              "#d8576b"
             ],
             [
              0.6666666666666666,
              "#ed7953"
             ],
             [
              0.7777777777777778,
              "#fb9f3a"
             ],
             [
              0.8888888888888888,
              "#fdca26"
             ],
             [
              1,
              "#f0f921"
             ]
            ],
            "type": "surface"
           }
          ],
          "table": [
           {
            "cells": {
             "fill": {
              "color": "#EBF0F8"
             },
             "line": {
              "color": "white"
             }
            },
            "header": {
             "fill": {
              "color": "#C8D4E3"
             },
             "line": {
              "color": "white"
             }
            },
            "type": "table"
           }
          ]
         },
         "layout": {
          "annotationdefaults": {
           "arrowcolor": "#2a3f5f",
           "arrowhead": 0,
           "arrowwidth": 1
          },
          "coloraxis": {
           "colorbar": {
            "outlinewidth": 0,
            "ticks": ""
           }
          },
          "colorscale": {
           "diverging": [
            [
             0,
             "#8e0152"
            ],
            [
             0.1,
             "#c51b7d"
            ],
            [
             0.2,
             "#de77ae"
            ],
            [
             0.3,
             "#f1b6da"
            ],
            [
             0.4,
             "#fde0ef"
            ],
            [
             0.5,
             "#f7f7f7"
            ],
            [
             0.6,
             "#e6f5d0"
            ],
            [
             0.7,
             "#b8e186"
            ],
            [
             0.8,
             "#7fbc41"
            ],
            [
             0.9,
             "#4d9221"
            ],
            [
             1,
             "#276419"
            ]
           ],
           "sequential": [
            [
             0,
             "#0d0887"
            ],
            [
             0.1111111111111111,
             "#46039f"
            ],
            [
             0.2222222222222222,
             "#7201a8"
            ],
            [
             0.3333333333333333,
             "#9c179e"
            ],
            [
             0.4444444444444444,
             "#bd3786"
            ],
            [
             0.5555555555555556,
             "#d8576b"
            ],
            [
             0.6666666666666666,
             "#ed7953"
            ],
            [
             0.7777777777777778,
             "#fb9f3a"
            ],
            [
             0.8888888888888888,
             "#fdca26"
            ],
            [
             1,
             "#f0f921"
            ]
           ],
           "sequentialminus": [
            [
             0,
             "#0d0887"
            ],
            [
             0.1111111111111111,
             "#46039f"
            ],
            [
             0.2222222222222222,
             "#7201a8"
            ],
            [
             0.3333333333333333,
             "#9c179e"
            ],
            [
             0.4444444444444444,
             "#bd3786"
            ],
            [
             0.5555555555555556,
             "#d8576b"
            ],
            [
             0.6666666666666666,
             "#ed7953"
            ],
            [
             0.7777777777777778,
             "#fb9f3a"
            ],
            [
             0.8888888888888888,
             "#fdca26"
            ],
            [
             1,
             "#f0f921"
            ]
           ]
          },
          "colorway": [
           "#636efa",
           "#EF553B",
           "#00cc96",
           "#ab63fa",
           "#FFA15A",
           "#19d3f3",
           "#FF6692",
           "#B6E880",
           "#FF97FF",
           "#FECB52"
          ],
          "font": {
           "color": "#2a3f5f"
          },
          "geo": {
           "bgcolor": "white",
           "lakecolor": "white",
           "landcolor": "#E5ECF6",
           "showlakes": true,
           "showland": true,
           "subunitcolor": "white"
          },
          "hoverlabel": {
           "align": "left"
          },
          "hovermode": "closest",
          "mapbox": {
           "style": "light"
          },
          "paper_bgcolor": "white",
          "plot_bgcolor": "#E5ECF6",
          "polar": {
           "angularaxis": {
            "gridcolor": "white",
            "linecolor": "white",
            "ticks": ""
           },
           "bgcolor": "#E5ECF6",
           "radialaxis": {
            "gridcolor": "white",
            "linecolor": "white",
            "ticks": ""
           }
          },
          "scene": {
           "xaxis": {
            "backgroundcolor": "#E5ECF6",
            "gridcolor": "white",
            "gridwidth": 2,
            "linecolor": "white",
            "showbackground": true,
            "ticks": "",
            "zerolinecolor": "white"
           },
           "yaxis": {
            "backgroundcolor": "#E5ECF6",
            "gridcolor": "white",
            "gridwidth": 2,
            "linecolor": "white",
            "showbackground": true,
            "ticks": "",
            "zerolinecolor": "white"
           },
           "zaxis": {
            "backgroundcolor": "#E5ECF6",
            "gridcolor": "white",
            "gridwidth": 2,
            "linecolor": "white",
            "showbackground": true,
            "ticks": "",
            "zerolinecolor": "white"
           }
          },
          "shapedefaults": {
           "line": {
            "color": "#2a3f5f"
           }
          },
          "ternary": {
           "aaxis": {
            "gridcolor": "white",
            "linecolor": "white",
            "ticks": ""
           },
           "baxis": {
            "gridcolor": "white",
            "linecolor": "white",
            "ticks": ""
           },
           "bgcolor": "#E5ECF6",
           "caxis": {
            "gridcolor": "white",
            "linecolor": "white",
            "ticks": ""
           }
          },
          "title": {
           "x": 0.05
          },
          "xaxis": {
           "automargin": true,
           "gridcolor": "white",
           "linecolor": "white",
           "ticks": "",
           "title": {
            "standoff": 15
           },
           "zerolinecolor": "white",
           "zerolinewidth": 2
          },
          "yaxis": {
           "automargin": true,
           "gridcolor": "white",
           "linecolor": "white",
           "ticks": "",
           "title": {
            "standoff": 15
           },
           "zerolinecolor": "white",
           "zerolinewidth": 2
          }
         }
        },
        "updatemenus": [
         {
          "buttons": [
           {
            "args": [
             null,
             {
              "frame": {
               "duration": 500,
               "redraw": false
              },
              "fromcurrent": true,
              "mode": "immediate",
              "transition": {
               "duration": 500,
               "easing": "linear"
              }
             }
            ],
            "label": "&#9654;",
            "method": "animate"
           },
           {
            "args": [
             [
              null
             ],
             {
              "frame": {
               "duration": 0,
               "redraw": false
              },
              "fromcurrent": true,
              "mode": "immediate",
              "transition": {
               "duration": 0,
               "easing": "linear"
              }
             }
            ],
            "label": "&#9724;",
            "method": "animate"
           }
          ],
          "direction": "left",
          "pad": {
           "r": 10,
           "t": 70
          },
          "showactive": false,
          "type": "buttons",
          "x": 0.1,
          "xanchor": "right",
          "y": 0,
          "yanchor": "top"
         }
        ],
        "xaxis": {
         "anchor": "y",
         "domain": [
          0,
          1
         ],
         "range": [
          -5.999999999999999,
          -2.9999999999999996
         ],
         "title": {
          "text": "p"
         },
         "type": "log"
        },
        "yaxis": {
         "anchor": "x",
         "domain": [
          0,
          1
         ],
         "range": [
          0,
          1
         ],
         "title": {
          "text": "beta"
         }
        }
       }
      },
      "text/html": [
       "<div>\n",
       "        \n",
       "        \n",
       "            <div id=\"cf8dec38-ad91-4b25-839b-26a083fd2a51\" class=\"plotly-graph-div\" style=\"height:525px; width:100%;\"></div>\n",
       "            <script type=\"text/javascript\">\n",
       "                require([\"plotly\"], function(Plotly) {\n",
       "                    window.PLOTLYENV=window.PLOTLYENV || {};\n",
       "                    \n",
       "                if (document.getElementById(\"cf8dec38-ad91-4b25-839b-26a083fd2a51\")) {\n",
       "                    Plotly.newPlot(\n",
       "                        'cf8dec38-ad91-4b25-839b-26a083fd2a51',\n",
       "                        [{\"hoverlabel\": {\"namelength\": 0}, \"hovertemplate\": \"<b>%{hovertext}</b><br><br>city=%{text}<br>date=01-28<br>p=%{x}<br>beta=%{y}<br>size=%{marker.size}\", \"hovertext\": [1905.0], \"legendgroup\": \"\\u6b66\\u6c49\", \"marker\": {\"color\": \"#636efa\", \"size\": [1905.0], \"sizemode\": \"area\", \"sizeref\": 2.7606611570247934, \"symbol\": \"circle\"}, \"mode\": \"markers+text\", \"name\": \"\\u6b66\\u6c49\", \"showlegend\": true, \"text\": [\"\\u6b66\\u6c49\"], \"type\": \"scatter\", \"x\": [0.00017958652676829096], \"xaxis\": \"x\", \"y\": [0.5315885706299052], \"yaxis\": \"y\"}, {\"hoverlabel\": {\"namelength\": 0}, \"hovertemplate\": \"<b>%{hovertext}</b><br><br>city=%{text}<br>date=01-28<br>p=%{x}<br>beta=%{y}<br>size=%{marker.size}\", \"hovertext\": [324.0], \"legendgroup\": \"\\u9ec4\\u5188\", \"marker\": {\"color\": \"#EF553B\", \"size\": [324.0], \"sizemode\": \"area\", \"sizeref\": 2.7606611570247934, \"symbol\": \"circle\"}, \"mode\": \"markers+text\", \"name\": \"\\u9ec4\\u5188\", \"showlegend\": true, \"text\": [\"\\u9ec4\\u5188\"], \"type\": \"scatter\", \"x\": [5.1502145922746775e-05], \"xaxis\": \"x\", \"y\": [0.4578403262571028], \"yaxis\": \"y\"}, {\"hoverlabel\": {\"namelength\": 0}, \"hovertemplate\": \"<b>%{hovertext}</b><br><br>city=%{text}<br>date=01-28<br>p=%{x}<br>beta=%{y}<br>size=%{marker.size}\", \"hovertext\": [274.0], \"legendgroup\": \"\\u5b5d\\u611f\", \"marker\": {\"color\": \"#00cc96\", \"size\": [274.0], \"sizemode\": \"area\", \"sizeref\": 2.7606611570247934, \"symbol\": \"circle\"}, \"mode\": \"markers+text\", \"name\": \"\\u5b5d\\u611f\", \"showlegend\": true, \"text\": [\"\\u5b5d\\u611f\"], \"type\": \"scatter\", \"x\": [5.6170561705617064e-05], \"xaxis\": \"x\", \"y\": [0.68390866724152], \"yaxis\": \"y\"}, {\"hoverlabel\": {\"namelength\": 0}, \"hovertemplate\": \"<b>%{hovertext}</b><br><br>city=%{text}<br>date=01-28<br>p=%{x}<br>beta=%{y}<br>size=%{marker.size}\", \"hovertext\": [131.0], \"legendgroup\": \"\\u8944\\u9633\", \"marker\": {\"color\": \"#ab63fa\", \"size\": [131.0], \"sizemode\": \"area\", \"sizeref\": 2.7606611570247934, \"symbol\": \"circle\"}, \"mode\": \"markers+text\", \"name\": \"\\u8944\\u9633\", \"showlegend\": true, \"text\": [\"\\u8944\\u9633\"], \"type\": \"scatter\", \"x\": [2.333452084075525e-05], \"xaxis\": \"x\", \"y\": [1.5529836126617127], \"yaxis\": \"y\"}, {\"hoverlabel\": {\"namelength\": 0}, \"hovertemplate\": \"<b>%{hovertext}</b><br><br>city=%{text}<br>date=01-28<br>p=%{x}<br>beta=%{y}<br>size=%{marker.size}\", \"hovertext\": [101.0], \"legendgroup\": \"\\u8346\\u5dde\", \"marker\": {\"color\": \"#FFA15A\", \"size\": [101.0], \"sizemode\": \"area\", \"sizeref\": 2.7606611570247934, \"symbol\": \"circle\"}, \"mode\": \"markers+text\", \"name\": \"\\u8346\\u5dde\", \"showlegend\": true, \"text\": [\"\\u8346\\u5dde\"], \"type\": \"scatter\", \"x\": [1.7700976182547892e-05], \"xaxis\": \"x\", \"y\": [0.5171060237864649], \"yaxis\": \"y\"}, {\"hoverlabel\": {\"namelength\": 0}, \"hovertemplate\": \"<b>%{hovertext}</b><br><br>city=%{text}<br>date=01-28<br>p=%{x}<br>beta=%{y}<br>size=%{marker.size}\", \"hovertext\": [142.0], \"legendgroup\": \"\\u8346\\u95e8\", \"marker\": {\"color\": \"#19d3f3\", \"size\": [142.0], \"sizemode\": \"area\", \"sizeref\": 2.7606611570247934, \"symbol\": \"circle\"}, \"mode\": \"markers+text\", \"name\": \"\\u8346\\u95e8\", \"showlegend\": true, \"text\": [\"\\u8346\\u95e8\"], \"type\": \"scatter\", \"x\": [4.90280702965853e-05], \"xaxis\": \"x\", \"y\": [0.6078035737295161], \"yaxis\": \"y\"}, {\"hoverlabel\": {\"namelength\": 0}, \"hovertemplate\": \"<b>%{hovertext}</b><br><br>city=%{text}<br>date=01-28<br>p=%{x}<br>beta=%{y}<br>size=%{marker.size}\", \"hovertext\": [86.0], \"legendgroup\": \"\\u9ec4\\u77f3\", \"marker\": {\"color\": \"#FF6692\", \"size\": [86.0], \"sizemode\": \"area\", \"sizeref\": 2.7606611570247934, \"symbol\": \"circle\"}, \"mode\": \"markers+text\", \"name\": \"\\u9ec4\\u77f3\", \"showlegend\": true, \"text\": [\"\\u9ec4\\u77f3\"], \"type\": \"scatter\", \"x\": [3.498779495524817e-05], \"xaxis\": \"x\", \"y\": [0.4663551249657565], \"yaxis\": \"y\"}, {\"hoverlabel\": {\"namelength\": 0}, \"hovertemplate\": \"<b>%{hovertext}</b><br><br>city=%{text}<br>date=01-28<br>p=%{x}<br>beta=%{y}<br>size=%{marker.size}\", \"hovertext\": [32.0], \"legendgroup\": \"\\u4ed9\\u6843\", \"marker\": {\"color\": \"#B6E880\", \"size\": [32.0], \"sizemode\": \"area\", \"sizeref\": 2.7606611570247934, \"symbol\": \"circle\"}, \"mode\": \"markers+text\", \"name\": \"\\u4ed9\\u6843\", \"showlegend\": true, \"text\": [\"\\u4ed9\\u6843\"], \"type\": \"scatter\", \"x\": [2.0512820512820515e-05], \"xaxis\": \"x\", \"y\": [0.5113702105260567], \"yaxis\": \"y\"}, {\"hoverlabel\": {\"namelength\": 0}, \"hovertemplate\": \"<b>%{hovertext}</b><br><br>city=%{text}<br>date=01-28<br>p=%{x}<br>beta=%{y}<br>size=%{marker.size}\", \"hovertext\": [34.0], \"legendgroup\": \"\\u5929\\u95e8\", \"marker\": {\"color\": \"#FF97FF\", \"size\": [34.0], \"sizemode\": \"area\", \"sizeref\": 2.7606611570247934, \"symbol\": \"circle\"}, \"mode\": \"markers+text\", \"name\": \"\\u5929\\u95e8\", \"showlegend\": true, \"text\": [\"\\u5929\\u95e8\"], \"type\": \"scatter\", \"x\": [2.677165354330709e-05], \"xaxis\": \"x\", \"y\": [0.7993025657511521], \"yaxis\": \"y\"}, {\"hoverlabel\": {\"namelength\": 0}, \"hovertemplate\": \"<b>%{hovertext}</b><br><br>city=%{text}<br>date=01-28<br>p=%{x}<br>beta=%{y}<br>size=%{marker.size}\", \"hovertext\": [116.0], \"legendgroup\": \"\\u968f\\u5dde\", \"marker\": {\"color\": \"#FECB52\", \"size\": [116.0], \"sizemode\": \"area\", \"sizeref\": 2.7606611570247934, \"symbol\": \"circle\"}, \"mode\": \"markers+text\", \"name\": \"\\u968f\\u5dde\", \"showlegend\": true, \"text\": [\"\\u968f\\u5dde\"], \"type\": \"scatter\", \"x\": [5.294869454080701e-05], \"xaxis\": \"x\", \"y\": [0.5232500452977967], \"yaxis\": \"y\"}, {\"hoverlabel\": {\"namelength\": 0}, \"hovertemplate\": \"<b>%{hovertext}</b><br><br>city=%{text}<br>date=01-28<br>p=%{x}<br>beta=%{y}<br>size=%{marker.size}\", \"hovertext\": [112.0], \"legendgroup\": \"\\u54b8\\u5b81\", \"marker\": {\"color\": \"#636efa\", \"size\": [112.0], \"sizemode\": \"area\", \"sizeref\": 2.7606611570247934, \"symbol\": \"circle\"}, \"mode\": \"markers+text\", \"name\": \"\\u54b8\\u5b81\", \"showlegend\": true, \"text\": [\"\\u54b8\\u5b81\"], \"type\": \"scatter\", \"x\": [4.467491025129637e-05], \"xaxis\": \"x\", \"y\": [0.4745398649512145], \"yaxis\": \"y\"}, {\"hoverlabel\": {\"namelength\": 0}, \"hovertemplate\": \"<b>%{hovertext}</b><br><br>city=%{text}<br>date=01-28<br>p=%{x}<br>beta=%{y}<br>size=%{marker.size}\", \"hovertext\": [88.0], \"legendgroup\": \"\\u5341\\u5830\", \"marker\": {\"color\": \"#EF553B\", \"size\": [88.0], \"sizemode\": \"area\", \"sizeref\": 2.7606611570247934, \"symbol\": \"circle\"}, \"mode\": \"markers+text\", \"name\": \"\\u5341\\u5830\", \"showlegend\": true, \"text\": [\"\\u5341\\u5830\"], \"type\": \"scatter\", \"x\": [2.601241501625776e-05], \"xaxis\": \"x\", \"y\": [0.6536487730800009], \"yaxis\": \"y\"}, {\"hoverlabel\": {\"namelength\": 0}, \"hovertemplate\": \"<b>%{hovertext}</b><br><br>city=%{text}<br>date=01-28<br>p=%{x}<br>beta=%{y}<br>size=%{marker.size}\", \"hovertext\": [63.0], \"legendgroup\": \"\\u5b9c\\u660c\", \"marker\": {\"color\": \"#00cc96\", \"size\": [63.0], \"sizemode\": \"area\", \"sizeref\": 2.7606611570247934, \"symbol\": \"circle\"}, \"mode\": \"markers+text\", \"name\": \"\\u5b9c\\u660c\", \"showlegend\": true, \"text\": [\"\\u5b9c\\u660c\"], \"type\": \"scatter\", \"x\": [1.5309842041312272e-05], \"xaxis\": \"x\", \"y\": [0.5415306152890009], \"yaxis\": \"y\"}, {\"hoverlabel\": {\"namelength\": 0}, \"hovertemplate\": \"<b>%{hovertext}</b><br><br>city=%{text}<br>date=01-28<br>p=%{x}<br>beta=%{y}<br>size=%{marker.size}\", \"hovertext\": [51.0], \"legendgroup\": \"\\u6069\\u65bd\", \"marker\": {\"color\": \"#ab63fa\", \"size\": [51.0], \"sizemode\": \"area\", \"sizeref\": 2.7606611570247934, \"symbol\": \"circle\"}, \"mode\": \"markers+text\", \"name\": \"\\u6069\\u65bd\", \"showlegend\": true, \"text\": [\"\\u6069\\u65bd\"], \"type\": \"scatter\", \"x\": [1.532912533814247e-05], \"xaxis\": \"x\", \"y\": [0.515803435087015], \"yaxis\": \"y\"}, {\"hoverlabel\": {\"namelength\": 0}, \"hovertemplate\": \"<b>%{hovertext}</b><br><br>city=%{text}<br>date=01-28<br>p=%{x}<br>beta=%{y}<br>size=%{marker.size}\", \"hovertext\": [84.0], \"legendgroup\": \"\\u9102\\u5dde\", \"marker\": {\"color\": \"#FFA15A\", \"size\": [84.0], \"sizemode\": \"area\", \"sizeref\": 2.7606611570247934, \"symbol\": \"circle\"}, \"mode\": \"markers+text\", \"name\": \"\\u9102\\u5dde\", \"showlegend\": true, \"text\": [\"\\u9102\\u5dde\"], \"type\": \"scatter\", \"x\": [7.928268050967436e-05], \"xaxis\": \"x\", \"y\": [1.6419396449543495], \"yaxis\": \"y\"}, {\"hoverlabel\": {\"namelength\": 0}, \"hovertemplate\": \"<b>%{hovertext}</b><br><br>city=%{text}<br>date=01-28<br>p=%{x}<br>beta=%{y}<br>size=%{marker.size}\", \"hovertext\": [63.0], \"legendgroup\": \"\\u6df1\\u5733\", \"marker\": {\"color\": \"#19d3f3\", \"size\": [63.0], \"sizemode\": \"area\", \"sizeref\": 2.7606611570247934, \"symbol\": \"circle\"}, \"mode\": \"markers+text\", \"name\": \"\\u6df1\\u5733\", \"showlegend\": true, \"text\": [\"\\u6df1\\u5733\"], \"type\": \"scatter\", \"x\": [5.538169415239636e-06], \"xaxis\": \"x\", \"y\": [0.42851420839591176], \"yaxis\": \"y\"}, {\"hoverlabel\": {\"namelength\": 0}, \"hovertemplate\": \"<b>%{hovertext}</b><br><br>city=%{text}<br>date=01-28<br>p=%{x}<br>beta=%{y}<br>size=%{marker.size}\", \"hovertext\": [63.0], \"legendgroup\": \"\\u5e7f\\u5dde\", \"marker\": {\"color\": \"#FF6692\", \"size\": [63.0], \"sizemode\": \"area\", \"sizeref\": 2.7606611570247934, \"symbol\": \"circle\"}, \"mode\": \"markers+text\", \"name\": \"\\u5e7f\\u5dde\", \"showlegend\": true, \"text\": [\"\\u5e7f\\u5dde\"], \"type\": \"scatter\", \"x\": [4.667496443812233e-06], \"xaxis\": \"x\", \"y\": [0.6739076735324969], \"yaxis\": \"y\"}, {\"hoverlabel\": {\"namelength\": 0}, \"hovertemplate\": \"<b>%{hovertext}</b><br><br>city=%{text}<br>date=01-28<br>p=%{x}<br>beta=%{y}<br>size=%{marker.size}\", \"hovertext\": [14.0], \"legendgroup\": \"\\u73e0\\u6d77\", \"marker\": {\"color\": \"#B6E880\", \"size\": [14.0], \"sizemode\": \"area\", \"sizeref\": 2.7606611570247934, \"symbol\": \"circle\"}, \"mode\": \"markers+text\", \"name\": \"\\u73e0\\u6d77\", \"showlegend\": true, \"text\": [\"\\u73e0\\u6d77\"], \"type\": \"scatter\", \"x\": [8.570029382957885e-06], \"xaxis\": \"x\", \"y\": [0.2535130388073217], \"yaxis\": \"y\"}, {\"hoverlabel\": {\"namelength\": 0}, \"hovertemplate\": \"<b>%{hovertext}</b><br><br>city=%{text}<br>date=01-28<br>p=%{x}<br>beta=%{y}<br>size=%{marker.size}\", \"hovertext\": [11.0], \"legendgroup\": \"\\u65b0\\u4f59\", \"marker\": {\"color\": \"#FF97FF\", \"size\": [11.0], \"sizemode\": \"area\", \"sizeref\": 2.7606611570247934, \"symbol\": \"circle\"}, \"mode\": \"markers+text\", \"name\": \"\\u65b0\\u4f59\", \"showlegend\": true, \"text\": [\"\\u65b0\\u4f59\"], \"type\": \"scatter\", \"x\": [9.4283020485129e-06], \"xaxis\": \"x\", \"y\": [0.9269400450742964], \"yaxis\": \"y\"}, {\"hoverlabel\": {\"namelength\": 0}, \"hovertemplate\": \"<b>%{hovertext}</b><br><br>city=%{text}<br>date=01-28<br>p=%{x}<br>beta=%{y}<br>size=%{marker.size}\", \"hovertext\": [114.0], \"legendgroup\": \"\\u6e29\\u5dde\", \"marker\": {\"color\": \"#FECB52\", \"size\": [114.0], \"sizemode\": \"area\", \"sizeref\": 2.7606611570247934, \"symbol\": \"circle\"}, \"mode\": \"markers+text\", \"name\": \"\\u6e29\\u5dde\", \"showlegend\": true, \"text\": [\"\\u6e29\\u5dde\"], \"type\": \"scatter\", \"x\": [1.2504113195129974e-05], \"xaxis\": \"x\", \"y\": [0.7563090286177426], \"yaxis\": \"y\"}, {\"hoverlabel\": {\"namelength\": 0}, \"hovertemplate\": \"<b>%{hovertext}</b><br><br>city=%{text}<br>date=01-28<br>p=%{x}<br>beta=%{y}<br>size=%{marker.size}\", \"hovertext\": [102.0], \"legendgroup\": \"\\u5317\\u4eac\", \"marker\": {\"color\": \"#636efa\", \"size\": [102.0], \"sizemode\": \"area\", \"sizeref\": 2.7606611570247934, \"symbol\": \"circle\"}, \"mode\": \"markers+text\", \"name\": \"\\u5317\\u4eac\", \"showlegend\": true, \"text\": [\"\\u5317\\u4eac\"], \"type\": \"scatter\", \"x\": [4.6993780234968906e-06], \"xaxis\": \"x\", \"y\": [0.3745953794188057], \"yaxis\": \"y\"}, {\"hoverlabel\": {\"namelength\": 0}, \"hovertemplate\": \"<b>%{hovertext}</b><br><br>city=%{text}<br>date=01-28<br>p=%{x}<br>beta=%{y}<br>size=%{marker.size}\", \"hovertext\": [80.0], \"legendgroup\": \"\\u4e0a\\u6d77\", \"marker\": {\"color\": \"#EF553B\", \"size\": [80.0], \"sizemode\": \"area\", \"sizeref\": 2.7606611570247934, \"symbol\": \"circle\"}, \"mode\": \"markers+text\", \"name\": \"\\u4e0a\\u6d77\", \"showlegend\": true, \"text\": [\"\\u4e0a\\u6d77\"], \"type\": \"scatter\", \"x\": [3.312259084905621e-06], \"xaxis\": \"x\", \"y\": [0.3797159636121643], \"yaxis\": \"y\"}],\n",
       "                        {\"legend\": {\"itemsizing\": \"constant\", \"title\": {\"text\": \"city\"}, \"tracegroupgap\": 0}, \"margin\": {\"t\": 60}, \"sliders\": [{\"active\": 0, \"currentvalue\": {\"prefix\": \"date=\"}, \"len\": 0.9, \"pad\": {\"b\": 10, \"t\": 60}, \"steps\": [{\"args\": [[\"01-28\"], {\"frame\": {\"duration\": 0, \"redraw\": false}, \"fromcurrent\": true, \"mode\": \"immediate\", \"transition\": {\"duration\": 0, \"easing\": \"linear\"}}], \"label\": \"01-28\", \"method\": \"animate\"}, {\"args\": [[\"01-29\"], {\"frame\": {\"duration\": 0, \"redraw\": false}, \"fromcurrent\": true, \"mode\": \"immediate\", \"transition\": {\"duration\": 0, \"easing\": \"linear\"}}], \"label\": \"01-29\", \"method\": \"animate\"}, {\"args\": [[\"01-30\"], {\"frame\": {\"duration\": 0, \"redraw\": false}, \"fromcurrent\": true, \"mode\": \"immediate\", \"transition\": {\"duration\": 0, \"easing\": \"linear\"}}], \"label\": \"01-30\", \"method\": \"animate\"}, {\"args\": [[\"01-31\"], {\"frame\": {\"duration\": 0, \"redraw\": false}, \"fromcurrent\": true, \"mode\": \"immediate\", \"transition\": {\"duration\": 0, \"easing\": \"linear\"}}], \"label\": \"01-31\", \"method\": \"animate\"}, {\"args\": [[\"02-01\"], {\"frame\": {\"duration\": 0, \"redraw\": false}, \"fromcurrent\": true, \"mode\": \"immediate\", \"transition\": {\"duration\": 0, \"easing\": \"linear\"}}], \"label\": \"02-01\", \"method\": \"animate\"}, {\"args\": [[\"02-02\"], {\"frame\": {\"duration\": 0, \"redraw\": false}, \"fromcurrent\": true, \"mode\": \"immediate\", \"transition\": {\"duration\": 0, \"easing\": \"linear\"}}], \"label\": \"02-02\", \"method\": \"animate\"}, {\"args\": [[\"02-03\"], {\"frame\": {\"duration\": 0, \"redraw\": false}, \"fromcurrent\": true, \"mode\": \"immediate\", \"transition\": {\"duration\": 0, \"easing\": \"linear\"}}], \"label\": \"02-03\", \"method\": \"animate\"}, {\"args\": [[\"02-04\"], {\"frame\": {\"duration\": 0, \"redraw\": false}, \"fromcurrent\": true, \"mode\": \"immediate\", \"transition\": {\"duration\": 0, \"easing\": \"linear\"}}], \"label\": \"02-04\", \"method\": \"animate\"}], \"x\": 0.1, \"xanchor\": \"left\", \"y\": 0, \"yanchor\": \"top\"}], \"template\": {\"data\": {\"bar\": [{\"error_x\": {\"color\": \"#2a3f5f\"}, \"error_y\": {\"color\": \"#2a3f5f\"}, \"marker\": {\"line\": {\"color\": \"#E5ECF6\", \"width\": 0.5}}, \"type\": \"bar\"}], \"barpolar\": [{\"marker\": {\"line\": {\"color\": \"#E5ECF6\", \"width\": 0.5}}, \"type\": \"barpolar\"}], \"carpet\": [{\"aaxis\": {\"endlinecolor\": \"#2a3f5f\", \"gridcolor\": \"white\", \"linecolor\": \"white\", \"minorgridcolor\": \"white\", \"startlinecolor\": \"#2a3f5f\"}, \"baxis\": {\"endlinecolor\": \"#2a3f5f\", \"gridcolor\": \"white\", \"linecolor\": \"white\", \"minorgridcolor\": \"white\", \"startlinecolor\": \"#2a3f5f\"}, \"type\": \"carpet\"}], \"choropleth\": [{\"colorbar\": {\"outlinewidth\": 0, \"ticks\": \"\"}, \"type\": \"choropleth\"}], \"contour\": [{\"colorbar\": {\"outlinewidth\": 0, \"ticks\": \"\"}, \"colorscale\": [[0.0, \"#0d0887\"], [0.1111111111111111, \"#46039f\"], [0.2222222222222222, \"#7201a8\"], [0.3333333333333333, \"#9c179e\"], [0.4444444444444444, \"#bd3786\"], [0.5555555555555556, \"#d8576b\"], [0.6666666666666666, \"#ed7953\"], [0.7777777777777778, \"#fb9f3a\"], [0.8888888888888888, \"#fdca26\"], [1.0, \"#f0f921\"]], \"type\": \"contour\"}], \"contourcarpet\": [{\"colorbar\": {\"outlinewidth\": 0, \"ticks\": \"\"}, \"type\": \"contourcarpet\"}], \"heatmap\": [{\"colorbar\": {\"outlinewidth\": 0, \"ticks\": \"\"}, \"colorscale\": [[0.0, \"#0d0887\"], [0.1111111111111111, \"#46039f\"], [0.2222222222222222, \"#7201a8\"], [0.3333333333333333, \"#9c179e\"], [0.4444444444444444, \"#bd3786\"], [0.5555555555555556, \"#d8576b\"], [0.6666666666666666, \"#ed7953\"], [0.7777777777777778, \"#fb9f3a\"], [0.8888888888888888, \"#fdca26\"], [1.0, \"#f0f921\"]], \"type\": \"heatmap\"}], \"heatmapgl\": [{\"colorbar\": {\"outlinewidth\": 0, \"ticks\": \"\"}, \"colorscale\": [[0.0, \"#0d0887\"], [0.1111111111111111, \"#46039f\"], [0.2222222222222222, \"#7201a8\"], [0.3333333333333333, \"#9c179e\"], [0.4444444444444444, \"#bd3786\"], [0.5555555555555556, \"#d8576b\"], [0.6666666666666666, \"#ed7953\"], [0.7777777777777778, \"#fb9f3a\"], [0.8888888888888888, \"#fdca26\"], [1.0, \"#f0f921\"]], \"type\": \"heatmapgl\"}], \"histogram\": [{\"marker\": {\"colorbar\": {\"outlinewidth\": 0, \"ticks\": \"\"}}, \"type\": \"histogram\"}], \"histogram2d\": [{\"colorbar\": {\"outlinewidth\": 0, \"ticks\": \"\"}, \"colorscale\": [[0.0, \"#0d0887\"], [0.1111111111111111, \"#46039f\"], [0.2222222222222222, \"#7201a8\"], [0.3333333333333333, \"#9c179e\"], [0.4444444444444444, \"#bd3786\"], [0.5555555555555556, \"#d8576b\"], [0.6666666666666666, \"#ed7953\"], [0.7777777777777778, \"#fb9f3a\"], [0.8888888888888888, \"#fdca26\"], [1.0, \"#f0f921\"]], \"type\": \"histogram2d\"}], \"histogram2dcontour\": [{\"colorbar\": {\"outlinewidth\": 0, \"ticks\": \"\"}, \"colorscale\": [[0.0, \"#0d0887\"], [0.1111111111111111, \"#46039f\"], [0.2222222222222222, \"#7201a8\"], [0.3333333333333333, \"#9c179e\"], [0.4444444444444444, \"#bd3786\"], [0.5555555555555556, \"#d8576b\"], [0.6666666666666666, \"#ed7953\"], [0.7777777777777778, \"#fb9f3a\"], [0.8888888888888888, \"#fdca26\"], [1.0, \"#f0f921\"]], \"type\": \"histogram2dcontour\"}], \"mesh3d\": [{\"colorbar\": {\"outlinewidth\": 0, \"ticks\": \"\"}, \"type\": \"mesh3d\"}], \"parcoords\": [{\"line\": {\"colorbar\": {\"outlinewidth\": 0, \"ticks\": \"\"}}, \"type\": \"parcoords\"}], \"pie\": [{\"automargin\": true, \"type\": \"pie\"}], \"scatter\": [{\"marker\": {\"colorbar\": {\"outlinewidth\": 0, \"ticks\": \"\"}}, \"type\": \"scatter\"}], \"scatter3d\": [{\"line\": {\"colorbar\": {\"outlinewidth\": 0, \"ticks\": \"\"}}, \"marker\": {\"colorbar\": {\"outlinewidth\": 0, \"ticks\": \"\"}}, \"type\": \"scatter3d\"}], \"scattercarpet\": [{\"marker\": {\"colorbar\": {\"outlinewidth\": 0, \"ticks\": \"\"}}, \"type\": \"scattercarpet\"}], \"scattergeo\": [{\"marker\": {\"colorbar\": {\"outlinewidth\": 0, \"ticks\": \"\"}}, \"type\": \"scattergeo\"}], \"scattergl\": [{\"marker\": {\"colorbar\": {\"outlinewidth\": 0, \"ticks\": \"\"}}, \"type\": \"scattergl\"}], \"scattermapbox\": [{\"marker\": {\"colorbar\": {\"outlinewidth\": 0, \"ticks\": \"\"}}, \"type\": \"scattermapbox\"}], \"scatterpolar\": [{\"marker\": {\"colorbar\": {\"outlinewidth\": 0, \"ticks\": \"\"}}, \"type\": \"scatterpolar\"}], \"scatterpolargl\": [{\"marker\": {\"colorbar\": {\"outlinewidth\": 0, \"ticks\": \"\"}}, \"type\": \"scatterpolargl\"}], \"scatterternary\": [{\"marker\": {\"colorbar\": {\"outlinewidth\": 0, \"ticks\": \"\"}}, \"type\": \"scatterternary\"}], \"surface\": [{\"colorbar\": {\"outlinewidth\": 0, \"ticks\": \"\"}, \"colorscale\": [[0.0, \"#0d0887\"], [0.1111111111111111, \"#46039f\"], [0.2222222222222222, \"#7201a8\"], [0.3333333333333333, \"#9c179e\"], [0.4444444444444444, \"#bd3786\"], [0.5555555555555556, \"#d8576b\"], [0.6666666666666666, \"#ed7953\"], [0.7777777777777778, \"#fb9f3a\"], [0.8888888888888888, \"#fdca26\"], [1.0, \"#f0f921\"]], \"type\": \"surface\"}], \"table\": [{\"cells\": {\"fill\": {\"color\": \"#EBF0F8\"}, \"line\": {\"color\": \"white\"}}, \"header\": {\"fill\": {\"color\": \"#C8D4E3\"}, \"line\": {\"color\": \"white\"}}, \"type\": \"table\"}]}, \"layout\": {\"annotationdefaults\": {\"arrowcolor\": \"#2a3f5f\", \"arrowhead\": 0, \"arrowwidth\": 1}, \"coloraxis\": {\"colorbar\": {\"outlinewidth\": 0, \"ticks\": \"\"}}, \"colorscale\": {\"diverging\": [[0, \"#8e0152\"], [0.1, \"#c51b7d\"], [0.2, \"#de77ae\"], [0.3, \"#f1b6da\"], [0.4, \"#fde0ef\"], [0.5, \"#f7f7f7\"], [0.6, \"#e6f5d0\"], [0.7, \"#b8e186\"], [0.8, \"#7fbc41\"], [0.9, \"#4d9221\"], [1, \"#276419\"]], \"sequential\": [[0.0, \"#0d0887\"], [0.1111111111111111, \"#46039f\"], [0.2222222222222222, \"#7201a8\"], [0.3333333333333333, \"#9c179e\"], [0.4444444444444444, \"#bd3786\"], [0.5555555555555556, \"#d8576b\"], [0.6666666666666666, \"#ed7953\"], [0.7777777777777778, \"#fb9f3a\"], [0.8888888888888888, \"#fdca26\"], [1.0, \"#f0f921\"]], \"sequentialminus\": [[0.0, \"#0d0887\"], [0.1111111111111111, \"#46039f\"], [0.2222222222222222, \"#7201a8\"], [0.3333333333333333, \"#9c179e\"], [0.4444444444444444, \"#bd3786\"], [0.5555555555555556, \"#d8576b\"], [0.6666666666666666, \"#ed7953\"], [0.7777777777777778, \"#fb9f3a\"], [0.8888888888888888, \"#fdca26\"], [1.0, \"#f0f921\"]]}, \"colorway\": [\"#636efa\", \"#EF553B\", \"#00cc96\", \"#ab63fa\", \"#FFA15A\", \"#19d3f3\", \"#FF6692\", \"#B6E880\", \"#FF97FF\", \"#FECB52\"], \"font\": {\"color\": \"#2a3f5f\"}, \"geo\": {\"bgcolor\": \"white\", \"lakecolor\": \"white\", \"landcolor\": \"#E5ECF6\", \"showlakes\": true, \"showland\": true, \"subunitcolor\": \"white\"}, \"hoverlabel\": {\"align\": \"left\"}, \"hovermode\": \"closest\", \"mapbox\": {\"style\": \"light\"}, \"paper_bgcolor\": \"white\", \"plot_bgcolor\": \"#E5ECF6\", \"polar\": {\"angularaxis\": {\"gridcolor\": \"white\", \"linecolor\": \"white\", \"ticks\": \"\"}, \"bgcolor\": \"#E5ECF6\", \"radialaxis\": {\"gridcolor\": \"white\", \"linecolor\": \"white\", \"ticks\": \"\"}}, \"scene\": {\"xaxis\": {\"backgroundcolor\": \"#E5ECF6\", \"gridcolor\": \"white\", \"gridwidth\": 2, \"linecolor\": \"white\", \"showbackground\": true, \"ticks\": \"\", \"zerolinecolor\": \"white\"}, \"yaxis\": {\"backgroundcolor\": \"#E5ECF6\", \"gridcolor\": \"white\", \"gridwidth\": 2, \"linecolor\": \"white\", \"showbackground\": true, \"ticks\": \"\", \"zerolinecolor\": \"white\"}, \"zaxis\": {\"backgroundcolor\": \"#E5ECF6\", \"gridcolor\": \"white\", \"gridwidth\": 2, \"linecolor\": \"white\", \"showbackground\": true, \"ticks\": \"\", \"zerolinecolor\": \"white\"}}, \"shapedefaults\": {\"line\": {\"color\": \"#2a3f5f\"}}, \"ternary\": {\"aaxis\": {\"gridcolor\": \"white\", \"linecolor\": \"white\", \"ticks\": \"\"}, \"baxis\": {\"gridcolor\": \"white\", \"linecolor\": \"white\", \"ticks\": \"\"}, \"bgcolor\": \"#E5ECF6\", \"caxis\": {\"gridcolor\": \"white\", \"linecolor\": \"white\", \"ticks\": \"\"}}, \"title\": {\"x\": 0.05}, \"xaxis\": {\"automargin\": true, \"gridcolor\": \"white\", \"linecolor\": \"white\", \"ticks\": \"\", \"title\": {\"standoff\": 15}, \"zerolinecolor\": \"white\", \"zerolinewidth\": 2}, \"yaxis\": {\"automargin\": true, \"gridcolor\": \"white\", \"linecolor\": \"white\", \"ticks\": \"\", \"title\": {\"standoff\": 15}, \"zerolinecolor\": \"white\", \"zerolinewidth\": 2}}}, \"updatemenus\": [{\"buttons\": [{\"args\": [null, {\"frame\": {\"duration\": 500, \"redraw\": false}, \"fromcurrent\": true, \"mode\": \"immediate\", \"transition\": {\"duration\": 500, \"easing\": \"linear\"}}], \"label\": \"&#9654;\", \"method\": \"animate\"}, {\"args\": [[null], {\"frame\": {\"duration\": 0, \"redraw\": false}, \"fromcurrent\": true, \"mode\": \"immediate\", \"transition\": {\"duration\": 0, \"easing\": \"linear\"}}], \"label\": \"&#9724;\", \"method\": \"animate\"}], \"direction\": \"left\", \"pad\": {\"r\": 10, \"t\": 70}, \"showactive\": false, \"type\": \"buttons\", \"x\": 0.1, \"xanchor\": \"right\", \"y\": 0, \"yanchor\": \"top\"}], \"xaxis\": {\"anchor\": \"y\", \"domain\": [0.0, 1.0], \"range\": [-5.999999999999999, -2.9999999999999996], \"title\": {\"text\": \"p\"}, \"type\": \"log\"}, \"yaxis\": {\"anchor\": \"x\", \"domain\": [0.0, 1.0], \"range\": [0, 1], \"title\": {\"text\": \"beta\"}}},\n",
       "                        {\"responsive\": true}\n",
       "                    ).then(function(){\n",
       "                            Plotly.addFrames('cf8dec38-ad91-4b25-839b-26a083fd2a51', [{\"data\": [{\"hoverlabel\": {\"namelength\": 0}, \"hovertemplate\": \"<b>%{hovertext}</b><br><br>city=%{text}<br>date=01-28<br>p=%{x}<br>beta=%{y}<br>size=%{marker.size}\", \"hovertext\": [1905.0], \"legendgroup\": \"\\u6b66\\u6c49\", \"marker\": {\"color\": \"#636efa\", \"size\": [1905.0], \"sizemode\": \"area\", \"sizeref\": 2.7606611570247934, \"symbol\": \"circle\"}, \"mode\": \"markers+text\", \"name\": \"\\u6b66\\u6c49\", \"showlegend\": true, \"text\": [\"\\u6b66\\u6c49\"], \"x\": [0.00017958652676829096], \"xaxis\": \"x\", \"y\": [0.5315885706299052], \"yaxis\": \"y\", \"type\": \"scatter\"}, {\"hoverlabel\": {\"namelength\": 0}, \"hovertemplate\": \"<b>%{hovertext}</b><br><br>city=%{text}<br>date=01-28<br>p=%{x}<br>beta=%{y}<br>size=%{marker.size}\", \"hovertext\": [324.0], \"legendgroup\": \"\\u9ec4\\u5188\", \"marker\": {\"color\": \"#EF553B\", \"size\": [324.0], \"sizemode\": \"area\", \"sizeref\": 2.7606611570247934, \"symbol\": \"circle\"}, \"mode\": \"markers+text\", \"name\": \"\\u9ec4\\u5188\", \"showlegend\": true, \"text\": [\"\\u9ec4\\u5188\"], \"x\": [5.1502145922746775e-05], \"xaxis\": \"x\", \"y\": [0.4578403262571028], \"yaxis\": \"y\", \"type\": \"scatter\"}, {\"hoverlabel\": {\"namelength\": 0}, \"hovertemplate\": \"<b>%{hovertext}</b><br><br>city=%{text}<br>date=01-28<br>p=%{x}<br>beta=%{y}<br>size=%{marker.size}\", \"hovertext\": [274.0], \"legendgroup\": \"\\u5b5d\\u611f\", \"marker\": {\"color\": \"#00cc96\", \"size\": [274.0], \"sizemode\": \"area\", \"sizeref\": 2.7606611570247934, \"symbol\": \"circle\"}, \"mode\": \"markers+text\", \"name\": \"\\u5b5d\\u611f\", \"showlegend\": true, \"text\": [\"\\u5b5d\\u611f\"], \"x\": [5.6170561705617064e-05], \"xaxis\": \"x\", \"y\": [0.68390866724152], \"yaxis\": \"y\", \"type\": \"scatter\"}, {\"hoverlabel\": {\"namelength\": 0}, \"hovertemplate\": \"<b>%{hovertext}</b><br><br>city=%{text}<br>date=01-28<br>p=%{x}<br>beta=%{y}<br>size=%{marker.size}\", \"hovertext\": [131.0], \"legendgroup\": \"\\u8944\\u9633\", \"marker\": {\"color\": \"#ab63fa\", \"size\": [131.0], \"sizemode\": \"area\", \"sizeref\": 2.7606611570247934, \"symbol\": \"circle\"}, \"mode\": \"markers+text\", \"name\": \"\\u8944\\u9633\", \"showlegend\": true, \"text\": [\"\\u8944\\u9633\"], \"x\": [2.333452084075525e-05], \"xaxis\": \"x\", \"y\": [1.5529836126617127], \"yaxis\": \"y\", \"type\": \"scatter\"}, {\"hoverlabel\": {\"namelength\": 0}, \"hovertemplate\": \"<b>%{hovertext}</b><br><br>city=%{text}<br>date=01-28<br>p=%{x}<br>beta=%{y}<br>size=%{marker.size}\", \"hovertext\": [101.0], \"legendgroup\": \"\\u8346\\u5dde\", \"marker\": {\"color\": \"#FFA15A\", \"size\": [101.0], \"sizemode\": \"area\", \"sizeref\": 2.7606611570247934, \"symbol\": \"circle\"}, \"mode\": \"markers+text\", \"name\": \"\\u8346\\u5dde\", \"showlegend\": true, \"text\": [\"\\u8346\\u5dde\"], \"x\": [1.7700976182547892e-05], \"xaxis\": \"x\", \"y\": [0.5171060237864649], \"yaxis\": \"y\", \"type\": \"scatter\"}, {\"hoverlabel\": {\"namelength\": 0}, \"hovertemplate\": \"<b>%{hovertext}</b><br><br>city=%{text}<br>date=01-28<br>p=%{x}<br>beta=%{y}<br>size=%{marker.size}\", \"hovertext\": [142.0], \"legendgroup\": \"\\u8346\\u95e8\", \"marker\": {\"color\": \"#19d3f3\", \"size\": [142.0], \"sizemode\": \"area\", \"sizeref\": 2.7606611570247934, \"symbol\": \"circle\"}, \"mode\": \"markers+text\", \"name\": \"\\u8346\\u95e8\", \"showlegend\": true, \"text\": [\"\\u8346\\u95e8\"], \"x\": [4.90280702965853e-05], \"xaxis\": \"x\", \"y\": [0.6078035737295161], \"yaxis\": \"y\", \"type\": \"scatter\"}, {\"hoverlabel\": {\"namelength\": 0}, \"hovertemplate\": \"<b>%{hovertext}</b><br><br>city=%{text}<br>date=01-28<br>p=%{x}<br>beta=%{y}<br>size=%{marker.size}\", \"hovertext\": [86.0], \"legendgroup\": \"\\u9ec4\\u77f3\", \"marker\": {\"color\": \"#FF6692\", \"size\": [86.0], \"sizemode\": \"area\", \"sizeref\": 2.7606611570247934, \"symbol\": \"circle\"}, \"mode\": \"markers+text\", \"name\": \"\\u9ec4\\u77f3\", \"showlegend\": true, \"text\": [\"\\u9ec4\\u77f3\"], \"x\": [3.498779495524817e-05], \"xaxis\": \"x\", \"y\": [0.4663551249657565], \"yaxis\": \"y\", \"type\": \"scatter\"}, {\"hoverlabel\": {\"namelength\": 0}, \"hovertemplate\": \"<b>%{hovertext}</b><br><br>city=%{text}<br>date=01-28<br>p=%{x}<br>beta=%{y}<br>size=%{marker.size}\", \"hovertext\": [32.0], \"legendgroup\": \"\\u4ed9\\u6843\", \"marker\": {\"color\": \"#B6E880\", \"size\": [32.0], \"sizemode\": \"area\", \"sizeref\": 2.7606611570247934, \"symbol\": \"circle\"}, \"mode\": \"markers+text\", \"name\": \"\\u4ed9\\u6843\", \"showlegend\": true, \"text\": [\"\\u4ed9\\u6843\"], \"x\": [2.0512820512820515e-05], \"xaxis\": \"x\", \"y\": [0.5113702105260567], \"yaxis\": \"y\", \"type\": \"scatter\"}, {\"hoverlabel\": {\"namelength\": 0}, \"hovertemplate\": \"<b>%{hovertext}</b><br><br>city=%{text}<br>date=01-28<br>p=%{x}<br>beta=%{y}<br>size=%{marker.size}\", \"hovertext\": [34.0], \"legendgroup\": \"\\u5929\\u95e8\", \"marker\": {\"color\": \"#FF97FF\", \"size\": [34.0], \"sizemode\": \"area\", \"sizeref\": 2.7606611570247934, \"symbol\": \"circle\"}, \"mode\": \"markers+text\", \"name\": \"\\u5929\\u95e8\", \"showlegend\": true, \"text\": [\"\\u5929\\u95e8\"], \"x\": [2.677165354330709e-05], \"xaxis\": \"x\", \"y\": [0.7993025657511521], \"yaxis\": \"y\", \"type\": \"scatter\"}, {\"hoverlabel\": {\"namelength\": 0}, \"hovertemplate\": \"<b>%{hovertext}</b><br><br>city=%{text}<br>date=01-28<br>p=%{x}<br>beta=%{y}<br>size=%{marker.size}\", \"hovertext\": [116.0], \"legendgroup\": \"\\u968f\\u5dde\", \"marker\": {\"color\": \"#FECB52\", \"size\": [116.0], \"sizemode\": \"area\", \"sizeref\": 2.7606611570247934, \"symbol\": \"circle\"}, \"mode\": \"markers+text\", \"name\": \"\\u968f\\u5dde\", \"showlegend\": true, \"text\": [\"\\u968f\\u5dde\"], \"x\": [5.294869454080701e-05], \"xaxis\": \"x\", \"y\": [0.5232500452977967], \"yaxis\": \"y\", \"type\": \"scatter\"}, {\"hoverlabel\": {\"namelength\": 0}, \"hovertemplate\": \"<b>%{hovertext}</b><br><br>city=%{text}<br>date=01-28<br>p=%{x}<br>beta=%{y}<br>size=%{marker.size}\", \"hovertext\": [112.0], \"legendgroup\": \"\\u54b8\\u5b81\", \"marker\": {\"color\": \"#636efa\", \"size\": [112.0], \"sizemode\": \"area\", \"sizeref\": 2.7606611570247934, \"symbol\": \"circle\"}, \"mode\": \"markers+text\", \"name\": \"\\u54b8\\u5b81\", \"showlegend\": true, \"text\": [\"\\u54b8\\u5b81\"], \"x\": [4.467491025129637e-05], \"xaxis\": \"x\", \"y\": [0.4745398649512145], \"yaxis\": \"y\", \"type\": \"scatter\"}, {\"hoverlabel\": {\"namelength\": 0}, \"hovertemplate\": \"<b>%{hovertext}</b><br><br>city=%{text}<br>date=01-28<br>p=%{x}<br>beta=%{y}<br>size=%{marker.size}\", \"hovertext\": [88.0], \"legendgroup\": \"\\u5341\\u5830\", \"marker\": {\"color\": \"#EF553B\", \"size\": [88.0], \"sizemode\": \"area\", \"sizeref\": 2.7606611570247934, \"symbol\": \"circle\"}, \"mode\": \"markers+text\", \"name\": \"\\u5341\\u5830\", \"showlegend\": true, \"text\": [\"\\u5341\\u5830\"], \"x\": [2.601241501625776e-05], \"xaxis\": \"x\", \"y\": [0.6536487730800009], \"yaxis\": \"y\", \"type\": \"scatter\"}, {\"hoverlabel\": {\"namelength\": 0}, \"hovertemplate\": \"<b>%{hovertext}</b><br><br>city=%{text}<br>date=01-28<br>p=%{x}<br>beta=%{y}<br>size=%{marker.size}\", \"hovertext\": [63.0], \"legendgroup\": \"\\u5b9c\\u660c\", \"marker\": {\"color\": \"#00cc96\", \"size\": [63.0], \"sizemode\": \"area\", \"sizeref\": 2.7606611570247934, \"symbol\": \"circle\"}, \"mode\": \"markers+text\", \"name\": \"\\u5b9c\\u660c\", \"showlegend\": true, \"text\": [\"\\u5b9c\\u660c\"], \"x\": [1.5309842041312272e-05], \"xaxis\": \"x\", \"y\": [0.5415306152890009], \"yaxis\": \"y\", \"type\": \"scatter\"}, {\"hoverlabel\": {\"namelength\": 0}, \"hovertemplate\": \"<b>%{hovertext}</b><br><br>city=%{text}<br>date=01-28<br>p=%{x}<br>beta=%{y}<br>size=%{marker.size}\", \"hovertext\": [51.0], \"legendgroup\": \"\\u6069\\u65bd\", \"marker\": {\"color\": \"#ab63fa\", \"size\": [51.0], \"sizemode\": \"area\", \"sizeref\": 2.7606611570247934, \"symbol\": \"circle\"}, \"mode\": \"markers+text\", \"name\": \"\\u6069\\u65bd\", \"showlegend\": true, \"text\": [\"\\u6069\\u65bd\"], \"x\": [1.532912533814247e-05], \"xaxis\": \"x\", \"y\": [0.515803435087015], \"yaxis\": \"y\", \"type\": \"scatter\"}, {\"hoverlabel\": {\"namelength\": 0}, \"hovertemplate\": \"<b>%{hovertext}</b><br><br>city=%{text}<br>date=01-28<br>p=%{x}<br>beta=%{y}<br>size=%{marker.size}\", \"hovertext\": [84.0], \"legendgroup\": \"\\u9102\\u5dde\", \"marker\": {\"color\": \"#FFA15A\", \"size\": [84.0], \"sizemode\": \"area\", \"sizeref\": 2.7606611570247934, \"symbol\": \"circle\"}, \"mode\": \"markers+text\", \"name\": \"\\u9102\\u5dde\", \"showlegend\": true, \"text\": [\"\\u9102\\u5dde\"], \"x\": [7.928268050967436e-05], \"xaxis\": \"x\", \"y\": [1.6419396449543495], \"yaxis\": \"y\", \"type\": \"scatter\"}, {\"hoverlabel\": {\"namelength\": 0}, \"hovertemplate\": \"<b>%{hovertext}</b><br><br>city=%{text}<br>date=01-28<br>p=%{x}<br>beta=%{y}<br>size=%{marker.size}\", \"hovertext\": [63.0], \"legendgroup\": \"\\u6df1\\u5733\", \"marker\": {\"color\": \"#19d3f3\", \"size\": [63.0], \"sizemode\": \"area\", \"sizeref\": 2.7606611570247934, \"symbol\": \"circle\"}, \"mode\": \"markers+text\", \"name\": \"\\u6df1\\u5733\", \"showlegend\": true, \"text\": [\"\\u6df1\\u5733\"], \"x\": [5.538169415239636e-06], \"xaxis\": \"x\", \"y\": [0.42851420839591176], \"yaxis\": \"y\", \"type\": \"scatter\"}, {\"hoverlabel\": {\"namelength\": 0}, \"hovertemplate\": \"<b>%{hovertext}</b><br><br>city=%{text}<br>date=01-28<br>p=%{x}<br>beta=%{y}<br>size=%{marker.size}\", \"hovertext\": [63.0], \"legendgroup\": \"\\u5e7f\\u5dde\", \"marker\": {\"color\": \"#FF6692\", \"size\": [63.0], \"sizemode\": \"area\", \"sizeref\": 2.7606611570247934, \"symbol\": \"circle\"}, \"mode\": \"markers+text\", \"name\": \"\\u5e7f\\u5dde\", \"showlegend\": true, \"text\": [\"\\u5e7f\\u5dde\"], \"x\": [4.667496443812233e-06], \"xaxis\": \"x\", \"y\": [0.6739076735324969], \"yaxis\": \"y\", \"type\": \"scatter\"}, {\"hoverlabel\": {\"namelength\": 0}, \"hovertemplate\": \"<b>%{hovertext}</b><br><br>city=%{text}<br>date=01-28<br>p=%{x}<br>beta=%{y}<br>size=%{marker.size}\", \"hovertext\": [14.0], \"legendgroup\": \"\\u73e0\\u6d77\", \"marker\": {\"color\": \"#B6E880\", \"size\": [14.0], \"sizemode\": \"area\", \"sizeref\": 2.7606611570247934, \"symbol\": \"circle\"}, \"mode\": \"markers+text\", \"name\": \"\\u73e0\\u6d77\", \"showlegend\": true, \"text\": [\"\\u73e0\\u6d77\"], \"x\": [8.570029382957885e-06], \"xaxis\": \"x\", \"y\": [0.2535130388073217], \"yaxis\": \"y\", \"type\": \"scatter\"}, {\"hoverlabel\": {\"namelength\": 0}, \"hovertemplate\": \"<b>%{hovertext}</b><br><br>city=%{text}<br>date=01-28<br>p=%{x}<br>beta=%{y}<br>size=%{marker.size}\", \"hovertext\": [11.0], \"legendgroup\": \"\\u65b0\\u4f59\", \"marker\": {\"color\": \"#FF97FF\", \"size\": [11.0], \"sizemode\": \"area\", \"sizeref\": 2.7606611570247934, \"symbol\": \"circle\"}, \"mode\": \"markers+text\", \"name\": \"\\u65b0\\u4f59\", \"showlegend\": true, \"text\": [\"\\u65b0\\u4f59\"], \"x\": [9.4283020485129e-06], \"xaxis\": \"x\", \"y\": [0.9269400450742964], \"yaxis\": \"y\", \"type\": \"scatter\"}, {\"hoverlabel\": {\"namelength\": 0}, \"hovertemplate\": \"<b>%{hovertext}</b><br><br>city=%{text}<br>date=01-28<br>p=%{x}<br>beta=%{y}<br>size=%{marker.size}\", \"hovertext\": [114.0], \"legendgroup\": \"\\u6e29\\u5dde\", \"marker\": {\"color\": \"#FECB52\", \"size\": [114.0], \"sizemode\": \"area\", \"sizeref\": 2.7606611570247934, \"symbol\": \"circle\"}, \"mode\": \"markers+text\", \"name\": \"\\u6e29\\u5dde\", \"showlegend\": true, \"text\": [\"\\u6e29\\u5dde\"], \"x\": [1.2504113195129974e-05], \"xaxis\": \"x\", \"y\": [0.7563090286177426], \"yaxis\": \"y\", \"type\": \"scatter\"}, {\"hoverlabel\": {\"namelength\": 0}, \"hovertemplate\": \"<b>%{hovertext}</b><br><br>city=%{text}<br>date=01-28<br>p=%{x}<br>beta=%{y}<br>size=%{marker.size}\", \"hovertext\": [102.0], \"legendgroup\": \"\\u5317\\u4eac\", \"marker\": {\"color\": \"#636efa\", \"size\": [102.0], \"sizemode\": \"area\", \"sizeref\": 2.7606611570247934, \"symbol\": \"circle\"}, \"mode\": \"markers+text\", \"name\": \"\\u5317\\u4eac\", \"showlegend\": true, \"text\": [\"\\u5317\\u4eac\"], \"x\": [4.6993780234968906e-06], \"xaxis\": \"x\", \"y\": [0.3745953794188057], \"yaxis\": \"y\", \"type\": \"scatter\"}, {\"hoverlabel\": {\"namelength\": 0}, \"hovertemplate\": \"<b>%{hovertext}</b><br><br>city=%{text}<br>date=01-28<br>p=%{x}<br>beta=%{y}<br>size=%{marker.size}\", \"hovertext\": [80.0], \"legendgroup\": \"\\u4e0a\\u6d77\", \"marker\": {\"color\": \"#EF553B\", \"size\": [80.0], \"sizemode\": \"area\", \"sizeref\": 2.7606611570247934, \"symbol\": \"circle\"}, \"mode\": \"markers+text\", \"name\": \"\\u4e0a\\u6d77\", \"showlegend\": true, \"text\": [\"\\u4e0a\\u6d77\"], \"x\": [3.312259084905621e-06], \"xaxis\": \"x\", \"y\": [0.3797159636121643], \"yaxis\": \"y\", \"type\": \"scatter\"}], \"name\": \"01-28\"}, {\"data\": [{\"hoverlabel\": {\"namelength\": 0}, \"hovertemplate\": \"<b>%{hovertext}</b><br><br>city=%{text}<br>date=01-29<br>p=%{x}<br>beta=%{y}<br>size=%{marker.size}\", \"hovertext\": [2261.0], \"legendgroup\": \"\\u6b66\\u6c49\", \"marker\": {\"color\": \"#636efa\", \"size\": [2261.0], \"sizemode\": \"area\", \"sizeref\": 2.7606611570247934, \"symbol\": \"circle\"}, \"mode\": \"markers+text\", \"name\": \"\\u6b66\\u6c49\", \"showlegend\": true, \"text\": [\"\\u6b66\\u6c49\"], \"x\": [0.0002131470535554361], \"xaxis\": \"x\", \"y\": [0.5632084125005646], \"yaxis\": \"y\", \"type\": \"scatter\"}, {\"hoverlabel\": {\"namelength\": 0}, \"hovertemplate\": \"<b>%{hovertext}</b><br><br>city=%{text}<br>date=01-29<br>p=%{x}<br>beta=%{y}<br>size=%{marker.size}\", \"hovertext\": [496.0], \"legendgroup\": \"\\u9ec4\\u5188\", \"marker\": {\"color\": \"#EF553B\", \"size\": [496.0], \"sizemode\": \"area\", \"sizeref\": 2.7606611570247934, \"symbol\": \"circle\"}, \"mode\": \"markers+text\", \"name\": \"\\u9ec4\\u5188\", \"showlegend\": true, \"text\": [\"\\u9ec4\\u5188\"], \"x\": [7.884279128914322e-05], \"xaxis\": \"x\", \"y\": [0.5285754107244699], \"yaxis\": \"y\", \"type\": \"scatter\"}, {\"hoverlabel\": {\"namelength\": 0}, \"hovertemplate\": \"<b>%{hovertext}</b><br><br>city=%{text}<br>date=01-29<br>p=%{x}<br>beta=%{y}<br>size=%{marker.size}\", \"hovertext\": [399.0], \"legendgroup\": \"\\u5b5d\\u611f\", \"marker\": {\"color\": \"#00cc96\", \"size\": [399.0], \"sizemode\": \"area\", \"sizeref\": 2.7606611570247934, \"symbol\": \"circle\"}, \"mode\": \"markers+text\", \"name\": \"\\u5b5d\\u611f\", \"showlegend\": true, \"text\": [\"\\u5b5d\\u611f\"], \"x\": [8.179581795817958e-05], \"xaxis\": \"x\", \"y\": [0.6119358241371949], \"yaxis\": \"y\", \"type\": \"scatter\"}, {\"hoverlabel\": {\"namelength\": 0}, \"hovertemplate\": \"<b>%{hovertext}</b><br><br>city=%{text}<br>date=01-29<br>p=%{x}<br>beta=%{y}<br>size=%{marker.size}\", \"hovertext\": [163.0], \"legendgroup\": \"\\u8944\\u9633\", \"marker\": {\"color\": \"#ab63fa\", \"size\": [163.0], \"sizemode\": \"area\", \"sizeref\": 2.7606611570247934, \"symbol\": \"circle\"}, \"mode\": \"markers+text\", \"name\": \"\\u8944\\u9633\", \"showlegend\": true, \"text\": [\"\\u8944\\u9633\"], \"x\": [2.903455646597791e-05], \"xaxis\": \"x\", \"y\": [0.6698723206052154], \"yaxis\": \"y\", \"type\": \"scatter\"}, {\"hoverlabel\": {\"namelength\": 0}, \"hovertemplate\": \"<b>%{hovertext}</b><br><br>city=%{text}<br>date=01-29<br>p=%{x}<br>beta=%{y}<br>size=%{marker.size}\", \"hovertext\": [151.0], \"legendgroup\": \"\\u8346\\u5dde\", \"marker\": {\"color\": \"#FFA15A\", \"size\": [151.0], \"sizemode\": \"area\", \"sizeref\": 2.7606611570247934, \"symbol\": \"circle\"}, \"mode\": \"markers+text\", \"name\": \"\\u8346\\u5dde\", \"showlegend\": true, \"text\": [\"\\u8346\\u5dde\"], \"x\": [2.6463835678858724e-05], \"xaxis\": \"x\", \"y\": [0.5312803594529345], \"yaxis\": \"y\", \"type\": \"scatter\"}, {\"hoverlabel\": {\"namelength\": 0}, \"hovertemplate\": \"<b>%{hovertext}</b><br><br>city=%{text}<br>date=01-29<br>p=%{x}<br>beta=%{y}<br>size=%{marker.size}\", \"hovertext\": [191.0], \"legendgroup\": \"\\u8346\\u95e8\", \"marker\": {\"color\": \"#19d3f3\", \"size\": [191.0], \"sizemode\": \"area\", \"sizeref\": 2.7606611570247934, \"symbol\": \"circle\"}, \"mode\": \"markers+text\", \"name\": \"\\u8346\\u95e8\", \"showlegend\": true, \"text\": [\"\\u8346\\u95e8\"], \"x\": [6.594620722991402e-05], \"xaxis\": \"x\", \"y\": [0.38861496360122144], \"yaxis\": \"y\", \"type\": \"scatter\"}, {\"hoverlabel\": {\"namelength\": 0}, \"hovertemplate\": \"<b>%{hovertext}</b><br><br>city=%{text}<br>date=01-29<br>p=%{x}<br>beta=%{y}<br>size=%{marker.size}\", \"hovertext\": [113.0], \"legendgroup\": \"\\u9ec4\\u77f3\", \"marker\": {\"color\": \"#FF6692\", \"size\": [113.0], \"sizemode\": \"area\", \"sizeref\": 2.7606611570247934, \"symbol\": \"circle\"}, \"mode\": \"markers+text\", \"name\": \"\\u9ec4\\u77f3\", \"showlegend\": true, \"text\": [\"\\u9ec4\\u77f3\"], \"x\": [4.597233523189585e-05], \"xaxis\": \"x\", \"y\": [0.5336922992623775], \"yaxis\": \"y\", \"type\": \"scatter\"}, {\"hoverlabel\": {\"namelength\": 0}, \"hovertemplate\": \"<b>%{hovertext}</b><br><br>city=%{text}<br>date=01-29<br>p=%{x}<br>beta=%{y}<br>size=%{marker.size}\", \"hovertext\": [55.0], \"legendgroup\": \"\\u4ed9\\u6843\", \"marker\": {\"color\": \"#B6E880\", \"size\": [55.0], \"sizemode\": \"area\", \"sizeref\": 2.7606611570247934, \"symbol\": \"circle\"}, \"mode\": \"markers+text\", \"name\": \"\\u4ed9\\u6843\", \"showlegend\": true, \"text\": [\"\\u4ed9\\u6843\"], \"x\": [3.525641025641025e-05], \"xaxis\": \"x\", \"y\": [0.6524298620606664], \"yaxis\": \"y\", \"type\": \"scatter\"}, {\"hoverlabel\": {\"namelength\": 0}, \"hovertemplate\": \"<b>%{hovertext}</b><br><br>city=%{text}<br>date=01-29<br>p=%{x}<br>beta=%{y}<br>size=%{marker.size}\", \"hovertext\": [44.0], \"legendgroup\": \"\\u5929\\u95e8\", \"marker\": {\"color\": \"#FF97FF\", \"size\": [44.0], \"sizemode\": \"area\", \"sizeref\": 2.7606611570247934, \"symbol\": \"circle\"}, \"mode\": \"markers+text\", \"name\": \"\\u5929\\u95e8\", \"showlegend\": true, \"text\": [\"\\u5929\\u95e8\"], \"x\": [3.464566929133858e-05], \"xaxis\": \"x\", \"y\": [0.5648430120339906], \"yaxis\": \"y\", \"type\": \"scatter\"}, {\"hoverlabel\": {\"namelength\": 0}, \"hovertemplate\": \"<b>%{hovertext}</b><br><br>city=%{text}<br>date=01-29<br>p=%{x}<br>beta=%{y}<br>size=%{marker.size}\", \"hovertext\": [143.0], \"legendgroup\": \"\\u968f\\u5dde\", \"marker\": {\"color\": \"#FECB52\", \"size\": [143.0], \"sizemode\": \"area\", \"sizeref\": 2.7606611570247934, \"symbol\": \"circle\"}, \"mode\": \"markers+text\", \"name\": \"\\u968f\\u5dde\", \"showlegend\": true, \"text\": [\"\\u968f\\u5dde\"], \"x\": [6.527295964944313e-05], \"xaxis\": \"x\", \"y\": [0.4912289633815095], \"yaxis\": \"y\", \"type\": \"scatter\"}, {\"hoverlabel\": {\"namelength\": 0}, \"hovertemplate\": \"<b>%{hovertext}</b><br><br>city=%{text}<br>date=01-29<br>p=%{x}<br>beta=%{y}<br>size=%{marker.size}\", \"hovertext\": [130.0], \"legendgroup\": \"\\u54b8\\u5b81\", \"marker\": {\"color\": \"#636efa\", \"size\": [130.0], \"sizemode\": \"area\", \"sizeref\": 2.7606611570247934, \"symbol\": \"circle\"}, \"mode\": \"markers+text\", \"name\": \"\\u54b8\\u5b81\", \"showlegend\": true, \"text\": [\"\\u54b8\\u5b81\"], \"x\": [5.185480654168329e-05], \"xaxis\": \"x\", \"y\": [0.3922454017309913], \"yaxis\": \"y\", \"type\": \"scatter\"}, {\"hoverlabel\": {\"namelength\": 0}, \"hovertemplate\": \"<b>%{hovertext}</b><br><br>city=%{text}<br>date=01-29<br>p=%{x}<br>beta=%{y}<br>size=%{marker.size}\", \"hovertext\": [119.0], \"legendgroup\": \"\\u5341\\u5830\", \"marker\": {\"color\": \"#EF553B\", \"size\": [119.0], \"sizemode\": \"area\", \"sizeref\": 2.7606611570247934, \"symbol\": \"circle\"}, \"mode\": \"markers+text\", \"name\": \"\\u5341\\u5830\", \"showlegend\": true, \"text\": [\"\\u5341\\u5830\"], \"x\": [3.517587939698493e-05], \"xaxis\": \"x\", \"y\": [0.5143411248372116], \"yaxis\": \"y\", \"type\": \"scatter\"}, {\"hoverlabel\": {\"namelength\": 0}, \"hovertemplate\": \"<b>%{hovertext}</b><br><br>city=%{text}<br>date=01-29<br>p=%{x}<br>beta=%{y}<br>size=%{marker.size}\", \"hovertext\": [117.0], \"legendgroup\": \"\\u5b9c\\u660c\", \"marker\": {\"color\": \"#00cc96\", \"size\": [117.0], \"sizemode\": \"area\", \"sizeref\": 2.7606611570247934, \"symbol\": \"circle\"}, \"mode\": \"markers+text\", \"name\": \"\\u5b9c\\u660c\", \"showlegend\": true, \"text\": [\"\\u5b9c\\u660c\"], \"x\": [2.8432563791008502e-05], \"xaxis\": \"x\", \"y\": [0.5738712856417479], \"yaxis\": \"y\", \"type\": \"scatter\"}, {\"hoverlabel\": {\"namelength\": 0}, \"hovertemplate\": \"<b>%{hovertext}</b><br><br>city=%{text}<br>date=01-29<br>p=%{x}<br>beta=%{y}<br>size=%{marker.size}\", \"hovertext\": [66.0], \"legendgroup\": \"\\u6069\\u65bd\", \"marker\": {\"color\": \"#ab63fa\", \"size\": [66.0], \"sizemode\": \"area\", \"sizeref\": 2.7606611570247934, \"symbol\": \"circle\"}, \"mode\": \"markers+text\", \"name\": \"\\u6069\\u65bd\", \"showlegend\": true, \"text\": [\"\\u6069\\u65bd\"], \"x\": [1.9837691614066727e-05], \"xaxis\": \"x\", \"y\": [0.4749462666185973], \"yaxis\": \"y\", \"type\": \"scatter\"}, {\"hoverlabel\": {\"namelength\": 0}, \"hovertemplate\": \"<b>%{hovertext}</b><br><br>city=%{text}<br>date=01-29<br>p=%{x}<br>beta=%{y}<br>size=%{marker.size}\", \"hovertext\": [123.0], \"legendgroup\": \"\\u9102\\u5dde\", \"marker\": {\"color\": \"#FFA15A\", \"size\": [123.0], \"sizemode\": \"area\", \"sizeref\": 2.7606611570247934, \"symbol\": \"circle\"}, \"mode\": \"markers+text\", \"name\": \"\\u9102\\u5dde\", \"showlegend\": true, \"text\": [\"\\u9102\\u5dde\"], \"x\": [0.00011609249646059463], \"xaxis\": \"x\", \"y\": [0.7668536300144232], \"yaxis\": \"y\", \"type\": \"scatter\"}, {\"hoverlabel\": {\"namelength\": 0}, \"hovertemplate\": \"<b>%{hovertext}</b><br><br>city=%{text}<br>date=01-29<br>p=%{x}<br>beta=%{y}<br>size=%{marker.size}\", \"hovertext\": [86.0], \"legendgroup\": \"\\u6df1\\u5733\", \"marker\": {\"color\": \"#19d3f3\", \"size\": [86.0], \"sizemode\": \"area\", \"sizeref\": 2.7606611570247934, \"symbol\": \"circle\"}, \"mode\": \"markers+text\", \"name\": \"\\u6df1\\u5733\", \"showlegend\": true, \"text\": [\"\\u6df1\\u5733\"], \"x\": [7.5600407890572815e-06], \"xaxis\": \"x\", \"y\": [0.4316172659320039], \"yaxis\": \"y\", \"type\": \"scatter\"}, {\"hoverlabel\": {\"namelength\": 0}, \"hovertemplate\": \"<b>%{hovertext}</b><br><br>city=%{text}<br>date=01-29<br>p=%{x}<br>beta=%{y}<br>size=%{marker.size}\", \"hovertext\": [79.0], \"legendgroup\": \"\\u5e7f\\u5dde\", \"marker\": {\"color\": \"#FF6692\", \"size\": [79.0], \"sizemode\": \"area\", \"sizeref\": 2.7606611570247934, \"symbol\": \"circle\"}, \"mode\": \"markers+text\", \"name\": \"\\u5e7f\\u5dde\", \"showlegend\": true, \"text\": [\"\\u5e7f\\u5dde\"], \"x\": [5.852892366050261e-06], \"xaxis\": \"x\", \"y\": [0.3801915545784783], \"yaxis\": \"y\", \"type\": \"scatter\"}, {\"hoverlabel\": {\"namelength\": 0}, \"hovertemplate\": \"<b>%{hovertext}</b><br><br>city=%{text}<br>date=01-29<br>p=%{x}<br>beta=%{y}<br>size=%{marker.size}\", \"hovertext\": [18.0], \"legendgroup\": \"\\u73e0\\u6d77\", \"marker\": {\"color\": \"#B6E880\", \"size\": [18.0], \"sizemode\": \"area\", \"sizeref\": 2.7606611570247934, \"symbol\": \"circle\"}, \"mode\": \"markers+text\", \"name\": \"\\u73e0\\u6d77\", \"showlegend\": true, \"text\": [\"\\u73e0\\u6d77\"], \"x\": [1.1018609206660136e-05], \"xaxis\": \"x\", \"y\": [0.2580465567059605], \"yaxis\": \"y\", \"type\": \"scatter\"}, {\"hoverlabel\": {\"namelength\": 0}, \"hovertemplate\": \"<b>%{hovertext}</b><br><br>city=%{text}<br>date=01-29<br>p=%{x}<br>beta=%{y}<br>size=%{marker.size}\", \"hovertext\": [11.0], \"legendgroup\": \"\\u65b0\\u4f59\", \"marker\": {\"color\": \"#FF97FF\", \"size\": [11.0], \"sizemode\": \"area\", \"sizeref\": 2.7606611570247934, \"symbol\": \"circle\"}, \"mode\": \"markers+text\", \"name\": \"\\u65b0\\u4f59\", \"showlegend\": true, \"text\": [\"\\u65b0\\u4f59\"], \"x\": [9.4283020485129e-06], \"xaxis\": \"x\", \"y\": [0.6097499341524772], \"yaxis\": \"y\", \"type\": \"scatter\"}, {\"hoverlabel\": {\"namelength\": 0}, \"hovertemplate\": \"<b>%{hovertext}</b><br><br>city=%{text}<br>date=01-29<br>p=%{x}<br>beta=%{y}<br>size=%{marker.size}\", \"hovertext\": [172.0], \"legendgroup\": \"\\u6e29\\u5dde\", \"marker\": {\"color\": \"#FECB52\", \"size\": [172.0], \"sizemode\": \"area\", \"sizeref\": 2.7606611570247934, \"symbol\": \"circle\"}, \"mode\": \"markers+text\", \"name\": \"\\u6e29\\u5dde\", \"showlegend\": true, \"text\": [\"\\u6e29\\u5dde\"], \"x\": [1.8865854996161015e-05], \"xaxis\": \"x\", \"y\": [0.7139860649091989], \"yaxis\": \"y\", \"type\": \"scatter\"}, {\"hoverlabel\": {\"namelength\": 0}, \"hovertemplate\": \"<b>%{hovertext}</b><br><br>city=%{text}<br>date=01-29<br>p=%{x}<br>beta=%{y}<br>size=%{marker.size}\", \"hovertext\": [111.0], \"legendgroup\": \"\\u5317\\u4eac\", \"marker\": {\"color\": \"#636efa\", \"size\": [111.0], \"sizemode\": \"area\", \"sizeref\": 2.7606611570247934, \"symbol\": \"circle\"}, \"mode\": \"markers+text\", \"name\": \"\\u5317\\u4eac\", \"showlegend\": true, \"text\": [\"\\u5317\\u4eac\"], \"x\": [5.114029025570145e-06], \"xaxis\": \"x\", \"y\": [0.3155193569918639], \"yaxis\": \"y\", \"type\": \"scatter\"}, {\"hoverlabel\": {\"namelength\": 0}, \"hovertemplate\": \"<b>%{hovertext}</b><br><br>city=%{text}<br>date=01-29<br>p=%{x}<br>beta=%{y}<br>size=%{marker.size}\", \"hovertext\": [101.0], \"legendgroup\": \"\\u4e0a\\u6d77\", \"marker\": {\"color\": \"#EF553B\", \"size\": [101.0], \"sizemode\": \"area\", \"sizeref\": 2.7606611570247934, \"symbol\": \"circle\"}, \"mode\": \"markers+text\", \"name\": \"\\u4e0a\\u6d77\", \"showlegend\": true, \"text\": [\"\\u4e0a\\u6d77\"], \"x\": [4.181727094693347e-06], \"xaxis\": \"x\", \"y\": [0.3560046329530289], \"yaxis\": \"y\", \"type\": \"scatter\"}], \"name\": \"01-29\"}, {\"data\": [{\"hoverlabel\": {\"namelength\": 0}, \"hovertemplate\": \"<b>%{hovertext}</b><br><br>city=%{text}<br>date=01-30<br>p=%{x}<br>beta=%{y}<br>size=%{marker.size}\", \"hovertext\": [2639.0], \"legendgroup\": \"\\u6b66\\u6c49\", \"marker\": {\"color\": \"#636efa\", \"size\": [2639.0], \"sizemode\": \"area\", \"sizeref\": 2.7606611570247934, \"symbol\": \"circle\"}, \"mode\": \"markers+text\", \"name\": \"\\u6b66\\u6c49\", \"showlegend\": true, \"text\": [\"\\u6b66\\u6c49\"], \"x\": [0.0002487815454811128], \"xaxis\": \"x\", \"y\": [0.3139601606675774], \"yaxis\": \"y\", \"type\": \"scatter\"}, {\"hoverlabel\": {\"namelength\": 0}, \"hovertemplate\": \"<b>%{hovertext}</b><br><br>city=%{text}<br>date=01-30<br>p=%{x}<br>beta=%{y}<br>size=%{marker.size}\", \"hovertext\": [573.0], \"legendgroup\": \"\\u9ec4\\u5188\", \"marker\": {\"color\": \"#EF553B\", \"size\": [573.0], \"sizemode\": \"area\", \"sizeref\": 2.7606611570247934, \"symbol\": \"circle\"}, \"mode\": \"markers+text\", \"name\": \"\\u9ec4\\u5188\", \"showlegend\": true, \"text\": [\"\\u9ec4\\u5188\"], \"x\": [9.10824988078207e-05], \"xaxis\": \"x\", \"y\": [0.4926446707960722], \"yaxis\": \"y\", \"type\": \"scatter\"}, {\"hoverlabel\": {\"namelength\": 0}, \"hovertemplate\": \"<b>%{hovertext}</b><br><br>city=%{text}<br>date=01-30<br>p=%{x}<br>beta=%{y}<br>size=%{marker.size}\", \"hovertext\": [541.0], \"legendgroup\": \"\\u5b5d\\u611f\", \"marker\": {\"color\": \"#00cc96\", \"size\": [541.0], \"sizemode\": \"area\", \"sizeref\": 2.7606611570247934, \"symbol\": \"circle\"}, \"mode\": \"markers+text\", \"name\": \"\\u5b5d\\u611f\", \"showlegend\": true, \"text\": [\"\\u5b5d\\u611f\"], \"x\": [0.0001109061090610906], \"xaxis\": \"x\", \"y\": [0.531041580921695], \"yaxis\": \"y\", \"type\": \"scatter\"}, {\"hoverlabel\": {\"namelength\": 0}, \"hovertemplate\": \"<b>%{hovertext}</b><br><br>city=%{text}<br>date=01-30<br>p=%{x}<br>beta=%{y}<br>size=%{marker.size}\", \"hovertext\": [286.0], \"legendgroup\": \"\\u8944\\u9633\", \"marker\": {\"color\": \"#ab63fa\", \"size\": [286.0], \"sizemode\": \"area\", \"sizeref\": 2.7606611570247934, \"symbol\": \"circle\"}, \"mode\": \"markers+text\", \"name\": \"\\u8944\\u9633\", \"showlegend\": true, \"text\": [\"\\u8944\\u9633\"], \"x\": [5.0944068400427506e-05], \"xaxis\": \"x\", \"y\": [0.6079619620870259], \"yaxis\": \"y\", \"type\": \"scatter\"}, {\"hoverlabel\": {\"namelength\": 0}, \"hovertemplate\": \"<b>%{hovertext}</b><br><br>city=%{text}<br>date=01-30<br>p=%{x}<br>beta=%{y}<br>size=%{marker.size}\", \"hovertext\": [221.0], \"legendgroup\": \"\\u8346\\u5dde\", \"marker\": {\"color\": \"#FFA15A\", \"size\": [221.0], \"sizemode\": \"area\", \"sizeref\": 2.7606611570247934, \"symbol\": \"circle\"}, \"mode\": \"markers+text\", \"name\": \"\\u8346\\u5dde\", \"showlegend\": true, \"text\": [\"\\u8346\\u5dde\"], \"x\": [3.8731838973693895e-05], \"xaxis\": \"x\", \"y\": [0.5206518278587402], \"yaxis\": \"y\", \"type\": \"scatter\"}, {\"hoverlabel\": {\"namelength\": 0}, \"hovertemplate\": \"<b>%{hovertext}</b><br><br>city=%{text}<br>date=01-30<br>p=%{x}<br>beta=%{y}<br>size=%{marker.size}\", \"hovertext\": [227.0], \"legendgroup\": \"\\u8346\\u95e8\", \"marker\": {\"color\": \"#19d3f3\", \"size\": [227.0], \"sizemode\": \"area\", \"sizeref\": 2.7606611570247934, \"symbol\": \"circle\"}, \"mode\": \"markers+text\", \"name\": \"\\u8346\\u95e8\", \"showlegend\": true, \"text\": [\"\\u8346\\u95e8\"], \"x\": [7.837585885440045e-05], \"xaxis\": \"x\", \"y\": [0.3782698704165233], \"yaxis\": \"y\", \"type\": \"scatter\"}, {\"hoverlabel\": {\"namelength\": 0}, \"hovertemplate\": \"<b>%{hovertext}</b><br><br>city=%{text}<br>date=01-30<br>p=%{x}<br>beta=%{y}<br>size=%{marker.size}\", \"hovertext\": [168.0], \"legendgroup\": \"\\u9ec4\\u77f3\", \"marker\": {\"color\": \"#FF6692\", \"size\": [168.0], \"sizemode\": \"area\", \"sizeref\": 2.7606611570247934, \"symbol\": \"circle\"}, \"mode\": \"markers+text\", \"name\": \"\\u9ec4\\u77f3\", \"showlegend\": true, \"text\": [\"\\u9ec4\\u77f3\"], \"x\": [6.834825061025224e-05], \"xaxis\": \"x\", \"y\": [0.5284636505822933], \"yaxis\": \"y\", \"type\": \"scatter\"}, {\"hoverlabel\": {\"namelength\": 0}, \"hovertemplate\": \"<b>%{hovertext}</b><br><br>city=%{text}<br>date=01-30<br>p=%{x}<br>beta=%{y}<br>size=%{marker.size}\", \"hovertext\": [90.0], \"legendgroup\": \"\\u4ed9\\u6843\", \"marker\": {\"color\": \"#B6E880\", \"size\": [90.0], \"sizemode\": \"area\", \"sizeref\": 2.7606611570247934, \"symbol\": \"circle\"}, \"mode\": \"markers+text\", \"name\": \"\\u4ed9\\u6843\", \"showlegend\": true, \"text\": [\"\\u4ed9\\u6843\"], \"x\": [5.769230769230769e-05], \"xaxis\": \"x\", \"y\": [0.5330095386551996], \"yaxis\": \"y\", \"type\": \"scatter\"}, {\"hoverlabel\": {\"namelength\": 0}, \"hovertemplate\": \"<b>%{hovertext}</b><br><br>city=%{text}<br>date=01-30<br>p=%{x}<br>beta=%{y}<br>size=%{marker.size}\", \"hovertext\": [67.0], \"legendgroup\": \"\\u5929\\u95e8\", \"marker\": {\"color\": \"#FF97FF\", \"size\": [67.0], \"sizemode\": \"area\", \"sizeref\": 2.7606611570247934, \"symbol\": \"circle\"}, \"mode\": \"markers+text\", \"name\": \"\\u5929\\u95e8\", \"showlegend\": true, \"text\": [\"\\u5929\\u95e8\"], \"x\": [5.275590551181103e-05], \"xaxis\": \"x\", \"y\": [0.494546787782462], \"yaxis\": \"y\", \"type\": \"scatter\"}, {\"hoverlabel\": {\"namelength\": 0}, \"hovertemplate\": \"<b>%{hovertext}</b><br><br>city=%{text}<br>date=01-30<br>p=%{x}<br>beta=%{y}<br>size=%{marker.size}\", \"hovertext\": [228.0], \"legendgroup\": \"\\u968f\\u5dde\", \"marker\": {\"color\": \"#FECB52\", \"size\": [228.0], \"sizemode\": \"area\", \"sizeref\": 2.7606611570247934, \"symbol\": \"circle\"}, \"mode\": \"markers+text\", \"name\": \"\\u968f\\u5dde\", \"showlegend\": true, \"text\": [\"\\u968f\\u5dde\"], \"x\": [0.00010407157202848274], \"xaxis\": \"x\", \"y\": [0.5329027473011722], \"yaxis\": \"y\", \"type\": \"scatter\"}, {\"hoverlabel\": {\"namelength\": 0}, \"hovertemplate\": \"<b>%{hovertext}</b><br><br>city=%{text}<br>date=01-30<br>p=%{x}<br>beta=%{y}<br>size=%{marker.size}\", \"hovertext\": [166.0], \"legendgroup\": \"\\u54b8\\u5b81\", \"marker\": {\"color\": \"#636efa\", \"size\": [166.0], \"sizemode\": \"area\", \"sizeref\": 2.7606611570247934, \"symbol\": \"circle\"}, \"mode\": \"markers+text\", \"name\": \"\\u54b8\\u5b81\", \"showlegend\": true, \"text\": [\"\\u54b8\\u5b81\"], \"x\": [6.621459912245712e-05], \"xaxis\": \"x\", \"y\": [0.33871807819024125], \"yaxis\": \"y\", \"type\": \"scatter\"}, {\"hoverlabel\": {\"namelength\": 0}, \"hovertemplate\": \"<b>%{hovertext}</b><br><br>city=%{text}<br>date=01-30<br>p=%{x}<br>beta=%{y}<br>size=%{marker.size}\", \"hovertext\": [150.0], \"legendgroup\": \"\\u5341\\u5830\", \"marker\": {\"color\": \"#EF553B\", \"size\": [150.0], \"sizemode\": \"area\", \"sizeref\": 2.7606611570247934, \"symbol\": \"circle\"}, \"mode\": \"markers+text\", \"name\": \"\\u5341\\u5830\", \"showlegend\": true, \"text\": [\"\\u5341\\u5830\"], \"x\": [4.433934377771209e-05], \"xaxis\": \"x\", \"y\": [0.4270149198680001], \"yaxis\": \"y\", \"type\": \"scatter\"}, {\"hoverlabel\": {\"namelength\": 0}, \"hovertemplate\": \"<b>%{hovertext}</b><br><br>city=%{text}<br>date=01-30<br>p=%{x}<br>beta=%{y}<br>size=%{marker.size}\", \"hovertext\": [167.0], \"legendgroup\": \"\\u5b9c\\u660c\", \"marker\": {\"color\": \"#00cc96\", \"size\": [167.0], \"sizemode\": \"area\", \"sizeref\": 2.7606611570247934, \"symbol\": \"circle\"}, \"mode\": \"markers+text\", \"name\": \"\\u5b9c\\u660c\", \"showlegend\": true, \"text\": [\"\\u5b9c\\u660c\"], \"x\": [4.058323207776427e-05], \"xaxis\": \"x\", \"y\": [0.5384457488935063], \"yaxis\": \"y\", \"type\": \"scatter\"}, {\"hoverlabel\": {\"namelength\": 0}, \"hovertemplate\": \"<b>%{hovertext}</b><br><br>city=%{text}<br>date=01-30<br>p=%{x}<br>beta=%{y}<br>size=%{marker.size}\", \"hovertext\": [75.0], \"legendgroup\": \"\\u6069\\u65bd\", \"marker\": {\"color\": \"#ab63fa\", \"size\": [75.0], \"sizemode\": \"area\", \"sizeref\": 2.7606611570247934, \"symbol\": \"circle\"}, \"mode\": \"markers+text\", \"name\": \"\\u6069\\u65bd\", \"showlegend\": true, \"text\": [\"\\u6069\\u65bd\"], \"x\": [2.254283137962128e-05], \"xaxis\": \"x\", \"y\": [0.3825233656261728], \"yaxis\": \"y\", \"type\": \"scatter\"}, {\"hoverlabel\": {\"namelength\": 0}, \"hovertemplate\": \"<b>%{hovertext}</b><br><br>city=%{text}<br>date=01-30<br>p=%{x}<br>beta=%{y}<br>size=%{marker.size}\", \"hovertext\": [189.0], \"legendgroup\": \"\\u9102\\u5dde\", \"marker\": {\"color\": \"#FFA15A\", \"size\": [189.0], \"sizemode\": \"area\", \"sizeref\": 2.7606611570247934, \"symbol\": \"circle\"}, \"mode\": \"markers+text\", \"name\": \"\\u9102\\u5dde\", \"showlegend\": true, \"text\": [\"\\u9102\\u5dde\"], \"x\": [0.00017838603114676734], \"xaxis\": \"x\", \"y\": [0.5398367876400425], \"yaxis\": \"y\", \"type\": \"scatter\"}, {\"hoverlabel\": {\"namelength\": 0}, \"hovertemplate\": \"<b>%{hovertext}</b><br><br>city=%{text}<br>date=01-30<br>p=%{x}<br>beta=%{y}<br>size=%{marker.size}\", \"hovertext\": [110.0], \"legendgroup\": \"\\u6df1\\u5733\", \"marker\": {\"color\": \"#19d3f3\", \"size\": [110.0], \"sizemode\": \"area\", \"sizeref\": 2.7606611570247934, \"symbol\": \"circle\"}, \"mode\": \"markers+text\", \"name\": \"\\u6df1\\u5733\", \"showlegend\": true, \"text\": [\"\\u6df1\\u5733\"], \"x\": [9.669819613910477e-06], \"xaxis\": \"x\", \"y\": [0.4142489316118291], \"yaxis\": \"y\", \"type\": \"scatter\"}, {\"hoverlabel\": {\"namelength\": 0}, \"hovertemplate\": \"<b>%{hovertext}</b><br><br>city=%{text}<br>date=01-30<br>p=%{x}<br>beta=%{y}<br>size=%{marker.size}\", \"hovertext\": [106.0], \"legendgroup\": \"\\u5e7f\\u5dde\", \"marker\": {\"color\": \"#FF6692\", \"size\": [106.0], \"sizemode\": \"area\", \"sizeref\": 2.7606611570247934, \"symbol\": \"circle\"}, \"mode\": \"markers+text\", \"name\": \"\\u5e7f\\u5dde\", \"showlegend\": true, \"text\": [\"\\u5e7f\\u5dde\"], \"x\": [7.853247984826932e-06], \"xaxis\": \"x\", \"y\": [0.3805511058190063], \"yaxis\": \"y\", \"type\": \"scatter\"}, {\"hoverlabel\": {\"namelength\": 0}, \"hovertemplate\": \"<b>%{hovertext}</b><br><br>city=%{text}<br>date=01-30<br>p=%{x}<br>beta=%{y}<br>size=%{marker.size}\", \"hovertext\": [26.0], \"legendgroup\": \"\\u73e0\\u6d77\", \"marker\": {\"color\": \"#B6E880\", \"size\": [26.0], \"sizemode\": \"area\", \"sizeref\": 2.7606611570247934, \"symbol\": \"circle\"}, \"mode\": \"markers+text\", \"name\": \"\\u73e0\\u6d77\", \"showlegend\": true, \"text\": [\"\\u73e0\\u6d77\"], \"x\": [1.5915768854064642e-05], \"xaxis\": \"x\", \"y\": [0.3865626400922815], \"yaxis\": \"y\", \"type\": \"scatter\"}, {\"hoverlabel\": {\"namelength\": 0}, \"hovertemplate\": \"<b>%{hovertext}</b><br><br>city=%{text}<br>date=01-30<br>p=%{x}<br>beta=%{y}<br>size=%{marker.size}\", \"hovertext\": [28.0], \"legendgroup\": \"\\u65b0\\u4f59\", \"marker\": {\"color\": \"#FF97FF\", \"size\": [28.0], \"sizemode\": \"area\", \"sizeref\": 2.7606611570247934, \"symbol\": \"circle\"}, \"mode\": \"markers+text\", \"name\": \"\\u65b0\\u4f59\", \"showlegend\": true, \"text\": [\"\\u65b0\\u4f59\"], \"x\": [2.3999314305305566e-05], \"xaxis\": \"x\", \"y\": [0.8833295223648703], \"yaxis\": \"y\", \"type\": \"scatter\"}, {\"hoverlabel\": {\"namelength\": 0}, \"hovertemplate\": \"<b>%{hovertext}</b><br><br>city=%{text}<br>date=01-30<br>p=%{x}<br>beta=%{y}<br>size=%{marker.size}\", \"hovertext\": [227.0], \"legendgroup\": \"\\u6e29\\u5dde\", \"marker\": {\"color\": \"#FECB52\", \"size\": [227.0], \"sizemode\": \"area\", \"sizeref\": 2.7606611570247934, \"symbol\": \"circle\"}, \"mode\": \"markers+text\", \"name\": \"\\u6e29\\u5dde\", \"showlegend\": true, \"text\": [\"\\u6e29\\u5dde\"], \"x\": [2.48985411867939e-05], \"xaxis\": \"x\", \"y\": [0.6029224552129091], \"yaxis\": \"y\", \"type\": \"scatter\"}, {\"hoverlabel\": {\"namelength\": 0}, \"hovertemplate\": \"<b>%{hovertext}</b><br><br>city=%{text}<br>date=01-30<br>p=%{x}<br>beta=%{y}<br>size=%{marker.size}\", \"hovertext\": [121.0], \"legendgroup\": \"\\u5317\\u4eac\", \"marker\": {\"color\": \"#636efa\", \"size\": [121.0], \"sizemode\": \"area\", \"sizeref\": 2.7606611570247934, \"symbol\": \"circle\"}, \"mode\": \"markers+text\", \"name\": \"\\u5317\\u4eac\", \"showlegend\": true, \"text\": [\"\\u5317\\u4eac\"], \"x\": [5.574752361207095e-06], \"xaxis\": \"x\", \"y\": [0.2919107525514832], \"yaxis\": \"y\", \"type\": \"scatter\"}, {\"hoverlabel\": {\"namelength\": 0}, \"hovertemplate\": \"<b>%{hovertext}</b><br><br>city=%{text}<br>date=01-30<br>p=%{x}<br>beta=%{y}<br>size=%{marker.size}\", \"hovertext\": [128.0], \"legendgroup\": \"\\u4e0a\\u6d77\", \"marker\": {\"color\": \"#EF553B\", \"size\": [128.0], \"sizemode\": \"area\", \"sizeref\": 2.7606611570247934, \"symbol\": \"circle\"}, \"mode\": \"markers+text\", \"name\": \"\\u4e0a\\u6d77\", \"showlegend\": true, \"text\": [\"\\u4e0a\\u6d77\"], \"x\": [5.299614535848994e-06], \"xaxis\": \"x\", \"y\": [0.3609506950460794], \"yaxis\": \"y\", \"type\": \"scatter\"}], \"name\": \"01-30\"}, {\"data\": [{\"hoverlabel\": {\"namelength\": 0}, \"hovertemplate\": \"<b>%{hovertext}</b><br><br>city=%{text}<br>date=01-31<br>p=%{x}<br>beta=%{y}<br>size=%{marker.size}\", \"hovertext\": [3215.0], \"legendgroup\": \"\\u6b66\\u6c49\", \"marker\": {\"color\": \"#636efa\", \"size\": [3215.0], \"sizemode\": \"area\", \"sizeref\": 2.7606611570247934, \"symbol\": \"circle\"}, \"mode\": \"markers+text\", \"name\": \"\\u6b66\\u6c49\", \"showlegend\": true, \"text\": [\"\\u6b66\\u6c49\"], \"x\": [0.00030308172365357236], \"xaxis\": \"x\", \"y\": [0.3146481913714063], \"yaxis\": \"y\", \"type\": \"scatter\"}, {\"hoverlabel\": {\"namelength\": 0}, \"hovertemplate\": \"<b>%{hovertext}</b><br><br>city=%{text}<br>date=01-31<br>p=%{x}<br>beta=%{y}<br>size=%{marker.size}\", \"hovertext\": [726.0], \"legendgroup\": \"\\u9ec4\\u5188\", \"marker\": {\"color\": \"#EF553B\", \"size\": [726.0], \"sizemode\": \"area\", \"sizeref\": 2.7606611570247934, \"symbol\": \"circle\"}, \"mode\": \"markers+text\", \"name\": \"\\u9ec4\\u5188\", \"showlegend\": true, \"text\": [\"\\u9ec4\\u5188\"], \"x\": [0.00011540295660467334], \"xaxis\": \"x\", \"y\": [0.4198948792489695], \"yaxis\": \"y\", \"type\": \"scatter\"}, {\"hoverlabel\": {\"namelength\": 0}, \"hovertemplate\": \"<b>%{hovertext}</b><br><br>city=%{text}<br>date=01-31<br>p=%{x}<br>beta=%{y}<br>size=%{marker.size}\", \"hovertext\": [628.0], \"legendgroup\": \"\\u5b5d\\u611f\", \"marker\": {\"color\": \"#00cc96\", \"size\": [628.0], \"sizemode\": \"area\", \"sizeref\": 2.7606611570247934, \"symbol\": \"circle\"}, \"mode\": \"markers+text\", \"name\": \"\\u5b5d\\u611f\", \"showlegend\": true, \"text\": [\"\\u5b5d\\u611f\"], \"x\": [0.00012874128741287413], \"xaxis\": \"x\", \"y\": [0.4351909668744609], \"yaxis\": \"y\", \"type\": \"scatter\"}, {\"hoverlabel\": {\"namelength\": 0}, \"hovertemplate\": \"<b>%{hovertext}</b><br><br>city=%{text}<br>date=01-31<br>p=%{x}<br>beta=%{y}<br>size=%{marker.size}\", \"hovertext\": [347.0], \"legendgroup\": \"\\u8944\\u9633\", \"marker\": {\"color\": \"#ab63fa\", \"size\": [347.0], \"sizemode\": \"area\", \"sizeref\": 2.7606611570247934, \"symbol\": \"circle\"}, \"mode\": \"markers+text\", \"name\": \"\\u8944\\u9633\", \"showlegend\": true, \"text\": [\"\\u8944\\u9633\"], \"x\": [6.180976131100819e-05], \"xaxis\": \"x\", \"y\": [0.4778722472002458], \"yaxis\": \"y\", \"type\": \"scatter\"}, {\"hoverlabel\": {\"namelength\": 0}, \"hovertemplate\": \"<b>%{hovertext}</b><br><br>city=%{text}<br>date=01-31<br>p=%{x}<br>beta=%{y}<br>size=%{marker.size}\", \"hovertext\": [287.0], \"legendgroup\": \"\\u8346\\u5dde\", \"marker\": {\"color\": \"#FFA15A\", \"size\": [287.0], \"sizemode\": \"area\", \"sizeref\": 2.7606611570247934, \"symbol\": \"circle\"}, \"mode\": \"markers+text\", \"name\": \"\\u8346\\u5dde\", \"showlegend\": true, \"text\": [\"\\u8346\\u5dde\"], \"x\": [5.02988135088242e-05], \"xaxis\": \"x\", \"y\": [0.5000722240230098], \"yaxis\": \"y\", \"type\": \"scatter\"}, {\"hoverlabel\": {\"namelength\": 0}, \"hovertemplate\": \"<b>%{hovertext}</b><br><br>city=%{text}<br>date=01-31<br>p=%{x}<br>beta=%{y}<br>size=%{marker.size}\", \"hovertext\": [251.0], \"legendgroup\": \"\\u8346\\u95e8\", \"marker\": {\"color\": \"#19d3f3\", \"size\": [251.0], \"sizemode\": \"area\", \"sizeref\": 2.7606611570247934, \"symbol\": \"circle\"}, \"mode\": \"markers+text\", \"name\": \"\\u8346\\u95e8\", \"showlegend\": true, \"text\": [\"\\u8346\\u95e8\"], \"x\": [8.666229327072471e-05], \"xaxis\": \"x\", \"y\": [0.3470628386720568], \"yaxis\": \"y\", \"type\": \"scatter\"}, {\"hoverlabel\": {\"namelength\": 0}, \"hovertemplate\": \"<b>%{hovertext}</b><br><br>city=%{text}<br>date=01-31<br>p=%{x}<br>beta=%{y}<br>size=%{marker.size}\", \"hovertext\": [209.0], \"legendgroup\": \"\\u9ec4\\u77f3\", \"marker\": {\"color\": \"#FF6692\", \"size\": [209.0], \"sizemode\": \"area\", \"sizeref\": 2.7606611570247934, \"symbol\": \"circle\"}, \"mode\": \"markers+text\", \"name\": \"\\u9ec4\\u77f3\", \"showlegend\": true, \"text\": [\"\\u9ec4\\u77f3\"], \"x\": [8.502847843775427e-05], \"xaxis\": \"x\", \"y\": [0.44592942386987067], \"yaxis\": \"y\", \"type\": \"scatter\"}, {\"hoverlabel\": {\"namelength\": 0}, \"hovertemplate\": \"<b>%{hovertext}</b><br><br>city=%{text}<br>date=01-31<br>p=%{x}<br>beta=%{y}<br>size=%{marker.size}\", \"hovertext\": [97.0], \"legendgroup\": \"\\u4ed9\\u6843\", \"marker\": {\"color\": \"#B6E880\", \"size\": [97.0], \"sizemode\": \"area\", \"sizeref\": 2.7606611570247934, \"symbol\": \"circle\"}, \"mode\": \"markers+text\", \"name\": \"\\u4ed9\\u6843\", \"showlegend\": true, \"text\": [\"\\u4ed9\\u6843\"], \"x\": [6.217948717948718e-05], \"xaxis\": \"x\", \"y\": [0.5434756535926427], \"yaxis\": \"y\", \"type\": \"scatter\"}, {\"hoverlabel\": {\"namelength\": 0}, \"hovertemplate\": \"<b>%{hovertext}</b><br><br>city=%{text}<br>date=01-31<br>p=%{x}<br>beta=%{y}<br>size=%{marker.size}\", \"hovertext\": [82.0], \"legendgroup\": \"\\u5929\\u95e8\", \"marker\": {\"color\": \"#FF97FF\", \"size\": [82.0], \"sizemode\": \"area\", \"sizeref\": 2.7606611570247934, \"symbol\": \"circle\"}, \"mode\": \"markers+text\", \"name\": \"\\u5929\\u95e8\", \"showlegend\": true, \"text\": [\"\\u5929\\u95e8\"], \"x\": [6.456692913385826e-05], \"xaxis\": \"x\", \"y\": [0.4444894215438053], \"yaxis\": \"y\", \"type\": \"scatter\"}, {\"hoverlabel\": {\"namelength\": 0}, \"hovertemplate\": \"<b>%{hovertext}</b><br><br>city=%{text}<br>date=01-31<br>p=%{x}<br>beta=%{y}<br>size=%{marker.size}\", \"hovertext\": [304.0], \"legendgroup\": \"\\u968f\\u5dde\", \"marker\": {\"color\": \"#FECB52\", \"size\": [304.0], \"sizemode\": \"area\", \"sizeref\": 2.7606611570247934, \"symbol\": \"circle\"}, \"mode\": \"markers+text\", \"name\": \"\\u968f\\u5dde\", \"showlegend\": true, \"text\": [\"\\u968f\\u5dde\"], \"x\": [0.000138762096037977], \"xaxis\": \"x\", \"y\": [0.4646221007132966], \"yaxis\": \"y\", \"type\": \"scatter\"}, {\"hoverlabel\": {\"namelength\": 0}, \"hovertemplate\": \"<b>%{hovertext}</b><br><br>city=%{text}<br>date=01-31<br>p=%{x}<br>beta=%{y}<br>size=%{marker.size}\", \"hovertext\": [206.0], \"legendgroup\": \"\\u54b8\\u5b81\", \"marker\": {\"color\": \"#636efa\", \"size\": [206.0], \"sizemode\": \"area\", \"sizeref\": 2.7606611570247934, \"symbol\": \"circle\"}, \"mode\": \"markers+text\", \"name\": \"\\u54b8\\u5b81\", \"showlegend\": true, \"text\": [\"\\u54b8\\u5b81\"], \"x\": [8.216992421220582e-05], \"xaxis\": \"x\", \"y\": [0.3426521795439525], \"yaxis\": \"y\", \"type\": \"scatter\"}, {\"hoverlabel\": {\"namelength\": 0}, \"hovertemplate\": \"<b>%{hovertext}</b><br><br>city=%{text}<br>date=01-31<br>p=%{x}<br>beta=%{y}<br>size=%{marker.size}\", \"hovertext\": [177.0], \"legendgroup\": \"\\u5341\\u5830\", \"marker\": {\"color\": \"#EF553B\", \"size\": [177.0], \"sizemode\": \"area\", \"sizeref\": 2.7606611570247934, \"symbol\": \"circle\"}, \"mode\": \"markers+text\", \"name\": \"\\u5341\\u5830\", \"showlegend\": true, \"text\": [\"\\u5341\\u5830\"], \"x\": [5.232042565770026e-05], \"xaxis\": \"x\", \"y\": [0.38531181131694703], \"yaxis\": \"y\", \"type\": \"scatter\"}, {\"hoverlabel\": {\"namelength\": 0}, \"hovertemplate\": \"<b>%{hovertext}</b><br><br>city=%{text}<br>date=01-31<br>p=%{x}<br>beta=%{y}<br>size=%{marker.size}\", \"hovertext\": [276.0], \"legendgroup\": \"\\u5b9c\\u660c\", \"marker\": {\"color\": \"#00cc96\", \"size\": [276.0], \"sizemode\": \"area\", \"sizeref\": 2.7606611570247934, \"symbol\": \"circle\"}, \"mode\": \"markers+text\", \"name\": \"\\u5b9c\\u660c\", \"showlegend\": true, \"text\": [\"\\u5b9c\\u660c\"], \"x\": [6.707168894289184e-05], \"xaxis\": \"x\", \"y\": [0.636372481689279], \"yaxis\": \"y\", \"type\": \"scatter\"}, {\"hoverlabel\": {\"namelength\": 0}, \"hovertemplate\": \"<b>%{hovertext}</b><br><br>city=%{text}<br>date=01-31<br>p=%{x}<br>beta=%{y}<br>size=%{marker.size}\", \"hovertext\": [87.0], \"legendgroup\": \"\\u6069\\u65bd\", \"marker\": {\"color\": \"#ab63fa\", \"size\": [87.0], \"sizemode\": \"area\", \"sizeref\": 2.7606611570247934, \"symbol\": \"circle\"}, \"mode\": \"markers+text\", \"name\": \"\\u6069\\u65bd\", \"showlegend\": true, \"text\": [\"\\u6069\\u65bd\"], \"x\": [2.6149684400360684e-05], \"xaxis\": \"x\", \"y\": [0.3275202631541628], \"yaxis\": \"y\", \"type\": \"scatter\"}, {\"hoverlabel\": {\"namelength\": 0}, \"hovertemplate\": \"<b>%{hovertext}</b><br><br>city=%{text}<br>date=01-31<br>p=%{x}<br>beta=%{y}<br>size=%{marker.size}\", \"hovertext\": [227.0], \"legendgroup\": \"\\u9102\\u5dde\", \"marker\": {\"color\": \"#FFA15A\", \"size\": [227.0], \"sizemode\": \"area\", \"sizeref\": 2.7606611570247934, \"symbol\": \"circle\"}, \"mode\": \"markers+text\", \"name\": \"\\u9102\\u5dde\", \"showlegend\": true, \"text\": [\"\\u9102\\u5dde\"], \"x\": [0.0002142520056630486], \"xaxis\": \"x\", \"y\": [0.4895233496599453], \"yaxis\": \"y\", \"type\": \"scatter\"}, {\"hoverlabel\": {\"namelength\": 0}, \"hovertemplate\": \"<b>%{hovertext}</b><br><br>city=%{text}<br>date=01-31<br>p=%{x}<br>beta=%{y}<br>size=%{marker.size}\", \"hovertext\": [170.0], \"legendgroup\": \"\\u6df1\\u5733\", \"marker\": {\"color\": \"#19d3f3\", \"size\": [170.0], \"sizemode\": \"area\", \"sizeref\": 2.7606611570247934, \"symbol\": \"circle\"}, \"mode\": \"markers+text\", \"name\": \"\\u6df1\\u5733\", \"showlegend\": true, \"text\": [\"\\u6df1\\u5733\"], \"x\": [1.4944266676043464e-05], \"xaxis\": \"x\", \"y\": [0.4640566804763208], \"yaxis\": \"y\", \"type\": \"scatter\"}, {\"hoverlabel\": {\"namelength\": 0}, \"hovertemplate\": \"<b>%{hovertext}</b><br><br>city=%{text}<br>date=01-31<br>p=%{x}<br>beta=%{y}<br>size=%{marker.size}\", \"hovertext\": [137.0], \"legendgroup\": \"\\u5e7f\\u5dde\", \"marker\": {\"color\": \"#FF6692\", \"size\": [137.0], \"sizemode\": \"area\", \"sizeref\": 2.7606611570247934, \"symbol\": \"circle\"}, \"mode\": \"markers+text\", \"name\": \"\\u5e7f\\u5dde\", \"showlegend\": true, \"text\": [\"\\u5e7f\\u5dde\"], \"x\": [1.014995258416311e-05], \"xaxis\": \"x\", \"y\": [0.4010809105523087], \"yaxis\": \"y\", \"type\": \"scatter\"}, {\"hoverlabel\": {\"namelength\": 0}, \"hovertemplate\": \"<b>%{hovertext}</b><br><br>city=%{text}<br>date=01-31<br>p=%{x}<br>beta=%{y}<br>size=%{marker.size}\", \"hovertext\": [38.0], \"legendgroup\": \"\\u73e0\\u6d77\", \"marker\": {\"color\": \"#B6E880\", \"size\": [38.0], \"sizemode\": \"area\", \"sizeref\": 2.7606611570247934, \"symbol\": \"circle\"}, \"mode\": \"markers+text\", \"name\": \"\\u73e0\\u6d77\", \"showlegend\": true, \"text\": [\"\\u73e0\\u6d77\"], \"x\": [2.3261508325171398e-05], \"xaxis\": \"x\", \"y\": [0.4696531292102794], \"yaxis\": \"y\", \"type\": \"scatter\"}, {\"hoverlabel\": {\"namelength\": 0}, \"hovertemplate\": \"<b>%{hovertext}</b><br><br>city=%{text}<br>date=01-31<br>p=%{x}<br>beta=%{y}<br>size=%{marker.size}\", \"hovertext\": [40.0], \"legendgroup\": \"\\u65b0\\u4f59\", \"marker\": {\"color\": \"#FF97FF\", \"size\": [40.0], \"sizemode\": \"area\", \"sizeref\": 2.7606611570247934, \"symbol\": \"circle\"}, \"mode\": \"markers+text\", \"name\": \"\\u65b0\\u4f59\", \"showlegend\": true, \"text\": [\"\\u65b0\\u4f59\"], \"x\": [3.4284734721865086e-05], \"xaxis\": \"x\", \"y\": [0.5733927955706198], \"yaxis\": \"y\", \"type\": \"scatter\"}, {\"hoverlabel\": {\"namelength\": 0}, \"hovertemplate\": \"<b>%{hovertext}</b><br><br>city=%{text}<br>date=01-31<br>p=%{x}<br>beta=%{y}<br>size=%{marker.size}\", \"hovertext\": [241.0], \"legendgroup\": \"\\u6e29\\u5dde\", \"marker\": {\"color\": \"#FECB52\", \"size\": [241.0], \"sizemode\": \"area\", \"sizeref\": 2.7606611570247934, \"symbol\": \"circle\"}, \"mode\": \"markers+text\", \"name\": \"\\u6e29\\u5dde\", \"showlegend\": true, \"text\": [\"\\u6e29\\u5dde\"], \"x\": [2.643413403531864e-05], \"xaxis\": \"x\", \"y\": [0.4178401368882837], \"yaxis\": \"y\", \"type\": \"scatter\"}, {\"hoverlabel\": {\"namelength\": 0}, \"hovertemplate\": \"<b>%{hovertext}</b><br><br>city=%{text}<br>date=01-31<br>p=%{x}<br>beta=%{y}<br>size=%{marker.size}\", \"hovertext\": [156.0], \"legendgroup\": \"\\u5317\\u4eac\", \"marker\": {\"color\": \"#636efa\", \"size\": [156.0], \"sizemode\": \"area\", \"sizeref\": 2.7606611570247934, \"symbol\": \"circle\"}, \"mode\": \"markers+text\", \"name\": \"\\u5317\\u4eac\", \"showlegend\": true, \"text\": [\"\\u5317\\u4eac\"], \"x\": [7.18728403593642e-06], \"xaxis\": \"x\", \"y\": [0.2687205181315572], \"yaxis\": \"y\", \"type\": \"scatter\"}, {\"hoverlabel\": {\"namelength\": 0}, \"hovertemplate\": \"<b>%{hovertext}</b><br><br>city=%{text}<br>date=01-31<br>p=%{x}<br>beta=%{y}<br>size=%{marker.size}\", \"hovertext\": [153.0], \"legendgroup\": \"\\u4e0a\\u6d77\", \"marker\": {\"color\": \"#EF553B\", \"size\": [153.0], \"sizemode\": \"area\", \"sizeref\": 2.7606611570247934, \"symbol\": \"circle\"}, \"mode\": \"markers+text\", \"name\": \"\\u4e0a\\u6d77\", \"showlegend\": true, \"text\": [\"\\u4e0a\\u6d77\"], \"x\": [6.334695499882001e-06], \"xaxis\": \"x\", \"y\": [0.3636999941947425], \"yaxis\": \"y\", \"type\": \"scatter\"}], \"name\": \"01-31\"}, {\"data\": [{\"hoverlabel\": {\"namelength\": 0}, \"hovertemplate\": \"<b>%{hovertext}</b><br><br>city=%{text}<br>date=02-01<br>p=%{x}<br>beta=%{y}<br>size=%{marker.size}\", \"hovertext\": [4109.0], \"legendgroup\": \"\\u6b66\\u6c49\", \"marker\": {\"color\": \"#636efa\", \"size\": [4109.0], \"sizemode\": \"area\", \"sizeref\": 2.7606611570247934, \"symbol\": \"circle\"}, \"mode\": \"markers+text\", \"name\": \"\\u6b66\\u6c49\", \"showlegend\": true, \"text\": [\"\\u6b66\\u6c49\"], \"x\": [0.0003873601251920775], \"xaxis\": \"x\", \"y\": [0.33537265649149395], \"yaxis\": \"y\", \"type\": \"scatter\"}, {\"hoverlabel\": {\"namelength\": 0}, \"hovertemplate\": \"<b>%{hovertext}</b><br><br>city=%{text}<br>date=02-01<br>p=%{x}<br>beta=%{y}<br>size=%{marker.size}\", \"hovertext\": [1002.0], \"legendgroup\": \"\\u9ec4\\u5188\", \"marker\": {\"color\": \"#EF553B\", \"size\": [1002.0], \"sizemode\": \"area\", \"sizeref\": 2.7606611570247934, \"symbol\": \"circle\"}, \"mode\": \"markers+text\", \"name\": \"\\u9ec4\\u5188\", \"showlegend\": true, \"text\": [\"\\u9ec4\\u5188\"], \"x\": [0.00015927515498330948], \"xaxis\": \"x\", \"y\": [0.3652841776807286], \"yaxis\": \"y\", \"type\": \"scatter\"}, {\"hoverlabel\": {\"namelength\": 0}, \"hovertemplate\": \"<b>%{hovertext}</b><br><br>city=%{text}<br>date=02-01<br>p=%{x}<br>beta=%{y}<br>size=%{marker.size}\", \"hovertext\": [749.0], \"legendgroup\": \"\\u5b5d\\u611f\", \"marker\": {\"color\": \"#00cc96\", \"size\": [749.0], \"sizemode\": \"area\", \"sizeref\": 2.7606611570247934, \"symbol\": \"circle\"}, \"mode\": \"markers+text\", \"name\": \"\\u5b5d\\u611f\", \"showlegend\": true, \"text\": [\"\\u5b5d\\u611f\"], \"x\": [0.00015354653546535466], \"xaxis\": \"x\", \"y\": [0.359986996854034], \"yaxis\": \"y\", \"type\": \"scatter\"}, {\"hoverlabel\": {\"namelength\": 0}, \"hovertemplate\": \"<b>%{hovertext}</b><br><br>city=%{text}<br>date=02-01<br>p=%{x}<br>beta=%{y}<br>size=%{marker.size}\", \"hovertext\": [441.0], \"legendgroup\": \"\\u8944\\u9633\", \"marker\": {\"color\": \"#ab63fa\", \"size\": [441.0], \"sizemode\": \"area\", \"sizeref\": 2.7606611570247934, \"symbol\": \"circle\"}, \"mode\": \"markers+text\", \"name\": \"\\u8944\\u9633\", \"showlegend\": true, \"text\": [\"\\u8944\\u9633\"], \"x\": [7.855361596009974e-05], \"xaxis\": \"x\", \"y\": [0.4889537182238246], \"yaxis\": \"y\", \"type\": \"scatter\"}, {\"hoverlabel\": {\"namelength\": 0}, \"hovertemplate\": \"<b>%{hovertext}</b><br><br>city=%{text}<br>date=02-01<br>p=%{x}<br>beta=%{y}<br>size=%{marker.size}\", \"hovertext\": [333.0], \"legendgroup\": \"\\u8346\\u5dde\", \"marker\": {\"color\": \"#FFA15A\", \"size\": [333.0], \"sizemode\": \"area\", \"sizeref\": 2.7606611570247934, \"symbol\": \"circle\"}, \"mode\": \"markers+text\", \"name\": \"\\u8346\\u5dde\", \"showlegend\": true, \"text\": [\"\\u8346\\u5dde\"], \"x\": [5.8360644245430174e-05], \"xaxis\": \"x\", \"y\": [0.4219137754304732], \"yaxis\": \"y\", \"type\": \"scatter\"}, {\"hoverlabel\": {\"namelength\": 0}, \"hovertemplate\": \"<b>%{hovertext}</b><br><br>city=%{text}<br>date=02-01<br>p=%{x}<br>beta=%{y}<br>size=%{marker.size}\", \"hovertext\": [329.0], \"legendgroup\": \"\\u8346\\u95e8\", \"marker\": {\"color\": \"#19d3f3\", \"size\": [329.0], \"sizemode\": \"area\", \"sizeref\": 2.7606611570247934, \"symbol\": \"circle\"}, \"mode\": \"markers+text\", \"name\": \"\\u8346\\u95e8\", \"showlegend\": true, \"text\": [\"\\u8346\\u95e8\"], \"x\": [0.0001135932051237786], \"xaxis\": \"x\", \"y\": [0.313900658990451], \"yaxis\": \"y\", \"type\": \"scatter\"}, {\"hoverlabel\": {\"namelength\": 0}, \"hovertemplate\": \"<b>%{hovertext}</b><br><br>city=%{text}<br>date=02-01<br>p=%{x}<br>beta=%{y}<br>size=%{marker.size}\", \"hovertext\": [252.0], \"legendgroup\": \"\\u9ec4\\u77f3\", \"marker\": {\"color\": \"#FF6692\", \"size\": [252.0], \"sizemode\": \"area\", \"sizeref\": 2.7606611570247934, \"symbol\": \"circle\"}, \"mode\": \"markers+text\", \"name\": \"\\u9ec4\\u77f3\", \"showlegend\": true, \"text\": [\"\\u9ec4\\u77f3\"], \"x\": [0.00010252237591537835], \"xaxis\": \"x\", \"y\": [0.42230742015682493], \"yaxis\": \"y\", \"type\": \"scatter\"}, {\"hoverlabel\": {\"namelength\": 0}, \"hovertemplate\": \"<b>%{hovertext}</b><br><br>city=%{text}<br>date=02-01<br>p=%{x}<br>beta=%{y}<br>size=%{marker.size}\", \"hovertext\": [140.0], \"legendgroup\": \"\\u4ed9\\u6843\", \"marker\": {\"color\": \"#B6E880\", \"size\": [140.0], \"sizemode\": \"area\", \"sizeref\": 2.7606611570247934, \"symbol\": \"circle\"}, \"mode\": \"markers+text\", \"name\": \"\\u4ed9\\u6843\", \"showlegend\": true, \"text\": [\"\\u4ed9\\u6843\"], \"x\": [8.974358974358975e-05], \"xaxis\": \"x\", \"y\": [0.4542528650686721], \"yaxis\": \"y\", \"type\": \"scatter\"}, {\"hoverlabel\": {\"namelength\": 0}, \"hovertemplate\": \"<b>%{hovertext}</b><br><br>city=%{text}<br>date=02-01<br>p=%{x}<br>beta=%{y}<br>size=%{marker.size}\", \"hovertext\": [99.0], \"legendgroup\": \"\\u5929\\u95e8\", \"marker\": {\"color\": \"#FF97FF\", \"size\": [99.0], \"sizemode\": \"area\", \"sizeref\": 2.7606611570247934, \"symbol\": \"circle\"}, \"mode\": \"markers+text\", \"name\": \"\\u5929\\u95e8\", \"showlegend\": true, \"text\": [\"\\u5929\\u95e8\"], \"x\": [7.795275590551181e-05], \"xaxis\": \"x\", \"y\": [0.4260119116931699], \"yaxis\": \"y\", \"type\": \"scatter\"}, {\"hoverlabel\": {\"namelength\": 0}, \"hovertemplate\": \"<b>%{hovertext}</b><br><br>city=%{text}<br>date=02-01<br>p=%{x}<br>beta=%{y}<br>size=%{marker.size}\", \"hovertext\": [384.0], \"legendgroup\": \"\\u968f\\u5dde\", \"marker\": {\"color\": \"#FECB52\", \"size\": [384.0], \"sizemode\": \"area\", \"sizeref\": 2.7606611570247934, \"symbol\": \"circle\"}, \"mode\": \"markers+text\", \"name\": \"\\u968f\\u5dde\", \"showlegend\": true, \"text\": [\"\\u968f\\u5dde\"], \"x\": [0.00017527843710060252], \"xaxis\": \"x\", \"y\": [0.484454726807367], \"yaxis\": \"y\", \"type\": \"scatter\"}, {\"hoverlabel\": {\"namelength\": 0}, \"hovertemplate\": \"<b>%{hovertext}</b><br><br>city=%{text}<br>date=02-01<br>p=%{x}<br>beta=%{y}<br>size=%{marker.size}\", \"hovertext\": [246.0], \"legendgroup\": \"\\u54b8\\u5b81\", \"marker\": {\"color\": \"#636efa\", \"size\": [246.0], \"sizemode\": \"area\", \"sizeref\": 2.7606611570247934, \"symbol\": \"circle\"}, \"mode\": \"markers+text\", \"name\": \"\\u54b8\\u5b81\", \"showlegend\": true, \"text\": [\"\\u54b8\\u5b81\"], \"x\": [9.812524930195451e-05], \"xaxis\": \"x\", \"y\": [0.36046062473004215], \"yaxis\": \"y\", \"type\": \"scatter\"}, {\"hoverlabel\": {\"namelength\": 0}, \"hovertemplate\": \"<b>%{hovertext}</b><br><br>city=%{text}<br>date=02-01<br>p=%{x}<br>beta=%{y}<br>size=%{marker.size}\", \"hovertext\": [212.0], \"legendgroup\": \"\\u5341\\u5830\", \"marker\": {\"color\": \"#EF553B\", \"size\": [212.0], \"sizemode\": \"area\", \"sizeref\": 2.7606611570247934, \"symbol\": \"circle\"}, \"mode\": \"markers+text\", \"name\": \"\\u5341\\u5830\", \"showlegend\": true, \"text\": [\"\\u5341\\u5830\"], \"x\": [6.266627253916642e-05], \"xaxis\": \"x\", \"y\": [0.33820876393475274], \"yaxis\": \"y\", \"type\": \"scatter\"}, {\"hoverlabel\": {\"namelength\": 0}, \"hovertemplate\": \"<b>%{hovertext}</b><br><br>city=%{text}<br>date=02-01<br>p=%{x}<br>beta=%{y}<br>size=%{marker.size}\", \"hovertext\": [353.0], \"legendgroup\": \"\\u5b9c\\u660c\", \"marker\": {\"color\": \"#00cc96\", \"size\": [353.0], \"sizemode\": \"area\", \"sizeref\": 2.7606611570247934, \"symbol\": \"circle\"}, \"mode\": \"markers+text\", \"name\": \"\\u5b9c\\u660c\", \"showlegend\": true, \"text\": [\"\\u5b9c\\u660c\"], \"x\": [8.578371810449575e-05], \"xaxis\": \"x\", \"y\": [0.521642264535803], \"yaxis\": \"y\", \"type\": \"scatter\"}, {\"hoverlabel\": {\"namelength\": 0}, \"hovertemplate\": \"<b>%{hovertext}</b><br><br>city=%{text}<br>date=02-01<br>p=%{x}<br>beta=%{y}<br>size=%{marker.size}\", \"hovertext\": [105.0], \"legendgroup\": \"\\u6069\\u65bd\", \"marker\": {\"color\": \"#ab63fa\", \"size\": [105.0], \"sizemode\": \"area\", \"sizeref\": 2.7606611570247934, \"symbol\": \"circle\"}, \"mode\": \"markers+text\", \"name\": \"\\u6069\\u65bd\", \"showlegend\": true, \"text\": [\"\\u6069\\u65bd\"], \"x\": [3.1559963931469794e-05], \"xaxis\": \"x\", \"y\": [0.2925783383435275], \"yaxis\": \"y\", \"type\": \"scatter\"}, {\"hoverlabel\": {\"namelength\": 0}, \"hovertemplate\": \"<b>%{hovertext}</b><br><br>city=%{text}<br>date=02-01<br>p=%{x}<br>beta=%{y}<br>size=%{marker.size}\", \"hovertext\": [278.0], \"legendgroup\": \"\\u9102\\u5dde\", \"marker\": {\"color\": \"#FFA15A\", \"size\": [278.0], \"sizemode\": \"area\", \"sizeref\": 2.7606611570247934, \"symbol\": \"circle\"}, \"mode\": \"markers+text\", \"name\": \"\\u9102\\u5dde\", \"showlegend\": true, \"text\": [\"\\u9102\\u5dde\"], \"x\": [0.00026238791882963656], \"xaxis\": \"x\", \"y\": [0.42647772360813], \"yaxis\": \"y\", \"type\": \"scatter\"}, {\"hoverlabel\": {\"namelength\": 0}, \"hovertemplate\": \"<b>%{hovertext}</b><br><br>city=%{text}<br>date=02-01<br>p=%{x}<br>beta=%{y}<br>size=%{marker.size}\", \"hovertext\": [196.0], \"legendgroup\": \"\\u6df1\\u5733\", \"marker\": {\"color\": \"#19d3f3\", \"size\": [196.0], \"sizemode\": \"area\", \"sizeref\": 2.7606611570247934, \"symbol\": \"circle\"}, \"mode\": \"markers+text\", \"name\": \"\\u6df1\\u5733\", \"showlegend\": true, \"text\": [\"\\u6df1\\u5733\"], \"x\": [1.7229860402967756e-05], \"xaxis\": \"x\", \"y\": [0.4303292446136029], \"yaxis\": \"y\", \"type\": \"scatter\"}, {\"hoverlabel\": {\"namelength\": 0}, \"hovertemplate\": \"<b>%{hovertext}</b><br><br>city=%{text}<br>date=02-01<br>p=%{x}<br>beta=%{y}<br>size=%{marker.size}\", \"hovertext\": [175.0], \"legendgroup\": \"\\u5e7f\\u5dde\", \"marker\": {\"color\": \"#FF6692\", \"size\": [175.0], \"sizemode\": \"area\", \"sizeref\": 2.7606611570247934, \"symbol\": \"circle\"}, \"mode\": \"markers+text\", \"name\": \"\\u5e7f\\u5dde\", \"showlegend\": true, \"text\": [\"\\u5e7f\\u5dde\"], \"x\": [1.2965267899478426e-05], \"xaxis\": \"x\", \"y\": [0.41088411541874137], \"yaxis\": \"y\", \"type\": \"scatter\"}, {\"hoverlabel\": {\"namelength\": 0}, \"hovertemplate\": \"<b>%{hovertext}</b><br><br>city=%{text}<br>date=02-01<br>p=%{x}<br>beta=%{y}<br>size=%{marker.size}\", \"hovertext\": [41.0], \"legendgroup\": \"\\u73e0\\u6d77\", \"marker\": {\"color\": \"#B6E880\", \"size\": [41.0], \"sizemode\": \"area\", \"sizeref\": 2.7606611570247934, \"symbol\": \"circle\"}, \"mode\": \"markers+text\", \"name\": \"\\u73e0\\u6d77\", \"showlegend\": true, \"text\": [\"\\u73e0\\u6d77\"], \"x\": [2.5097943192948088e-05], \"xaxis\": \"x\", \"y\": [0.4405908576213597], \"yaxis\": \"y\", \"type\": \"scatter\"}, {\"hoverlabel\": {\"namelength\": 0}, \"hovertemplate\": \"<b>%{hovertext}</b><br><br>city=%{text}<br>date=02-01<br>p=%{x}<br>beta=%{y}<br>size=%{marker.size}\", \"hovertext\": [43.0], \"legendgroup\": \"\\u65b0\\u4f59\", \"marker\": {\"color\": \"#FF97FF\", \"size\": [43.0], \"sizemode\": \"area\", \"sizeref\": 2.7606611570247934, \"symbol\": \"circle\"}, \"mode\": \"markers+text\", \"name\": \"\\u65b0\\u4f59\", \"showlegend\": true, \"text\": [\"\\u65b0\\u4f59\"], \"x\": [3.6856089826004966e-05], \"xaxis\": \"x\", \"y\": [0.6372764391604426], \"yaxis\": \"y\", \"type\": \"scatter\"}, {\"hoverlabel\": {\"namelength\": 0}, \"hovertemplate\": \"<b>%{hovertext}</b><br><br>city=%{text}<br>date=02-01<br>p=%{x}<br>beta=%{y}<br>size=%{marker.size}\", \"hovertext\": [265.0], \"legendgroup\": \"\\u6e29\\u5dde\", \"marker\": {\"color\": \"#FECB52\", \"size\": [265.0], \"sizemode\": \"area\", \"sizeref\": 2.7606611570247934, \"symbol\": \"circle\"}, \"mode\": \"markers+text\", \"name\": \"\\u6e29\\u5dde\", \"showlegend\": true, \"text\": [\"\\u6e29\\u5dde\"], \"x\": [2.9066578918503887e-05], \"xaxis\": \"x\", \"y\": [0.2989692949107861], \"yaxis\": \"y\", \"type\": \"scatter\"}, {\"hoverlabel\": {\"namelength\": 0}, \"hovertemplate\": \"<b>%{hovertext}</b><br><br>city=%{text}<br>date=02-01<br>p=%{x}<br>beta=%{y}<br>size=%{marker.size}\", \"hovertext\": [183.0], \"legendgroup\": \"\\u5317\\u4eac\", \"marker\": {\"color\": \"#636efa\", \"size\": [183.0], \"sizemode\": \"area\", \"sizeref\": 2.7606611570247934, \"symbol\": \"circle\"}, \"mode\": \"markers+text\", \"name\": \"\\u5317\\u4eac\", \"showlegend\": true, \"text\": [\"\\u5317\\u4eac\"], \"x\": [8.431237042156184e-06], \"xaxis\": \"x\", \"y\": [0.3071041879050205], \"yaxis\": \"y\", \"type\": \"scatter\"}, {\"hoverlabel\": {\"namelength\": 0}, \"hovertemplate\": \"<b>%{hovertext}</b><br><br>city=%{text}<br>date=02-01<br>p=%{x}<br>beta=%{y}<br>size=%{marker.size}\", \"hovertext\": [177.0], \"legendgroup\": \"\\u4e0a\\u6d77\", \"marker\": {\"color\": \"#EF553B\", \"size\": [177.0], \"sizemode\": \"area\", \"sizeref\": 2.7606611570247934, \"symbol\": \"circle\"}, \"mode\": \"markers+text\", \"name\": \"\\u4e0a\\u6d77\", \"showlegend\": true, \"text\": [\"\\u4e0a\\u6d77\"], \"x\": [7.328373225353688e-06], \"xaxis\": \"x\", \"y\": [0.3364916892390629], \"yaxis\": \"y\", \"type\": \"scatter\"}], \"name\": \"02-01\"}, {\"data\": [{\"hoverlabel\": {\"namelength\": 0}, \"hovertemplate\": \"<b>%{hovertext}</b><br><br>city=%{text}<br>date=02-02<br>p=%{x}<br>beta=%{y}<br>size=%{marker.size}\", \"hovertext\": [5142.0], \"legendgroup\": \"\\u6b66\\u6c49\", \"marker\": {\"color\": \"#636efa\", \"size\": [5142.0], \"sizemode\": \"area\", \"sizeref\": 2.7606611570247934, \"symbol\": \"circle\"}, \"mode\": \"markers+text\", \"name\": \"\\u6b66\\u6c49\", \"showlegend\": true, \"text\": [\"\\u6b66\\u6c49\"], \"x\": [0.0004847422155603948], \"xaxis\": \"x\", \"y\": [0.3643007032786396], \"yaxis\": \"y\", \"type\": \"scatter\"}, {\"hoverlabel\": {\"namelength\": 0}, \"hovertemplate\": \"<b>%{hovertext}</b><br><br>city=%{text}<br>date=02-02<br>p=%{x}<br>beta=%{y}<br>size=%{marker.size}\", \"hovertext\": [1246.0], \"legendgroup\": \"\\u9ec4\\u5188\", \"marker\": {\"color\": \"#EF553B\", \"size\": [1246.0], \"sizemode\": \"area\", \"sizeref\": 2.7606611570247934, \"symbol\": \"circle\"}, \"mode\": \"markers+text\", \"name\": \"\\u9ec4\\u5188\", \"showlegend\": true, \"text\": [\"\\u9ec4\\u5188\"], \"x\": [0.00019806072166587187], \"xaxis\": \"x\", \"y\": [0.4054150042323116], \"yaxis\": \"y\", \"type\": \"scatter\"}, {\"hoverlabel\": {\"namelength\": 0}, \"hovertemplate\": \"<b>%{hovertext}</b><br><br>city=%{text}<br>date=02-02<br>p=%{x}<br>beta=%{y}<br>size=%{marker.size}\", \"hovertext\": [918.0], \"legendgroup\": \"\\u5b5d\\u611f\", \"marker\": {\"color\": \"#00cc96\", \"size\": [918.0], \"sizemode\": \"area\", \"sizeref\": 2.7606611570247934, \"symbol\": \"circle\"}, \"mode\": \"markers+text\", \"name\": \"\\u5b5d\\u611f\", \"showlegend\": true, \"text\": [\"\\u5b5d\\u611f\"], \"x\": [0.00018819188191881918], \"xaxis\": \"x\", \"y\": [0.3149888620811198], \"yaxis\": \"y\", \"type\": \"scatter\"}, {\"hoverlabel\": {\"namelength\": 0}, \"hovertemplate\": \"<b>%{hovertext}</b><br><br>city=%{text}<br>date=02-02<br>p=%{x}<br>beta=%{y}<br>size=%{marker.size}\", \"hovertext\": [548.0], \"legendgroup\": \"\\u8944\\u9633\", \"marker\": {\"color\": \"#ab63fa\", \"size\": [548.0], \"sizemode\": \"area\", \"sizeref\": 2.7606611570247934, \"symbol\": \"circle\"}, \"mode\": \"markers+text\", \"name\": \"\\u8944\\u9633\", \"showlegend\": true, \"text\": [\"\\u8944\\u9633\"], \"x\": [9.7613110081938e-05], \"xaxis\": \"x\", \"y\": [0.35878465902971723], \"yaxis\": \"y\", \"type\": \"scatter\"}, {\"hoverlabel\": {\"namelength\": 0}, \"hovertemplate\": \"<b>%{hovertext}</b><br><br>city=%{text}<br>date=02-02<br>p=%{x}<br>beta=%{y}<br>size=%{marker.size}\", \"hovertext\": [499.0], \"legendgroup\": \"\\u8346\\u5dde\", \"marker\": {\"color\": \"#FFA15A\", \"size\": [499.0], \"sizemode\": \"area\", \"sizeref\": 2.7606611570247934, \"symbol\": \"circle\"}, \"mode\": \"markers+text\", \"name\": \"\\u8346\\u5dde\", \"showlegend\": true, \"text\": [\"\\u8346\\u5dde\"], \"x\": [8.745333777318215e-05], \"xaxis\": \"x\", \"y\": [0.4013061152024956], \"yaxis\": \"y\", \"type\": \"scatter\"}, {\"hoverlabel\": {\"namelength\": 0}, \"hovertemplate\": \"<b>%{hovertext}</b><br><br>city=%{text}<br>date=02-02<br>p=%{x}<br>beta=%{y}<br>size=%{marker.size}\", \"hovertext\": [345.0], \"legendgroup\": \"\\u8346\\u95e8\", \"marker\": {\"color\": \"#19d3f3\", \"size\": [345.0], \"sizemode\": \"area\", \"sizeref\": 2.7606611570247934, \"symbol\": \"circle\"}, \"mode\": \"markers+text\", \"name\": \"\\u8346\\u95e8\", \"showlegend\": true, \"text\": [\"\\u8346\\u95e8\"], \"x\": [0.00011911749473466145], \"xaxis\": \"x\", \"y\": [0.29324620752880903], \"yaxis\": \"y\", \"type\": \"scatter\"}, {\"hoverlabel\": {\"namelength\": 0}, \"hovertemplate\": \"<b>%{hovertext}</b><br><br>city=%{text}<br>date=02-02<br>p=%{x}<br>beta=%{y}<br>size=%{marker.size}\", \"hovertext\": [334.0], \"legendgroup\": \"\\u9ec4\\u77f3\", \"marker\": {\"color\": \"#FF6692\", \"size\": [334.0], \"sizemode\": \"area\", \"sizeref\": 2.7606611570247934, \"symbol\": \"circle\"}, \"mode\": \"markers+text\", \"name\": \"\\u9ec4\\u77f3\", \"showlegend\": true, \"text\": [\"\\u9ec4\\u77f3\"], \"x\": [0.00013588283157038242], \"xaxis\": \"x\", \"y\": [0.3660879403850238], \"yaxis\": \"y\", \"type\": \"scatter\"}, {\"hoverlabel\": {\"namelength\": 0}, \"hovertemplate\": \"<b>%{hovertext}</b><br><br>city=%{text}<br>date=02-02<br>p=%{x}<br>beta=%{y}<br>size=%{marker.size}\", \"hovertext\": [169.0], \"legendgroup\": \"\\u4ed9\\u6843\", \"marker\": {\"color\": \"#B6E880\", \"size\": [169.0], \"sizemode\": \"area\", \"sizeref\": 2.7606611570247934, \"symbol\": \"circle\"}, \"mode\": \"markers+text\", \"name\": \"\\u4ed9\\u6843\", \"showlegend\": true, \"text\": [\"\\u4ed9\\u6843\"], \"x\": [0.00010833333333333333], \"xaxis\": \"x\", \"y\": [0.3507736697139718], \"yaxis\": \"y\", \"type\": \"scatter\"}, {\"hoverlabel\": {\"namelength\": 0}, \"hovertemplate\": \"<b>%{hovertext}</b><br><br>city=%{text}<br>date=02-02<br>p=%{x}<br>beta=%{y}<br>size=%{marker.size}\", \"hovertext\": [115.0], \"legendgroup\": \"\\u5929\\u95e8\", \"marker\": {\"color\": \"#FF97FF\", \"size\": [115.0], \"sizemode\": \"area\", \"sizeref\": 2.7606611570247934, \"symbol\": \"circle\"}, \"mode\": \"markers+text\", \"name\": \"\\u5929\\u95e8\", \"showlegend\": true, \"text\": [\"\\u5929\\u95e8\"], \"x\": [9.055118110236221e-05], \"xaxis\": \"x\", \"y\": [0.3272928901277604], \"yaxis\": \"y\", \"type\": \"scatter\"}, {\"hoverlabel\": {\"namelength\": 0}, \"hovertemplate\": \"<b>%{hovertext}</b><br><br>city=%{text}<br>date=02-02<br>p=%{x}<br>beta=%{y}<br>size=%{marker.size}\", \"hovertext\": [458.0], \"legendgroup\": \"\\u968f\\u5dde\", \"marker\": {\"color\": \"#FECB52\", \"size\": [458.0], \"sizemode\": \"area\", \"sizeref\": 2.7606611570247934, \"symbol\": \"circle\"}, \"mode\": \"markers+text\", \"name\": \"\\u968f\\u5dde\", \"showlegend\": true, \"text\": [\"\\u968f\\u5dde\"], \"x\": [0.00020905605258353114], \"xaxis\": \"x\", \"y\": [0.3832760536046013], \"yaxis\": \"y\", \"type\": \"scatter\"}, {\"hoverlabel\": {\"namelength\": 0}, \"hovertemplate\": \"<b>%{hovertext}</b><br><br>city=%{text}<br>date=02-02<br>p=%{x}<br>beta=%{y}<br>size=%{marker.size}\", \"hovertext\": [296.0], \"legendgroup\": \"\\u54b8\\u5b81\", \"marker\": {\"color\": \"#636efa\", \"size\": [296.0], \"sizemode\": \"area\", \"sizeref\": 2.7606611570247934, \"symbol\": \"circle\"}, \"mode\": \"markers+text\", \"name\": \"\\u54b8\\u5b81\", \"showlegend\": true, \"text\": [\"\\u54b8\\u5b81\"], \"x\": [0.0001180694056641404], \"xaxis\": \"x\", \"y\": [0.3374316130083391], \"yaxis\": \"y\", \"type\": \"scatter\"}, {\"hoverlabel\": {\"namelength\": 0}, \"hovertemplate\": \"<b>%{hovertext}</b><br><br>city=%{text}<br>date=02-02<br>p=%{x}<br>beta=%{y}<br>size=%{marker.size}\", \"hovertext\": [256.0], \"legendgroup\": \"\\u5341\\u5830\", \"marker\": {\"color\": \"#EF553B\", \"size\": [256.0], \"sizemode\": \"area\", \"sizeref\": 2.7606611570247934, \"symbol\": \"circle\"}, \"mode\": \"markers+text\", \"name\": \"\\u5341\\u5830\", \"showlegend\": true, \"text\": [\"\\u5341\\u5830\"], \"x\": [7.56724800472953e-05], \"xaxis\": \"x\", \"y\": [0.3193704727017665], \"yaxis\": \"y\", \"type\": \"scatter\"}, {\"hoverlabel\": {\"namelength\": 0}, \"hovertemplate\": \"<b>%{hovertext}</b><br><br>city=%{text}<br>date=02-02<br>p=%{x}<br>beta=%{y}<br>size=%{marker.size}\", \"hovertext\": [392.0], \"legendgroup\": \"\\u5b9c\\u660c\", \"marker\": {\"color\": \"#00cc96\", \"size\": [392.0], \"sizemode\": \"area\", \"sizeref\": 2.7606611570247934, \"symbol\": \"circle\"}, \"mode\": \"markers+text\", \"name\": \"\\u5b9c\\u660c\", \"showlegend\": true, \"text\": [\"\\u5b9c\\u660c\"], \"x\": [9.526123936816523e-05], \"xaxis\": \"x\", \"y\": [0.4518074770600233], \"yaxis\": \"y\", \"type\": \"scatter\"}, {\"hoverlabel\": {\"namelength\": 0}, \"hovertemplate\": \"<b>%{hovertext}</b><br><br>city=%{text}<br>date=02-02<br>p=%{x}<br>beta=%{y}<br>size=%{marker.size}\", \"hovertext\": [111.0], \"legendgroup\": \"\\u6069\\u65bd\", \"marker\": {\"color\": \"#ab63fa\", \"size\": [111.0], \"sizemode\": \"area\", \"sizeref\": 2.7606611570247934, \"symbol\": \"circle\"}, \"mode\": \"markers+text\", \"name\": \"\\u6069\\u65bd\", \"showlegend\": true, \"text\": [\"\\u6069\\u65bd\"], \"x\": [3.3363390441839496e-05], \"xaxis\": \"x\", \"y\": [0.2836485107597076], \"yaxis\": \"y\", \"type\": \"scatter\"}, {\"hoverlabel\": {\"namelength\": 0}, \"hovertemplate\": \"<b>%{hovertext}</b><br><br>city=%{text}<br>date=02-02<br>p=%{x}<br>beta=%{y}<br>size=%{marker.size}\", \"hovertext\": [306.0], \"legendgroup\": \"\\u9102\\u5dde\", \"marker\": {\"color\": \"#FFA15A\", \"size\": [306.0], \"sizemode\": \"area\", \"sizeref\": 2.7606611570247934, \"symbol\": \"circle\"}, \"mode\": \"markers+text\", \"name\": \"\\u9102\\u5dde\", \"showlegend\": true, \"text\": [\"\\u9102\\u5dde\"], \"x\": [0.00028881547899952813], \"xaxis\": \"x\", \"y\": [0.3121562178594852], \"yaxis\": \"y\", \"type\": \"scatter\"}, {\"hoverlabel\": {\"namelength\": 0}, \"hovertemplate\": \"<b>%{hovertext}</b><br><br>city=%{text}<br>date=02-02<br>p=%{x}<br>beta=%{y}<br>size=%{marker.size}\", \"hovertext\": [226.0], \"legendgroup\": \"\\u6df1\\u5733\", \"marker\": {\"color\": \"#19d3f3\", \"size\": [226.0], \"sizemode\": \"area\", \"sizeref\": 2.7606611570247934, \"symbol\": \"circle\"}, \"mode\": \"markers+text\", \"name\": \"\\u6df1\\u5733\", \"showlegend\": true, \"text\": [\"\\u6df1\\u5733\"], \"x\": [1.9867083934034248e-05], \"xaxis\": \"x\", \"y\": [0.3998150630076163], \"yaxis\": \"y\", \"type\": \"scatter\"}, {\"hoverlabel\": {\"namelength\": 0}, \"hovertemplate\": \"<b>%{hovertext}</b><br><br>city=%{text}<br>date=02-02<br>p=%{x}<br>beta=%{y}<br>size=%{marker.size}\", \"hovertext\": [189.0], \"legendgroup\": \"\\u5e7f\\u5dde\", \"marker\": {\"color\": \"#FF6692\", \"size\": [189.0], \"sizemode\": \"area\", \"sizeref\": 2.7606611570247934, \"symbol\": \"circle\"}, \"mode\": \"markers+text\", \"name\": \"\\u5e7f\\u5dde\", \"showlegend\": true, \"text\": [\"\\u5e7f\\u5dde\"], \"x\": [1.4002489331436701e-05], \"xaxis\": \"x\", \"y\": [0.35128666686473003], \"yaxis\": \"y\", \"type\": \"scatter\"}, {\"hoverlabel\": {\"namelength\": 0}, \"hovertemplate\": \"<b>%{hovertext}</b><br><br>city=%{text}<br>date=02-02<br>p=%{x}<br>beta=%{y}<br>size=%{marker.size}\", \"hovertext\": [51.0], \"legendgroup\": \"\\u73e0\\u6d77\", \"marker\": {\"color\": \"#B6E880\", \"size\": [51.0], \"sizemode\": \"area\", \"sizeref\": 2.7606611570247934, \"symbol\": \"circle\"}, \"mode\": \"markers+text\", \"name\": \"\\u73e0\\u6d77\", \"showlegend\": true, \"text\": [\"\\u73e0\\u6d77\"], \"x\": [3.121939275220372e-05], \"xaxis\": \"x\", \"y\": [0.373708046926723], \"yaxis\": \"y\", \"type\": \"scatter\"}, {\"hoverlabel\": {\"namelength\": 0}, \"hovertemplate\": \"<b>%{hovertext}</b><br><br>city=%{text}<br>date=02-02<br>p=%{x}<br>beta=%{y}<br>size=%{marker.size}\", \"hovertext\": [50.0], \"legendgroup\": \"\\u65b0\\u4f59\", \"marker\": {\"color\": \"#FF97FF\", \"size\": [50.0], \"sizemode\": \"area\", \"sizeref\": 2.7606611570247934, \"symbol\": \"circle\"}, \"mode\": \"markers+text\", \"name\": \"\\u65b0\\u4f59\", \"showlegend\": true, \"text\": [\"\\u65b0\\u4f59\"], \"x\": [4.285591840233136e-05], \"xaxis\": \"x\", \"y\": [0.3473718341949573], \"yaxis\": \"y\", \"type\": \"scatter\"}, {\"hoverlabel\": {\"namelength\": 0}, \"hovertemplate\": \"<b>%{hovertext}</b><br><br>city=%{text}<br>date=02-02<br>p=%{x}<br>beta=%{y}<br>size=%{marker.size}\", \"hovertext\": [291.0], \"legendgroup\": \"\\u6e29\\u5dde\", \"marker\": {\"color\": \"#FECB52\", \"size\": [291.0], \"sizemode\": \"area\", \"sizeref\": 2.7606611570247934, \"symbol\": \"circle\"}, \"mode\": \"markers+text\", \"name\": \"\\u6e29\\u5dde\", \"showlegend\": true, \"text\": [\"\\u6e29\\u5dde\"], \"x\": [3.191839420862126e-05], \"xaxis\": \"x\", \"y\": [0.22300692952979706], \"yaxis\": \"y\", \"type\": \"scatter\"}, {\"hoverlabel\": {\"namelength\": 0}, \"hovertemplate\": \"<b>%{hovertext}</b><br><br>city=%{text}<br>date=02-02<br>p=%{x}<br>beta=%{y}<br>size=%{marker.size}\", \"hovertext\": [191.0], \"legendgroup\": \"\\u5317\\u4eac\", \"marker\": {\"color\": \"#636efa\", \"size\": [191.0], \"sizemode\": \"area\", \"sizeref\": 2.7606611570247934, \"symbol\": \"circle\"}, \"mode\": \"markers+text\", \"name\": \"\\u5317\\u4eac\", \"showlegend\": true, \"text\": [\"\\u5317\\u4eac\"], \"x\": [8.799815710665746e-06], \"xaxis\": \"x\", \"y\": [0.312618527440284], \"yaxis\": \"y\", \"type\": \"scatter\"}, {\"hoverlabel\": {\"namelength\": 0}, \"hovertemplate\": \"<b>%{hovertext}</b><br><br>city=%{text}<br>date=02-02<br>p=%{x}<br>beta=%{y}<br>size=%{marker.size}\", \"hovertext\": [193.0], \"legendgroup\": \"\\u4e0a\\u6d77\", \"marker\": {\"color\": \"#EF553B\", \"size\": [193.0], \"sizemode\": \"area\", \"sizeref\": 2.7606611570247934, \"symbol\": \"circle\"}, \"mode\": \"markers+text\", \"name\": \"\\u4e0a\\u6d77\", \"showlegend\": true, \"text\": [\"\\u4e0a\\u6d77\"], \"x\": [7.990825042334813e-06], \"xaxis\": \"x\", \"y\": [0.28776634083103475], \"yaxis\": \"y\", \"type\": \"scatter\"}], \"name\": \"02-02\"}, {\"data\": [{\"hoverlabel\": {\"namelength\": 0}, \"hovertemplate\": \"<b>%{hovertext}</b><br><br>city=%{text}<br>date=02-03<br>p=%{x}<br>beta=%{y}<br>size=%{marker.size}\", \"hovertext\": [6384.0], \"legendgroup\": \"\\u6b66\\u6c49\", \"marker\": {\"color\": \"#636efa\", \"size\": [6384.0], \"sizemode\": \"area\", \"sizeref\": 2.7606611570247934, \"symbol\": \"circle\"}, \"mode\": \"markers+text\", \"name\": \"\\u6b66\\u6c49\", \"showlegend\": true, \"text\": [\"\\u6b66\\u6c49\"], \"x\": [0.0006018269747447609], \"xaxis\": \"x\", \"y\": [0.37357313484772026], \"yaxis\": \"y\", \"type\": \"scatter\"}, {\"hoverlabel\": {\"namelength\": 0}, \"hovertemplate\": \"<b>%{hovertext}</b><br><br>city=%{text}<br>date=02-03<br>p=%{x}<br>beta=%{y}<br>size=%{marker.size}\", \"hovertext\": [1422.0], \"legendgroup\": \"\\u9ec4\\u5188\", \"marker\": {\"color\": \"#EF553B\", \"size\": [1422.0], \"sizemode\": \"area\", \"sizeref\": 2.7606611570247934, \"symbol\": \"circle\"}, \"mode\": \"markers+text\", \"name\": \"\\u9ec4\\u5188\", \"showlegend\": true, \"text\": [\"\\u9ec4\\u5188\"], \"x\": [0.00022603719599427753], \"xaxis\": \"x\", \"y\": [0.3803999879418515], \"yaxis\": \"y\", \"type\": \"scatter\"}, {\"hoverlabel\": {\"namelength\": 0}, \"hovertemplate\": \"<b>%{hovertext}</b><br><br>city=%{text}<br>date=02-03<br>p=%{x}<br>beta=%{y}<br>size=%{marker.size}\", \"hovertext\": [1120.0], \"legendgroup\": \"\\u5b5d\\u611f\", \"marker\": {\"color\": \"#00cc96\", \"size\": [1120.0], \"sizemode\": \"area\", \"sizeref\": 2.7606611570247934, \"symbol\": \"circle\"}, \"mode\": \"markers+text\", \"name\": \"\\u5b5d\\u611f\", \"showlegend\": true, \"text\": [\"\\u5b5d\\u611f\"], \"x\": [0.00022960229602296024], \"xaxis\": \"x\", \"y\": [0.3344685470625087], \"yaxis\": \"y\", \"type\": \"scatter\"}, {\"hoverlabel\": {\"namelength\": 0}, \"hovertemplate\": \"<b>%{hovertext}</b><br><br>city=%{text}<br>date=02-03<br>p=%{x}<br>beta=%{y}<br>size=%{marker.size}\", \"hovertext\": [632.0], \"legendgroup\": \"\\u8944\\u9633\", \"marker\": {\"color\": \"#ab63fa\", \"size\": [632.0], \"sizemode\": \"area\", \"sizeref\": 2.7606611570247934, \"symbol\": \"circle\"}, \"mode\": \"markers+text\", \"name\": \"\\u8944\\u9633\", \"showlegend\": true, \"text\": [\"\\u8944\\u9633\"], \"x\": [0.00011257570359814749], \"xaxis\": \"x\", \"y\": [0.3506249549280422], \"yaxis\": \"y\", \"type\": \"scatter\"}, {\"hoverlabel\": {\"namelength\": 0}, \"hovertemplate\": \"<b>%{hovertext}</b><br><br>city=%{text}<br>date=02-03<br>p=%{x}<br>beta=%{y}<br>size=%{marker.size}\", \"hovertext\": [613.0], \"legendgroup\": \"\\u8346\\u5dde\", \"marker\": {\"color\": \"#FFA15A\", \"size\": [613.0], \"sizemode\": \"area\", \"sizeref\": 2.7606611570247934, \"symbol\": \"circle\"}, \"mode\": \"markers+text\", \"name\": \"\\u8346\\u5dde\", \"showlegend\": true, \"text\": [\"\\u8346\\u5dde\"], \"x\": [0.00010743265742477086], \"xaxis\": \"x\", \"y\": [0.3977423620136872], \"yaxis\": \"y\", \"type\": \"scatter\"}, {\"hoverlabel\": {\"namelength\": 0}, \"hovertemplate\": \"<b>%{hovertext}</b><br><br>city=%{text}<br>date=02-03<br>p=%{x}<br>beta=%{y}<br>size=%{marker.size}\", \"hovertext\": [400.0], \"legendgroup\": \"\\u8346\\u95e8\", \"marker\": {\"color\": \"#19d3f3\", \"size\": [400.0], \"sizemode\": \"area\", \"sizeref\": 2.7606611570247934, \"symbol\": \"circle\"}, \"mode\": \"markers+text\", \"name\": \"\\u8346\\u95e8\", \"showlegend\": true, \"text\": [\"\\u8346\\u95e8\"], \"x\": [0.00013810724027207125], \"xaxis\": \"x\", \"y\": [0.3042671585333612], \"yaxis\": \"y\", \"type\": \"scatter\"}, {\"hoverlabel\": {\"namelength\": 0}, \"hovertemplate\": \"<b>%{hovertext}</b><br><br>city=%{text}<br>date=02-03<br>p=%{x}<br>beta=%{y}<br>size=%{marker.size}\", \"hovertext\": [405.0], \"legendgroup\": \"\\u9ec4\\u77f3\", \"marker\": {\"color\": \"#FF6692\", \"size\": [405.0], \"sizemode\": \"area\", \"sizeref\": 2.7606611570247934, \"symbol\": \"circle\"}, \"mode\": \"markers+text\", \"name\": \"\\u9ec4\\u77f3\", \"showlegend\": true, \"text\": [\"\\u9ec4\\u77f3\"], \"x\": [0.0001647681041497152], \"xaxis\": \"x\", \"y\": [0.3653078815706405], \"yaxis\": \"y\", \"type\": \"scatter\"}, {\"hoverlabel\": {\"namelength\": 0}, \"hovertemplate\": \"<b>%{hovertext}</b><br><br>city=%{text}<br>date=02-03<br>p=%{x}<br>beta=%{y}<br>size=%{marker.size}\", \"hovertext\": [188.0], \"legendgroup\": \"\\u4ed9\\u6843\", \"marker\": {\"color\": \"#B6E880\", \"size\": [188.0], \"sizemode\": \"area\", \"sizeref\": 2.7606611570247934, \"symbol\": \"circle\"}, \"mode\": \"markers+text\", \"name\": \"\\u4ed9\\u6843\", \"showlegend\": true, \"text\": [\"\\u4ed9\\u6843\"], \"x\": [0.0001205128205128205], \"xaxis\": \"x\", \"y\": [0.3811236929234705], \"yaxis\": \"y\", \"type\": \"scatter\"}, {\"hoverlabel\": {\"namelength\": 0}, \"hovertemplate\": \"<b>%{hovertext}</b><br><br>city=%{text}<br>date=02-03<br>p=%{x}<br>beta=%{y}<br>size=%{marker.size}\", \"hovertext\": [117.0], \"legendgroup\": \"\\u5929\\u95e8\", \"marker\": {\"color\": \"#FF97FF\", \"size\": [117.0], \"sizemode\": \"area\", \"sizeref\": 2.7606611570247934, \"symbol\": \"circle\"}, \"mode\": \"markers+text\", \"name\": \"\\u5929\\u95e8\", \"showlegend\": true, \"text\": [\"\\u5929\\u95e8\"], \"x\": [9.21259842519685e-05], \"xaxis\": \"x\", \"y\": [0.2774723118399307], \"yaxis\": \"y\", \"type\": \"scatter\"}, {\"hoverlabel\": {\"namelength\": 0}, \"hovertemplate\": \"<b>%{hovertext}</b><br><br>city=%{text}<br>date=02-03<br>p=%{x}<br>beta=%{y}<br>size=%{marker.size}\", \"hovertext\": [641.0], \"legendgroup\": \"\\u968f\\u5dde\", \"marker\": {\"color\": \"#FECB52\", \"size\": [641.0], \"sizemode\": \"area\", \"sizeref\": 2.7606611570247934, \"symbol\": \"circle\"}, \"mode\": \"markers+text\", \"name\": \"\\u968f\\u5dde\", \"showlegend\": true, \"text\": [\"\\u968f\\u5dde\"], \"x\": [0.000292587182764287], \"xaxis\": \"x\", \"y\": [0.3823271914171325], \"yaxis\": \"y\", \"type\": \"scatter\"}, {\"hoverlabel\": {\"namelength\": 0}, \"hovertemplate\": \"<b>%{hovertext}</b><br><br>city=%{text}<br>date=02-03<br>p=%{x}<br>beta=%{y}<br>size=%{marker.size}\", \"hovertext\": [348.0], \"legendgroup\": \"\\u54b8\\u5b81\", \"marker\": {\"color\": \"#636efa\", \"size\": [348.0], \"sizemode\": \"area\", \"sizeref\": 2.7606611570247934, \"symbol\": \"circle\"}, \"mode\": \"markers+text\", \"name\": \"\\u54b8\\u5b81\", \"showlegend\": true, \"text\": [\"\\u54b8\\u5b81\"], \"x\": [0.00013881132828081372], \"xaxis\": \"x\", \"y\": [0.319265332657138], \"yaxis\": \"y\", \"type\": \"scatter\"}, {\"hoverlabel\": {\"namelength\": 0}, \"hovertemplate\": \"<b>%{hovertext}</b><br><br>city=%{text}<br>date=02-03<br>p=%{x}<br>beta=%{y}<br>size=%{marker.size}\", \"hovertext\": [291.0], \"legendgroup\": \"\\u5341\\u5830\", \"marker\": {\"color\": \"#EF553B\", \"size\": [291.0], \"sizemode\": \"area\", \"sizeref\": 2.7606611570247934, \"symbol\": \"circle\"}, \"mode\": \"markers+text\", \"name\": \"\\u5341\\u5830\", \"showlegend\": true, \"text\": [\"\\u5341\\u5830\"], \"x\": [8.601832692876145e-05], \"xaxis\": \"x\", \"y\": [0.3136075314703036], \"yaxis\": \"y\", \"type\": \"scatter\"}, {\"hoverlabel\": {\"namelength\": 0}, \"hovertemplate\": \"<b>%{hovertext}</b><br><br>city=%{text}<br>date=02-03<br>p=%{x}<br>beta=%{y}<br>size=%{marker.size}\", \"hovertext\": [452.0], \"legendgroup\": \"\\u5b9c\\u660c\", \"marker\": {\"color\": \"#00cc96\", \"size\": [452.0], \"sizemode\": \"area\", \"sizeref\": 2.7606611570247934, \"symbol\": \"circle\"}, \"mode\": \"markers+text\", \"name\": \"\\u5b9c\\u660c\", \"showlegend\": true, \"text\": [\"\\u5b9c\\u660c\"], \"x\": [0.00010984204131227218], \"xaxis\": \"x\", \"y\": [0.3133698648565169], \"yaxis\": \"y\", \"type\": \"scatter\"}, {\"hoverlabel\": {\"namelength\": 0}, \"hovertemplate\": \"<b>%{hovertext}</b><br><br>city=%{text}<br>date=02-03<br>p=%{x}<br>beta=%{y}<br>size=%{marker.size}\", \"hovertext\": [123.0], \"legendgroup\": \"\\u6069\\u65bd\", \"marker\": {\"color\": \"#ab63fa\", \"size\": [123.0], \"sizemode\": \"area\", \"sizeref\": 2.7606611570247934, \"symbol\": \"circle\"}, \"mode\": \"markers+text\", \"name\": \"\\u6069\\u65bd\", \"showlegend\": true, \"text\": [\"\\u6069\\u65bd\"], \"x\": [3.69702434625789e-05], \"xaxis\": \"x\", \"y\": [0.2635195456632751], \"yaxis\": \"y\", \"type\": \"scatter\"}, {\"hoverlabel\": {\"namelength\": 0}, \"hovertemplate\": \"<b>%{hovertext}</b><br><br>city=%{text}<br>date=02-03<br>p=%{x}<br>beta=%{y}<br>size=%{marker.size}\", \"hovertext\": [332.0], \"legendgroup\": \"\\u9102\\u5dde\", \"marker\": {\"color\": \"#FFA15A\", \"size\": [332.0], \"sizemode\": \"area\", \"sizeref\": 2.7606611570247934, \"symbol\": \"circle\"}, \"mode\": \"markers+text\", \"name\": \"\\u9102\\u5dde\", \"showlegend\": true, \"text\": [\"\\u9102\\u5dde\"], \"x\": [0.0003133553563001416], \"xaxis\": \"x\", \"y\": [0.2788524366609897], \"yaxis\": \"y\", \"type\": \"scatter\"}, {\"hoverlabel\": {\"namelength\": 0}, \"hovertemplate\": \"<b>%{hovertext}</b><br><br>city=%{text}<br>date=02-03<br>p=%{x}<br>beta=%{y}<br>size=%{marker.size}\", \"hovertext\": [269.0], \"legendgroup\": \"\\u6df1\\u5733\", \"marker\": {\"color\": \"#19d3f3\", \"size\": [269.0], \"sizemode\": \"area\", \"sizeref\": 2.7606611570247934, \"symbol\": \"circle\"}, \"mode\": \"markers+text\", \"name\": \"\\u6df1\\u5733\", \"showlegend\": true, \"text\": [\"\\u6df1\\u5733\"], \"x\": [2.364710432856289e-05], \"xaxis\": \"x\", \"y\": [0.2928807846543233], \"yaxis\": \"y\", \"type\": \"scatter\"}, {\"hoverlabel\": {\"namelength\": 0}, \"hovertemplate\": \"<b>%{hovertext}</b><br><br>city=%{text}<br>date=02-03<br>p=%{x}<br>beta=%{y}<br>size=%{marker.size}\", \"hovertext\": [216.0], \"legendgroup\": \"\\u5e7f\\u5dde\", \"marker\": {\"color\": \"#FF6692\", \"size\": [216.0], \"sizemode\": \"area\", \"sizeref\": 2.7606611570247934, \"symbol\": \"circle\"}, \"mode\": \"markers+text\", \"name\": \"\\u5e7f\\u5dde\", \"showlegend\": true, \"text\": [\"\\u5e7f\\u5dde\"], \"x\": [1.600284495021337e-05], \"xaxis\": \"x\", \"y\": [0.30094520153020377], \"yaxis\": \"y\", \"type\": \"scatter\"}, {\"hoverlabel\": {\"namelength\": 0}, \"hovertemplate\": \"<b>%{hovertext}</b><br><br>city=%{text}<br>date=02-03<br>p=%{x}<br>beta=%{y}<br>size=%{marker.size}\", \"hovertext\": [64.0], \"legendgroup\": \"\\u73e0\\u6d77\", \"marker\": {\"color\": \"#B6E880\", \"size\": [64.0], \"sizemode\": \"area\", \"sizeref\": 2.7606611570247934, \"symbol\": \"circle\"}, \"mode\": \"markers+text\", \"name\": \"\\u73e0\\u6d77\", \"showlegend\": true, \"text\": [\"\\u73e0\\u6d77\"], \"x\": [3.917727717923604e-05], \"xaxis\": \"x\", \"y\": [0.3066755361744612], \"yaxis\": \"y\", \"type\": \"scatter\"}, {\"hoverlabel\": {\"namelength\": 0}, \"hovertemplate\": \"<b>%{hovertext}</b><br><br>city=%{text}<br>date=02-03<br>p=%{x}<br>beta=%{y}<br>size=%{marker.size}\", \"hovertext\": [59.0], \"legendgroup\": \"\\u65b0\\u4f59\", \"marker\": {\"color\": \"#FF97FF\", \"size\": [59.0], \"sizemode\": \"area\", \"sizeref\": 2.7606611570247934, \"symbol\": \"circle\"}, \"mode\": \"markers+text\", \"name\": \"\\u65b0\\u4f59\", \"showlegend\": true, \"text\": [\"\\u65b0\\u4f59\"], \"x\": [5.0569983714751004e-05], \"xaxis\": \"x\", \"y\": [0.2653958569275712], \"yaxis\": \"y\", \"type\": \"scatter\"}, {\"hoverlabel\": {\"namelength\": 0}, \"hovertemplate\": \"<b>%{hovertext}</b><br><br>city=%{text}<br>date=02-03<br>p=%{x}<br>beta=%{y}<br>size=%{marker.size}\", \"hovertext\": [340.0], \"legendgroup\": \"\\u6e29\\u5dde\", \"marker\": {\"color\": \"#FECB52\", \"size\": [340.0], \"sizemode\": \"area\", \"sizeref\": 2.7606611570247934, \"symbol\": \"circle\"}, \"mode\": \"markers+text\", \"name\": \"\\u6e29\\u5dde\", \"showlegend\": true, \"text\": [\"\\u6e29\\u5dde\"], \"x\": [3.729296917845783e-05], \"xaxis\": \"x\", \"y\": [0.2515653149245295], \"yaxis\": \"y\", \"type\": \"scatter\"}, {\"hoverlabel\": {\"namelength\": 0}, \"hovertemplate\": \"<b>%{hovertext}</b><br><br>city=%{text}<br>date=02-03<br>p=%{x}<br>beta=%{y}<br>size=%{marker.size}\", \"hovertext\": [212.0], \"legendgroup\": \"\\u5317\\u4eac\", \"marker\": {\"color\": \"#636efa\", \"size\": [212.0], \"sizemode\": \"area\", \"sizeref\": 2.7606611570247934, \"symbol\": \"circle\"}, \"mode\": \"markers+text\", \"name\": \"\\u5317\\u4eac\", \"showlegend\": true, \"text\": [\"\\u5317\\u4eac\"], \"x\": [9.76733471550334e-06], \"xaxis\": \"x\", \"y\": [0.24785526431651506], \"yaxis\": \"y\", \"type\": \"scatter\"}, {\"hoverlabel\": {\"namelength\": 0}, \"hovertemplate\": \"<b>%{hovertext}</b><br><br>city=%{text}<br>date=02-03<br>p=%{x}<br>beta=%{y}<br>size=%{marker.size}\", \"hovertext\": [208.0], \"legendgroup\": \"\\u4e0a\\u6d77\", \"marker\": {\"color\": \"#EF553B\", \"size\": [208.0], \"sizemode\": \"area\", \"sizeref\": 2.7606611570247934, \"symbol\": \"circle\"}, \"mode\": \"markers+text\", \"name\": \"\\u4e0a\\u6d77\", \"showlegend\": true, \"text\": [\"\\u4e0a\\u6d77\"], \"x\": [8.611873620754615e-06], \"xaxis\": \"x\", \"y\": [0.25094287845477764], \"yaxis\": \"y\", \"type\": \"scatter\"}], \"name\": \"02-03\"}, {\"data\": [{\"hoverlabel\": {\"namelength\": 0}, \"hovertemplate\": \"<b>%{hovertext}</b><br><br>city=%{text}<br>date=02-04<br>p=%{x}<br>beta=%{y}<br>size=%{marker.size}\", \"hovertext\": [8351.0], \"legendgroup\": \"\\u6b66\\u6c49\", \"marker\": {\"color\": \"#636efa\", \"size\": [8351.0], \"sizemode\": \"area\", \"sizeref\": 2.7606611570247934, \"symbol\": \"circle\"}, \"mode\": \"markers+text\", \"name\": \"\\u6b66\\u6c49\", \"showlegend\": true, \"text\": [\"\\u6b66\\u6c49\"], \"x\": [0.0007872583123580041], \"xaxis\": \"x\", \"y\": [0.3757527810325477], \"yaxis\": \"y\", \"type\": \"scatter\"}, {\"hoverlabel\": {\"namelength\": 0}, \"hovertemplate\": \"<b>%{hovertext}</b><br><br>city=%{text}<br>date=02-04<br>p=%{x}<br>beta=%{y}<br>size=%{marker.size}\", \"hovertext\": [1645.0], \"legendgroup\": \"\\u9ec4\\u5188\", \"marker\": {\"color\": \"#EF553B\", \"size\": [1645.0], \"sizemode\": \"area\", \"sizeref\": 2.7606611570247934, \"symbol\": \"circle\"}, \"mode\": \"markers+text\", \"name\": \"\\u9ec4\\u5188\", \"showlegend\": true, \"text\": [\"\\u9ec4\\u5188\"], \"x\": [0.00026148466062629155], \"xaxis\": \"x\", \"y\": [0.3126766588456143], \"yaxis\": \"y\", \"type\": \"scatter\"}, {\"hoverlabel\": {\"namelength\": 0}, \"hovertemplate\": \"<b>%{hovertext}</b><br><br>city=%{text}<br>date=02-04<br>p=%{x}<br>beta=%{y}<br>size=%{marker.size}\", \"hovertext\": [1462.0], \"legendgroup\": \"\\u5b5d\\u611f\", \"marker\": {\"color\": \"#00cc96\", \"size\": [1462.0], \"sizemode\": \"area\", \"sizeref\": 2.7606611570247934, \"symbol\": \"circle\"}, \"mode\": \"markers+text\", \"name\": \"\\u5b5d\\u611f\", \"showlegend\": true, \"text\": [\"\\u5b5d\\u611f\"], \"x\": [0.0002997129971299713], \"xaxis\": \"x\", \"y\": [0.36060762723149065], \"yaxis\": \"y\", \"type\": \"scatter\"}, {\"hoverlabel\": {\"namelength\": 0}, \"hovertemplate\": \"<b>%{hovertext}</b><br><br>city=%{text}<br>date=02-04<br>p=%{x}<br>beta=%{y}<br>size=%{marker.size}\", \"hovertext\": [735.0], \"legendgroup\": \"\\u8944\\u9633\", \"marker\": {\"color\": \"#ab63fa\", \"size\": [735.0], \"sizemode\": \"area\", \"sizeref\": 2.7606611570247934, \"symbol\": \"circle\"}, \"mode\": \"markers+text\", \"name\": \"\\u8944\\u9633\", \"showlegend\": true, \"text\": [\"\\u8944\\u9633\"], \"x\": [0.00013092269326683292], \"xaxis\": \"x\", \"y\": [0.317337422717143], \"yaxis\": \"y\", \"type\": \"scatter\"}, {\"hoverlabel\": {\"namelength\": 0}, \"hovertemplate\": \"<b>%{hovertext}</b><br><br>city=%{text}<br>date=02-04<br>p=%{x}<br>beta=%{y}<br>size=%{marker.size}\", \"hovertext\": [713.0], \"legendgroup\": \"\\u8346\\u5dde\", \"marker\": {\"color\": \"#FFA15A\", \"size\": [713.0], \"sizemode\": \"area\", \"sizeref\": 2.7606611570247934, \"symbol\": \"circle\"}, \"mode\": \"markers+text\", \"name\": \"\\u8346\\u5dde\", \"showlegend\": true, \"text\": [\"\\u8346\\u5dde\"], \"x\": [0.00012495837641739253], \"xaxis\": \"x\", \"y\": [0.4121550288375618], \"yaxis\": \"y\", \"type\": \"scatter\"}, {\"hoverlabel\": {\"namelength\": 0}, \"hovertemplate\": \"<b>%{hovertext}</b><br><br>city=%{text}<br>date=02-04<br>p=%{x}<br>beta=%{y}<br>size=%{marker.size}\", \"hovertext\": [422.0], \"legendgroup\": \"\\u8346\\u95e8\", \"marker\": {\"color\": \"#19d3f3\", \"size\": [422.0], \"sizemode\": \"area\", \"sizeref\": 2.7606611570247934, \"symbol\": \"circle\"}, \"mode\": \"markers+text\", \"name\": \"\\u8346\\u95e8\", \"showlegend\": true, \"text\": [\"\\u8346\\u95e8\"], \"x\": [0.0001457031384870352], \"xaxis\": \"x\", \"y\": [0.2278234842006869], \"yaxis\": \"y\", \"type\": \"scatter\"}, {\"hoverlabel\": {\"namelength\": 0}, \"hovertemplate\": \"<b>%{hovertext}</b><br><br>city=%{text}<br>date=02-04<br>p=%{x}<br>beta=%{y}<br>size=%{marker.size}\", \"hovertext\": [509.0], \"legendgroup\": \"\\u9ec4\\u77f3\", \"marker\": {\"color\": \"#FF6692\", \"size\": [509.0], \"sizemode\": \"area\", \"sizeref\": 2.7606611570247934, \"symbol\": \"circle\"}, \"mode\": \"markers+text\", \"name\": \"\\u9ec4\\u77f3\", \"showlegend\": true, \"text\": [\"\\u9ec4\\u77f3\"], \"x\": [0.00020707892595606185], \"xaxis\": \"x\", \"y\": [0.37945529132805983], \"yaxis\": \"y\", \"type\": \"scatter\"}, {\"hoverlabel\": {\"namelength\": 0}, \"hovertemplate\": \"<b>%{hovertext}</b><br><br>city=%{text}<br>date=02-04<br>p=%{x}<br>beta=%{y}<br>size=%{marker.size}\", \"hovertext\": [225.0], \"legendgroup\": \"\\u4ed9\\u6843\", \"marker\": {\"color\": \"#B6E880\", \"size\": [225.0], \"sizemode\": \"area\", \"sizeref\": 2.7606611570247934, \"symbol\": \"circle\"}, \"mode\": \"markers+text\", \"name\": \"\\u4ed9\\u6843\", \"showlegend\": true, \"text\": [\"\\u4ed9\\u6843\"], \"x\": [0.00014423076923076924], \"xaxis\": \"x\", \"y\": [0.2998607014407402], \"yaxis\": \"y\", \"type\": \"scatter\"}, {\"hoverlabel\": {\"namelength\": 0}, \"hovertemplate\": \"<b>%{hovertext}</b><br><br>city=%{text}<br>date=02-04<br>p=%{x}<br>beta=%{y}<br>size=%{marker.size}\", \"hovertext\": [128.0], \"legendgroup\": \"\\u5929\\u95e8\", \"marker\": {\"color\": \"#FF97FF\", \"size\": [128.0], \"sizemode\": \"area\", \"sizeref\": 2.7606611570247934, \"symbol\": \"circle\"}, \"mode\": \"markers+text\", \"name\": \"\\u5929\\u95e8\", \"showlegend\": true, \"text\": [\"\\u5929\\u95e8\"], \"x\": [0.00010078740157480316], \"xaxis\": \"x\", \"y\": [0.23154346148413385], \"yaxis\": \"y\", \"type\": \"scatter\"}, {\"hoverlabel\": {\"namelength\": 0}, \"hovertemplate\": \"<b>%{hovertext}</b><br><br>city=%{text}<br>date=02-04<br>p=%{x}<br>beta=%{y}<br>size=%{marker.size}\", \"hovertext\": [706.0], \"legendgroup\": \"\\u968f\\u5dde\", \"marker\": {\"color\": \"#FECB52\", \"size\": [706.0], \"sizemode\": \"area\", \"sizeref\": 2.7606611570247934, \"symbol\": \"circle\"}, \"mode\": \"markers+text\", \"name\": \"\\u968f\\u5dde\", \"showlegend\": true, \"text\": [\"\\u968f\\u5dde\"], \"x\": [0.00032225670987767025], \"xaxis\": \"x\", \"y\": [0.35708864103753946], \"yaxis\": \"y\", \"type\": \"scatter\"}, {\"hoverlabel\": {\"namelength\": 0}, \"hovertemplate\": \"<b>%{hovertext}</b><br><br>city=%{text}<br>date=02-04<br>p=%{x}<br>beta=%{y}<br>size=%{marker.size}\", \"hovertext\": [384.0], \"legendgroup\": \"\\u54b8\\u5b81\", \"marker\": {\"color\": \"#636efa\", \"size\": [384.0], \"sizemode\": \"area\", \"sizeref\": 2.7606611570247934, \"symbol\": \"circle\"}, \"mode\": \"markers+text\", \"name\": \"\\u54b8\\u5b81\", \"showlegend\": true, \"text\": [\"\\u54b8\\u5b81\"], \"x\": [0.00015317112086158754], \"xaxis\": \"x\", \"y\": [0.2989341487503769], \"yaxis\": \"y\", \"type\": \"scatter\"}, {\"hoverlabel\": {\"namelength\": 0}, \"hovertemplate\": \"<b>%{hovertext}</b><br><br>city=%{text}<br>date=02-04<br>p=%{x}<br>beta=%{y}<br>size=%{marker.size}\", \"hovertext\": [318.0], \"legendgroup\": \"\\u5341\\u5830\", \"marker\": {\"color\": \"#EF553B\", \"size\": [318.0], \"sizemode\": \"area\", \"sizeref\": 2.7606611570247934, \"symbol\": \"circle\"}, \"mode\": \"markers+text\", \"name\": \"\\u5341\\u5830\", \"showlegend\": true, \"text\": [\"\\u5341\\u5830\"], \"x\": [9.399940880874965e-05], \"xaxis\": \"x\", \"y\": [0.28615543778617164], \"yaxis\": \"y\", \"type\": \"scatter\"}, {\"hoverlabel\": {\"namelength\": 0}, \"hovertemplate\": \"<b>%{hovertext}</b><br><br>city=%{text}<br>date=02-04<br>p=%{x}<br>beta=%{y}<br>size=%{marker.size}\", \"hovertext\": [496.0], \"legendgroup\": \"\\u5b9c\\u660c\", \"marker\": {\"color\": \"#00cc96\", \"size\": [496.0], \"sizemode\": \"area\", \"sizeref\": 2.7606611570247934, \"symbol\": \"circle\"}, \"mode\": \"markers+text\", \"name\": \"\\u5b9c\\u660c\", \"showlegend\": true, \"text\": [\"\\u5b9c\\u660c\"], \"x\": [0.00012053462940461726], \"xaxis\": \"x\", \"y\": [0.25839759668691675], \"yaxis\": \"y\", \"type\": \"scatter\"}, {\"hoverlabel\": {\"namelength\": 0}, \"hovertemplate\": \"<b>%{hovertext}</b><br><br>city=%{text}<br>date=02-04<br>p=%{x}<br>beta=%{y}<br>size=%{marker.size}\", \"hovertext\": [138.0], \"legendgroup\": \"\\u6069\\u65bd\", \"marker\": {\"color\": \"#ab63fa\", \"size\": [138.0], \"sizemode\": \"area\", \"sizeref\": 2.7606611570247934, \"symbol\": \"circle\"}, \"mode\": \"markers+text\", \"name\": \"\\u6069\\u65bd\", \"showlegend\": true, \"text\": [\"\\u6069\\u65bd\"], \"x\": [4.147880973850316e-05], \"xaxis\": \"x\", \"y\": [0.22901628321744336], \"yaxis\": \"y\", \"type\": \"scatter\"}, {\"hoverlabel\": {\"namelength\": 0}, \"hovertemplate\": \"<b>%{hovertext}</b><br><br>city=%{text}<br>date=02-04<br>p=%{x}<br>beta=%{y}<br>size=%{marker.size}\", \"hovertext\": [382.0], \"legendgroup\": \"\\u9102\\u5dde\", \"marker\": {\"color\": \"#FFA15A\", \"size\": [382.0], \"sizemode\": \"area\", \"sizeref\": 2.7606611570247934, \"symbol\": \"circle\"}, \"mode\": \"markers+text\", \"name\": \"\\u9102\\u5dde\", \"showlegend\": true, \"text\": [\"\\u9102\\u5dde\"], \"x\": [0.0003605474280320906], \"xaxis\": \"x\", \"y\": [0.24408669023057866], \"yaxis\": \"y\", \"type\": \"scatter\"}, {\"hoverlabel\": {\"namelength\": 0}, \"hovertemplate\": \"<b>%{hovertext}</b><br><br>city=%{text}<br>date=02-04<br>p=%{x}<br>beta=%{y}<br>size=%{marker.size}\", \"hovertext\": [289.0], \"legendgroup\": \"\\u6df1\\u5733\", \"marker\": {\"color\": \"#19d3f3\", \"size\": [289.0], \"sizemode\": \"area\", \"sizeref\": 2.7606611570247934, \"symbol\": \"circle\"}, \"mode\": \"markers+text\", \"name\": \"\\u6df1\\u5733\", \"showlegend\": true, \"text\": [\"\\u6df1\\u5733\"], \"x\": [2.5405253349273887e-05], \"xaxis\": \"x\", \"y\": [0.28002330605625514], \"yaxis\": \"y\", \"type\": \"scatter\"}, {\"hoverlabel\": {\"namelength\": 0}, \"hovertemplate\": \"<b>%{hovertext}</b><br><br>city=%{text}<br>date=02-04<br>p=%{x}<br>beta=%{y}<br>size=%{marker.size}\", \"hovertext\": [237.0], \"legendgroup\": \"\\u5e7f\\u5dde\", \"marker\": {\"color\": \"#FF6692\", \"size\": [237.0], \"sizemode\": \"area\", \"sizeref\": 2.7606611570247934, \"symbol\": \"circle\"}, \"mode\": \"markers+text\", \"name\": \"\\u5e7f\\u5dde\", \"showlegend\": true, \"text\": [\"\\u5e7f\\u5dde\"], \"x\": [1.7558677098150782e-05], \"xaxis\": \"x\", \"y\": [0.24377645887981614], \"yaxis\": \"y\", \"type\": \"scatter\"}, {\"hoverlabel\": {\"namelength\": 0}, \"hovertemplate\": \"<b>%{hovertext}</b><br><br>city=%{text}<br>date=02-04<br>p=%{x}<br>beta=%{y}<br>size=%{marker.size}\", \"hovertext\": [69.0], \"legendgroup\": \"\\u73e0\\u6d77\", \"marker\": {\"color\": \"#B6E880\", \"size\": [69.0], \"sizemode\": \"area\", \"sizeref\": 2.7606611570247934, \"symbol\": \"circle\"}, \"mode\": \"markers+text\", \"name\": \"\\u73e0\\u6d77\", \"showlegend\": true, \"text\": [\"\\u73e0\\u6d77\"], \"x\": [4.223800195886386e-05], \"xaxis\": \"x\", \"y\": [0.3296886893113541], \"yaxis\": \"y\", \"type\": \"scatter\"}, {\"hoverlabel\": {\"namelength\": 0}, \"hovertemplate\": \"<b>%{hovertext}</b><br><br>city=%{text}<br>date=02-04<br>p=%{x}<br>beta=%{y}<br>size=%{marker.size}\", \"hovertext\": [69.0], \"legendgroup\": \"\\u65b0\\u4f59\", \"marker\": {\"color\": \"#FF97FF\", \"size\": [69.0], \"sizemode\": \"area\", \"sizeref\": 2.7606611570247934, \"symbol\": \"circle\"}, \"mode\": \"markers+text\", \"name\": \"\\u65b0\\u4f59\", \"showlegend\": true, \"text\": [\"\\u65b0\\u4f59\"], \"x\": [5.9141167395217284e-05], \"xaxis\": \"x\", \"y\": [0.3003443033052107], \"yaxis\": \"y\", \"type\": \"scatter\"}, {\"hoverlabel\": {\"namelength\": 0}, \"hovertemplate\": \"<b>%{hovertext}</b><br><br>city=%{text}<br>date=02-04<br>p=%{x}<br>beta=%{y}<br>size=%{marker.size}\", \"hovertext\": [364.0], \"legendgroup\": \"\\u6e29\\u5dde\", \"marker\": {\"color\": \"#FECB52\", \"size\": [364.0], \"sizemode\": \"area\", \"sizeref\": 2.7606611570247934, \"symbol\": \"circle\"}, \"mode\": \"markers+text\", \"name\": \"\\u6e29\\u5dde\", \"showlegend\": true, \"text\": [\"\\u6e29\\u5dde\"], \"x\": [3.992541406164309e-05], \"xaxis\": \"x\", \"y\": [0.2528374091217906], \"yaxis\": \"y\", \"type\": \"scatter\"}, {\"hoverlabel\": {\"namelength\": 0}, \"hovertemplate\": \"<b>%{hovertext}</b><br><br>city=%{text}<br>date=02-04<br>p=%{x}<br>beta=%{y}<br>size=%{marker.size}\", \"hovertext\": [228.0], \"legendgroup\": \"\\u5317\\u4eac\", \"marker\": {\"color\": \"#636efa\", \"size\": [228.0], \"sizemode\": \"area\", \"sizeref\": 2.7606611570247934, \"symbol\": \"circle\"}, \"mode\": \"markers+text\", \"name\": \"\\u5317\\u4eac\", \"showlegend\": true, \"text\": [\"\\u5317\\u4eac\"], \"x\": [1.0504492052522459e-05], \"xaxis\": \"x\", \"y\": [0.21450977326398746], \"yaxis\": \"y\", \"type\": \"scatter\"}, {\"hoverlabel\": {\"namelength\": 0}, \"hovertemplate\": \"<b>%{hovertext}</b><br><br>city=%{text}<br>date=02-04<br>p=%{x}<br>beta=%{y}<br>size=%{marker.size}\", \"hovertext\": [233.0], \"legendgroup\": \"\\u4e0a\\u6d77\", \"marker\": {\"color\": \"#EF553B\", \"size\": [233.0], \"sizemode\": \"area\", \"sizeref\": 2.7606611570247934, \"symbol\": \"circle\"}, \"mode\": \"markers+text\", \"name\": \"\\u4e0a\\u6d77\", \"showlegend\": true, \"text\": [\"\\u4e0a\\u6d77\"], \"x\": [9.646954584787622e-06], \"xaxis\": \"x\", \"y\": [0.23143388453666405], \"yaxis\": \"y\", \"type\": \"scatter\"}], \"name\": \"02-04\"}]);\n",
       "                        }).then(function(){\n",
       "                            \n",
       "var gd = document.getElementById('cf8dec38-ad91-4b25-839b-26a083fd2a51');\n",
       "var x = new MutationObserver(function (mutations, observer) {{\n",
       "        var display = window.getComputedStyle(gd).display;\n",
       "        if (!display || display === 'none') {{\n",
       "            console.log([gd, 'removed!']);\n",
       "            Plotly.purge(gd);\n",
       "            observer.disconnect();\n",
       "        }}\n",
       "}});\n",
       "\n",
       "// Listen for the removal of the full notebook cells\n",
       "var notebookContainer = gd.closest('#notebook-container');\n",
       "if (notebookContainer) {{\n",
       "    x.observe(notebookContainer, {childList: true});\n",
       "}}\n",
       "\n",
       "// Listen for the clearing of the current output cell\n",
       "var outputEl = gd.closest('.output');\n",
       "if (outputEl) {{\n",
       "    x.observe(outputEl, {childList: true});\n",
       "}}\n",
       "\n",
       "                        })\n",
       "                };\n",
       "                });\n",
       "            </script>\n",
       "        </div>"
      ]
     },
     "metadata": {},
     "output_type": "display_data"
    }
   ],
   "source": [
    "import plotly.express as px\n",
    "import pandas as pd\n",
    "import numpy as np\n",
    "df = pd.read_csv('/Users/garyyi/OneDrive/myReseach/epidemic/analysis/model/est/0205/beta_window_4.csv',index_col=0)\n",
    "sel_city_list=pd.read_csv('/Users/garyyi/OneDrive/myReseach/epidemic/analysis/visualization/city_list.csv')\n",
    "df_sel=df[df['city'].isin(sel_city_list.city.to_list())]\n",
    "df_sel=df_sel[df_sel['date']>'01-27']\n",
    "df_sel['size']=df_sel['I']\n",
    "px.scatter(df_sel, x=\"p\", y=\"beta\", color='city',animation_frame=\"date\", text='city',\n",
    "                 size='size',hover_name=\"I\", size_max=55, log_x=True, range_x=[0.000001,0.001],\n",
    "           range_y=[0,1], render_mode=\"auto\")\n"
   ]
  },
  {
   "cell_type": "code",
   "execution_count": null,
   "metadata": {},
   "outputs": [],
   "source": [
    "# "
   ]
  }
 ],
 "metadata": {
  "kernelspec": {
   "display_name": "Python 3",
   "language": "python",
   "name": "python3"
  },
  "language_info": {
   "codemirror_mode": {
    "name": "ipython",
    "version": 3
   },
   "file_extension": ".py",
   "mimetype": "text/x-python",
   "name": "python",
   "nbconvert_exporter": "python",
   "pygments_lexer": "ipython3",
   "version": "3.7.3"
  }
 },
 "nbformat": 4,
 "nbformat_minor": 2
}
